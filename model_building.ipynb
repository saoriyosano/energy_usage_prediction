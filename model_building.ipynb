{
 "cells": [
  {
   "attachments": {},
   "cell_type": "markdown",
   "metadata": {},
   "source": [
    "# Energy Usage Prediction - Model Building"
   ]
  },
  {
   "cell_type": "code",
   "execution_count": 2,
   "metadata": {},
   "outputs": [],
   "source": [
    "import pandas as pd\n",
    "import numpy as np"
   ]
  },
  {
   "attachments": {},
   "cell_type": "markdown",
   "metadata": {},
   "source": [
    "## Load dataset"
   ]
  },
  {
   "cell_type": "code",
   "execution_count": 4,
   "metadata": {},
   "outputs": [],
   "source": [
    "train_path = 'data/train.csv'\n",
    "test_path = 'data/test.csv'\n",
    "\n",
    "train_df = pd.read_csv(train_path)\n",
    "test_df = pd.read_csv(test_path)"
   ]
  },
  {
   "cell_type": "code",
   "execution_count": 5,
   "metadata": {},
   "outputs": [],
   "source": [
    "# replace 0s in year_built with np.nan\n",
    "train_df.year_built = train_df.year_built.replace(0, np.nan)\n",
    "test_df.year_built = test_df.year_built.replace(0, np.nan)"
   ]
  },
  {
   "cell_type": "code",
   "execution_count": 6,
   "metadata": {},
   "outputs": [
    {
     "name": "stdout",
     "output_type": "stream",
     "text": [
      "0\n",
      "0\n"
     ]
    }
   ],
   "source": [
    "# check for duplicates\n",
    "print(train_df.duplicated().sum())\n",
    "print(test_df.duplicated().sum())"
   ]
  },
  {
   "attachments": {},
   "cell_type": "markdown",
   "metadata": {},
   "source": [
    "## Create X and y"
   ]
  },
  {
   "cell_type": "code",
   "execution_count": 7,
   "metadata": {},
   "outputs": [],
   "source": [
    "X = train_df.drop(['site_eui', 'id'], axis=1)\n",
    "y = train_df.site_eui"
   ]
  },
  {
   "cell_type": "code",
   "execution_count": 8,
   "metadata": {},
   "outputs": [],
   "source": [
    "from sklearn import model_selection\n",
    "\n",
    "X_train, X_val, y_train, y_val = model_selection.train_test_split(\n",
    "    X, y, test_size=.1, random_state=25\n",
    ")"
   ]
  },
  {
   "cell_type": "code",
   "execution_count": 9,
   "metadata": {},
   "outputs": [],
   "source": [
    "X_test = test_df.drop(['id'], axis=1)"
   ]
  },
  {
   "attachments": {},
   "cell_type": "markdown",
   "metadata": {},
   "source": [
    "## Data preprocessing"
   ]
  },
  {
   "cell_type": "code",
   "execution_count": 10,
   "metadata": {},
   "outputs": [],
   "source": [
    "from sklearn import pipeline\n",
    "from sklearn import impute\n",
    "from sklearn import preprocessing\n",
    "from sklearn import compose"
   ]
  },
  {
   "cell_type": "code",
   "execution_count": 11,
   "metadata": {},
   "outputs": [],
   "source": [
    "num_pipe = pipeline.Pipeline([\n",
    "    ('median_imputer', impute.SimpleImputer(strategy=\"median\")),\n",
    "    ('standard_scaler', preprocessing.StandardScaler())\n",
    "    ])"
   ]
  },
  {
   "cell_type": "code",
   "execution_count": 12,
   "metadata": {},
   "outputs": [],
   "source": [
    "cat_pipe = pipeline.Pipeline([\n",
    "    ('ohe', preprocessing.OneHotEncoder(min_frequency=.05, handle_unknown='ignore'))\n",
    "])"
   ]
  },
  {
   "cell_type": "code",
   "execution_count": 13,
   "metadata": {},
   "outputs": [],
   "source": [
    "# combine num_pipe and cat_pipe\n",
    "preproc = compose.ColumnTransformer([\n",
    "    ('num_pipe', num_pipe, X_train.select_dtypes(exclude=['object']).columns),\n",
    "    ('cat_pipe', cat_pipe, X_train.select_dtypes(include=['object']).columns)\n",
    "])"
   ]
  },
  {
   "cell_type": "code",
   "execution_count": 14,
   "metadata": {},
   "outputs": [
    {
     "data": {
      "text/html": [
       "<style>#sk-container-id-1 {color: black;background-color: white;}#sk-container-id-1 pre{padding: 0;}#sk-container-id-1 div.sk-toggleable {background-color: white;}#sk-container-id-1 label.sk-toggleable__label {cursor: pointer;display: block;width: 100%;margin-bottom: 0;padding: 0.3em;box-sizing: border-box;text-align: center;}#sk-container-id-1 label.sk-toggleable__label-arrow:before {content: \"▸\";float: left;margin-right: 0.25em;color: #696969;}#sk-container-id-1 label.sk-toggleable__label-arrow:hover:before {color: black;}#sk-container-id-1 div.sk-estimator:hover label.sk-toggleable__label-arrow:before {color: black;}#sk-container-id-1 div.sk-toggleable__content {max-height: 0;max-width: 0;overflow: hidden;text-align: left;background-color: #f0f8ff;}#sk-container-id-1 div.sk-toggleable__content pre {margin: 0.2em;color: black;border-radius: 0.25em;background-color: #f0f8ff;}#sk-container-id-1 input.sk-toggleable__control:checked~div.sk-toggleable__content {max-height: 200px;max-width: 100%;overflow: auto;}#sk-container-id-1 input.sk-toggleable__control:checked~label.sk-toggleable__label-arrow:before {content: \"▾\";}#sk-container-id-1 div.sk-estimator input.sk-toggleable__control:checked~label.sk-toggleable__label {background-color: #d4ebff;}#sk-container-id-1 div.sk-label input.sk-toggleable__control:checked~label.sk-toggleable__label {background-color: #d4ebff;}#sk-container-id-1 input.sk-hidden--visually {border: 0;clip: rect(1px 1px 1px 1px);clip: rect(1px, 1px, 1px, 1px);height: 1px;margin: -1px;overflow: hidden;padding: 0;position: absolute;width: 1px;}#sk-container-id-1 div.sk-estimator {font-family: monospace;background-color: #f0f8ff;border: 1px dotted black;border-radius: 0.25em;box-sizing: border-box;margin-bottom: 0.5em;}#sk-container-id-1 div.sk-estimator:hover {background-color: #d4ebff;}#sk-container-id-1 div.sk-parallel-item::after {content: \"\";width: 100%;border-bottom: 1px solid gray;flex-grow: 1;}#sk-container-id-1 div.sk-label:hover label.sk-toggleable__label {background-color: #d4ebff;}#sk-container-id-1 div.sk-serial::before {content: \"\";position: absolute;border-left: 1px solid gray;box-sizing: border-box;top: 0;bottom: 0;left: 50%;z-index: 0;}#sk-container-id-1 div.sk-serial {display: flex;flex-direction: column;align-items: center;background-color: white;padding-right: 0.2em;padding-left: 0.2em;position: relative;}#sk-container-id-1 div.sk-item {position: relative;z-index: 1;}#sk-container-id-1 div.sk-parallel {display: flex;align-items: stretch;justify-content: center;background-color: white;position: relative;}#sk-container-id-1 div.sk-item::before, #sk-container-id-1 div.sk-parallel-item::before {content: \"\";position: absolute;border-left: 1px solid gray;box-sizing: border-box;top: 0;bottom: 0;left: 50%;z-index: -1;}#sk-container-id-1 div.sk-parallel-item {display: flex;flex-direction: column;z-index: 1;position: relative;background-color: white;}#sk-container-id-1 div.sk-parallel-item:first-child::after {align-self: flex-end;width: 50%;}#sk-container-id-1 div.sk-parallel-item:last-child::after {align-self: flex-start;width: 50%;}#sk-container-id-1 div.sk-parallel-item:only-child::after {width: 0;}#sk-container-id-1 div.sk-dashed-wrapped {border: 1px dashed gray;margin: 0 0.4em 0.5em 0.4em;box-sizing: border-box;padding-bottom: 0.4em;background-color: white;}#sk-container-id-1 div.sk-label label {font-family: monospace;font-weight: bold;display: inline-block;line-height: 1.2em;}#sk-container-id-1 div.sk-label-container {text-align: center;}#sk-container-id-1 div.sk-container {/* jupyter's `normalize.less` sets `[hidden] { display: none; }` but bootstrap.min.css set `[hidden] { display: none !important; }` so we also need the `!important` here to be able to override the default hidden behavior on the sphinx rendered scikit-learn.org. See: https://github.com/scikit-learn/scikit-learn/issues/21755 */display: inline-block !important;position: relative;}#sk-container-id-1 div.sk-text-repr-fallback {display: none;}</style><div id=\"sk-container-id-1\" class=\"sk-top-container\"><div class=\"sk-text-repr-fallback\"><pre>ColumnTransformer(transformers=[(&#x27;num_pipe&#x27;,\n",
       "                                 Pipeline(steps=[(&#x27;median_imputer&#x27;,\n",
       "                                                  SimpleImputer(strategy=&#x27;median&#x27;)),\n",
       "                                                 (&#x27;standard_scaler&#x27;,\n",
       "                                                  StandardScaler())]),\n",
       "                                 Index([&#x27;Year_Factor&#x27;, &#x27;floor_area&#x27;, &#x27;year_built&#x27;, &#x27;energy_star_rating&#x27;,\n",
       "       &#x27;ELEVATION&#x27;, &#x27;january_min_temp&#x27;, &#x27;january_avg_temp&#x27;, &#x27;january_max_temp&#x27;,\n",
       "       &#x27;february_min_temp&#x27;, &#x27;february_avg_temp&#x27;, &#x27;february_max_temp&#x27;,\n",
       "       &#x27;m...\n",
       "       &#x27;days_below_10F&#x27;, &#x27;days_below_0F&#x27;, &#x27;days_above_80F&#x27;, &#x27;days_above_90F&#x27;,\n",
       "       &#x27;days_above_100F&#x27;, &#x27;days_above_110F&#x27;, &#x27;direction_max_wind_speed&#x27;,\n",
       "       &#x27;direction_peak_wind_speed&#x27;, &#x27;max_wind_speed&#x27;, &#x27;days_with_fog&#x27;],\n",
       "      dtype=&#x27;object&#x27;)),\n",
       "                                (&#x27;cat_pipe&#x27;,\n",
       "                                 Pipeline(steps=[(&#x27;ohe&#x27;,\n",
       "                                                  OneHotEncoder(handle_unknown=&#x27;ignore&#x27;,\n",
       "                                                                min_frequency=0.05))]),\n",
       "                                 Index([&#x27;State_Factor&#x27;, &#x27;building_class&#x27;, &#x27;facility_type&#x27;], dtype=&#x27;object&#x27;))])</pre><b>In a Jupyter environment, please rerun this cell to show the HTML representation or trust the notebook. <br />On GitHub, the HTML representation is unable to render, please try loading this page with nbviewer.org.</b></div><div class=\"sk-container\" hidden><div class=\"sk-item sk-dashed-wrapped\"><div class=\"sk-label-container\"><div class=\"sk-label sk-toggleable\"><input class=\"sk-toggleable__control sk-hidden--visually\" id=\"sk-estimator-id-1\" type=\"checkbox\" ><label for=\"sk-estimator-id-1\" class=\"sk-toggleable__label sk-toggleable__label-arrow\">ColumnTransformer</label><div class=\"sk-toggleable__content\"><pre>ColumnTransformer(transformers=[(&#x27;num_pipe&#x27;,\n",
       "                                 Pipeline(steps=[(&#x27;median_imputer&#x27;,\n",
       "                                                  SimpleImputer(strategy=&#x27;median&#x27;)),\n",
       "                                                 (&#x27;standard_scaler&#x27;,\n",
       "                                                  StandardScaler())]),\n",
       "                                 Index([&#x27;Year_Factor&#x27;, &#x27;floor_area&#x27;, &#x27;year_built&#x27;, &#x27;energy_star_rating&#x27;,\n",
       "       &#x27;ELEVATION&#x27;, &#x27;january_min_temp&#x27;, &#x27;january_avg_temp&#x27;, &#x27;january_max_temp&#x27;,\n",
       "       &#x27;february_min_temp&#x27;, &#x27;february_avg_temp&#x27;, &#x27;february_max_temp&#x27;,\n",
       "       &#x27;m...\n",
       "       &#x27;days_below_10F&#x27;, &#x27;days_below_0F&#x27;, &#x27;days_above_80F&#x27;, &#x27;days_above_90F&#x27;,\n",
       "       &#x27;days_above_100F&#x27;, &#x27;days_above_110F&#x27;, &#x27;direction_max_wind_speed&#x27;,\n",
       "       &#x27;direction_peak_wind_speed&#x27;, &#x27;max_wind_speed&#x27;, &#x27;days_with_fog&#x27;],\n",
       "      dtype=&#x27;object&#x27;)),\n",
       "                                (&#x27;cat_pipe&#x27;,\n",
       "                                 Pipeline(steps=[(&#x27;ohe&#x27;,\n",
       "                                                  OneHotEncoder(handle_unknown=&#x27;ignore&#x27;,\n",
       "                                                                min_frequency=0.05))]),\n",
       "                                 Index([&#x27;State_Factor&#x27;, &#x27;building_class&#x27;, &#x27;facility_type&#x27;], dtype=&#x27;object&#x27;))])</pre></div></div></div><div class=\"sk-parallel\"><div class=\"sk-parallel-item\"><div class=\"sk-item\"><div class=\"sk-label-container\"><div class=\"sk-label sk-toggleable\"><input class=\"sk-toggleable__control sk-hidden--visually\" id=\"sk-estimator-id-2\" type=\"checkbox\" ><label for=\"sk-estimator-id-2\" class=\"sk-toggleable__label sk-toggleable__label-arrow\">num_pipe</label><div class=\"sk-toggleable__content\"><pre>Index([&#x27;Year_Factor&#x27;, &#x27;floor_area&#x27;, &#x27;year_built&#x27;, &#x27;energy_star_rating&#x27;,\n",
       "       &#x27;ELEVATION&#x27;, &#x27;january_min_temp&#x27;, &#x27;january_avg_temp&#x27;, &#x27;january_max_temp&#x27;,\n",
       "       &#x27;february_min_temp&#x27;, &#x27;february_avg_temp&#x27;, &#x27;february_max_temp&#x27;,\n",
       "       &#x27;march_min_temp&#x27;, &#x27;march_avg_temp&#x27;, &#x27;march_max_temp&#x27;, &#x27;april_min_temp&#x27;,\n",
       "       &#x27;april_avg_temp&#x27;, &#x27;april_max_temp&#x27;, &#x27;may_min_temp&#x27;, &#x27;may_avg_temp&#x27;,\n",
       "       &#x27;may_max_temp&#x27;, &#x27;june_min_temp&#x27;, &#x27;june_avg_temp&#x27;, &#x27;june_max_temp&#x27;,\n",
       "       &#x27;july_min_temp&#x27;, &#x27;july_avg_temp&#x27;, &#x27;july_max_temp&#x27;, &#x27;august_min_temp&#x27;,\n",
       "       &#x27;august_avg_temp&#x27;, &#x27;august_max_temp&#x27;, &#x27;september_min_temp&#x27;,\n",
       "       &#x27;september_avg_temp&#x27;, &#x27;september_max_temp&#x27;, &#x27;october_min_temp&#x27;,\n",
       "       &#x27;october_avg_temp&#x27;, &#x27;october_max_temp&#x27;, &#x27;november_min_temp&#x27;,\n",
       "       &#x27;november_avg_temp&#x27;, &#x27;november_max_temp&#x27;, &#x27;december_min_temp&#x27;,\n",
       "       &#x27;december_avg_temp&#x27;, &#x27;december_max_temp&#x27;, &#x27;cooling_degree_days&#x27;,\n",
       "       &#x27;heating_degree_days&#x27;, &#x27;precipitation_inches&#x27;, &#x27;snowfall_inches&#x27;,\n",
       "       &#x27;snowdepth_inches&#x27;, &#x27;avg_temp&#x27;, &#x27;days_below_30F&#x27;, &#x27;days_below_20F&#x27;,\n",
       "       &#x27;days_below_10F&#x27;, &#x27;days_below_0F&#x27;, &#x27;days_above_80F&#x27;, &#x27;days_above_90F&#x27;,\n",
       "       &#x27;days_above_100F&#x27;, &#x27;days_above_110F&#x27;, &#x27;direction_max_wind_speed&#x27;,\n",
       "       &#x27;direction_peak_wind_speed&#x27;, &#x27;max_wind_speed&#x27;, &#x27;days_with_fog&#x27;],\n",
       "      dtype=&#x27;object&#x27;)</pre></div></div></div><div class=\"sk-serial\"><div class=\"sk-item\"><div class=\"sk-serial\"><div class=\"sk-item\"><div class=\"sk-estimator sk-toggleable\"><input class=\"sk-toggleable__control sk-hidden--visually\" id=\"sk-estimator-id-3\" type=\"checkbox\" ><label for=\"sk-estimator-id-3\" class=\"sk-toggleable__label sk-toggleable__label-arrow\">SimpleImputer</label><div class=\"sk-toggleable__content\"><pre>SimpleImputer(strategy=&#x27;median&#x27;)</pre></div></div></div><div class=\"sk-item\"><div class=\"sk-estimator sk-toggleable\"><input class=\"sk-toggleable__control sk-hidden--visually\" id=\"sk-estimator-id-4\" type=\"checkbox\" ><label for=\"sk-estimator-id-4\" class=\"sk-toggleable__label sk-toggleable__label-arrow\">StandardScaler</label><div class=\"sk-toggleable__content\"><pre>StandardScaler()</pre></div></div></div></div></div></div></div></div><div class=\"sk-parallel-item\"><div class=\"sk-item\"><div class=\"sk-label-container\"><div class=\"sk-label sk-toggleable\"><input class=\"sk-toggleable__control sk-hidden--visually\" id=\"sk-estimator-id-5\" type=\"checkbox\" ><label for=\"sk-estimator-id-5\" class=\"sk-toggleable__label sk-toggleable__label-arrow\">cat_pipe</label><div class=\"sk-toggleable__content\"><pre>Index([&#x27;State_Factor&#x27;, &#x27;building_class&#x27;, &#x27;facility_type&#x27;], dtype=&#x27;object&#x27;)</pre></div></div></div><div class=\"sk-serial\"><div class=\"sk-item\"><div class=\"sk-serial\"><div class=\"sk-item\"><div class=\"sk-estimator sk-toggleable\"><input class=\"sk-toggleable__control sk-hidden--visually\" id=\"sk-estimator-id-6\" type=\"checkbox\" ><label for=\"sk-estimator-id-6\" class=\"sk-toggleable__label sk-toggleable__label-arrow\">OneHotEncoder</label><div class=\"sk-toggleable__content\"><pre>OneHotEncoder(handle_unknown=&#x27;ignore&#x27;, min_frequency=0.05)</pre></div></div></div></div></div></div></div></div></div></div></div></div>"
      ],
      "text/plain": [
       "ColumnTransformer(transformers=[('num_pipe',\n",
       "                                 Pipeline(steps=[('median_imputer',\n",
       "                                                  SimpleImputer(strategy='median')),\n",
       "                                                 ('standard_scaler',\n",
       "                                                  StandardScaler())]),\n",
       "                                 Index(['Year_Factor', 'floor_area', 'year_built', 'energy_star_rating',\n",
       "       'ELEVATION', 'january_min_temp', 'january_avg_temp', 'january_max_temp',\n",
       "       'february_min_temp', 'february_avg_temp', 'february_max_temp',\n",
       "       'm...\n",
       "       'days_below_10F', 'days_below_0F', 'days_above_80F', 'days_above_90F',\n",
       "       'days_above_100F', 'days_above_110F', 'direction_max_wind_speed',\n",
       "       'direction_peak_wind_speed', 'max_wind_speed', 'days_with_fog'],\n",
       "      dtype='object')),\n",
       "                                ('cat_pipe',\n",
       "                                 Pipeline(steps=[('ohe',\n",
       "                                                  OneHotEncoder(handle_unknown='ignore',\n",
       "                                                                min_frequency=0.05))]),\n",
       "                                 Index(['State_Factor', 'building_class', 'facility_type'], dtype='object'))])"
      ]
     },
     "execution_count": 14,
     "metadata": {},
     "output_type": "execute_result"
    }
   ],
   "source": [
    "preproc"
   ]
  },
  {
   "cell_type": "code",
   "execution_count": 15,
   "metadata": {},
   "outputs": [],
   "source": [
    "# from sklearn import linear_model\n",
    "# from sklearn import metrics\n",
    "\n",
    "# model = linear_model.SGDRegressor(\n",
    "#     loss = rmse,\n",
    "#     early_stopping = True,\n",
    "#     validation_fraction = .1,\n",
    "#     n_iter_no_change = 5 \n",
    "# )"
   ]
  },
  {
   "cell_type": "code",
   "execution_count": 16,
   "metadata": {},
   "outputs": [],
   "source": [
    "# full_pipe = pipeline.make_pipeline(\n",
    "#     preproc,\n",
    "#     model\n",
    "# )"
   ]
  },
  {
   "cell_type": "code",
   "execution_count": 17,
   "metadata": {},
   "outputs": [],
   "source": [
    "X_train_preproc = pd.DataFrame(preproc.fit_transform(X_train), columns=preproc.get_feature_names_out())\n",
    "X_val_preproc = pd.DataFrame(preproc.transform(X_val), columns=preproc.get_feature_names_out())"
   ]
  },
  {
   "cell_type": "code",
   "execution_count": 18,
   "metadata": {},
   "outputs": [
    {
     "data": {
      "text/html": [
       "<div>\n",
       "<style scoped>\n",
       "    .dataframe tbody tr th:only-of-type {\n",
       "        vertical-align: middle;\n",
       "    }\n",
       "\n",
       "    .dataframe tbody tr th {\n",
       "        vertical-align: top;\n",
       "    }\n",
       "\n",
       "    .dataframe thead th {\n",
       "        text-align: right;\n",
       "    }\n",
       "</style>\n",
       "<table border=\"1\" class=\"dataframe\">\n",
       "  <thead>\n",
       "    <tr style=\"text-align: right;\">\n",
       "      <th></th>\n",
       "      <th>num_pipe__Year_Factor</th>\n",
       "      <th>num_pipe__floor_area</th>\n",
       "      <th>num_pipe__year_built</th>\n",
       "      <th>num_pipe__energy_star_rating</th>\n",
       "      <th>num_pipe__ELEVATION</th>\n",
       "      <th>num_pipe__january_min_temp</th>\n",
       "      <th>num_pipe__january_avg_temp</th>\n",
       "      <th>num_pipe__january_max_temp</th>\n",
       "      <th>num_pipe__february_min_temp</th>\n",
       "      <th>num_pipe__february_avg_temp</th>\n",
       "      <th>...</th>\n",
       "      <th>cat_pipe__State_Factor_State_2</th>\n",
       "      <th>cat_pipe__State_Factor_State_4</th>\n",
       "      <th>cat_pipe__State_Factor_State_6</th>\n",
       "      <th>cat_pipe__State_Factor_infrequent_sklearn</th>\n",
       "      <th>cat_pipe__building_class_Commercial</th>\n",
       "      <th>cat_pipe__building_class_Residential</th>\n",
       "      <th>cat_pipe__facility_type_Education_Other_classroom</th>\n",
       "      <th>cat_pipe__facility_type_Multifamily_Uncategorized</th>\n",
       "      <th>cat_pipe__facility_type_Office_Uncategorized</th>\n",
       "      <th>cat_pipe__facility_type_infrequent_sklearn</th>\n",
       "    </tr>\n",
       "  </thead>\n",
       "  <tbody>\n",
       "    <tr>\n",
       "      <th>0</th>\n",
       "      <td>0.430191</td>\n",
       "      <td>-0.442469</td>\n",
       "      <td>1.722111</td>\n",
       "      <td>-1.344469</td>\n",
       "      <td>-0.347695</td>\n",
       "      <td>1.765087</td>\n",
       "      <td>1.586583</td>\n",
       "      <td>0.734321</td>\n",
       "      <td>1.612140</td>\n",
       "      <td>1.441798</td>\n",
       "      <td>...</td>\n",
       "      <td>0.0</td>\n",
       "      <td>0.0</td>\n",
       "      <td>0.0</td>\n",
       "      <td>0.0</td>\n",
       "      <td>1.0</td>\n",
       "      <td>0.0</td>\n",
       "      <td>0.0</td>\n",
       "      <td>0.0</td>\n",
       "      <td>0.0</td>\n",
       "      <td>1.0</td>\n",
       "    </tr>\n",
       "    <tr>\n",
       "      <th>1</th>\n",
       "      <td>-0.927341</td>\n",
       "      <td>-0.327230</td>\n",
       "      <td>-0.821160</td>\n",
       "      <td>1.416306</td>\n",
       "      <td>-0.498010</td>\n",
       "      <td>1.125801</td>\n",
       "      <td>1.496712</td>\n",
       "      <td>1.106670</td>\n",
       "      <td>1.055693</td>\n",
       "      <td>1.393477</td>\n",
       "      <td>...</td>\n",
       "      <td>0.0</td>\n",
       "      <td>0.0</td>\n",
       "      <td>0.0</td>\n",
       "      <td>0.0</td>\n",
       "      <td>1.0</td>\n",
       "      <td>0.0</td>\n",
       "      <td>0.0</td>\n",
       "      <td>0.0</td>\n",
       "      <td>1.0</td>\n",
       "      <td>0.0</td>\n",
       "    </tr>\n",
       "    <tr>\n",
       "      <th>2</th>\n",
       "      <td>1.108957</td>\n",
       "      <td>3.865022</td>\n",
       "      <td>1.101801</td>\n",
       "      <td>1.243758</td>\n",
       "      <td>-0.213717</td>\n",
       "      <td>1.765087</td>\n",
       "      <td>1.305447</td>\n",
       "      <td>-0.568899</td>\n",
       "      <td>1.771125</td>\n",
       "      <td>1.368623</td>\n",
       "      <td>...</td>\n",
       "      <td>0.0</td>\n",
       "      <td>0.0</td>\n",
       "      <td>0.0</td>\n",
       "      <td>0.0</td>\n",
       "      <td>1.0</td>\n",
       "      <td>0.0</td>\n",
       "      <td>0.0</td>\n",
       "      <td>0.0</td>\n",
       "      <td>1.0</td>\n",
       "      <td>0.0</td>\n",
       "    </tr>\n",
       "    <tr>\n",
       "      <th>3</th>\n",
       "      <td>1.108957</td>\n",
       "      <td>-0.409567</td>\n",
       "      <td>-1.007253</td>\n",
       "      <td>-1.862114</td>\n",
       "      <td>-0.238225</td>\n",
       "      <td>-0.046224</td>\n",
       "      <td>0.019598</td>\n",
       "      <td>-0.010376</td>\n",
       "      <td>-1.011113</td>\n",
       "      <td>0.245040</td>\n",
       "      <td>...</td>\n",
       "      <td>0.0</td>\n",
       "      <td>0.0</td>\n",
       "      <td>1.0</td>\n",
       "      <td>0.0</td>\n",
       "      <td>0.0</td>\n",
       "      <td>1.0</td>\n",
       "      <td>0.0</td>\n",
       "      <td>1.0</td>\n",
       "      <td>0.0</td>\n",
       "      <td>0.0</td>\n",
       "    </tr>\n",
       "    <tr>\n",
       "      <th>4</th>\n",
       "      <td>-1.606107</td>\n",
       "      <td>-0.368781</td>\n",
       "      <td>-1.410454</td>\n",
       "      <td>-1.128783</td>\n",
       "      <td>-0.607480</td>\n",
       "      <td>1.658539</td>\n",
       "      <td>2.091244</td>\n",
       "      <td>1.851368</td>\n",
       "      <td>1.691633</td>\n",
       "      <td>1.817668</td>\n",
       "      <td>...</td>\n",
       "      <td>0.0</td>\n",
       "      <td>0.0</td>\n",
       "      <td>0.0</td>\n",
       "      <td>0.0</td>\n",
       "      <td>1.0</td>\n",
       "      <td>0.0</td>\n",
       "      <td>0.0</td>\n",
       "      <td>0.0</td>\n",
       "      <td>1.0</td>\n",
       "      <td>0.0</td>\n",
       "    </tr>\n",
       "    <tr>\n",
       "      <th>5</th>\n",
       "      <td>-0.248575</td>\n",
       "      <td>-0.366497</td>\n",
       "      <td>-0.417958</td>\n",
       "      <td>0.639838</td>\n",
       "      <td>-0.591141</td>\n",
       "      <td>-0.792057</td>\n",
       "      <td>-0.816895</td>\n",
       "      <td>-0.196551</td>\n",
       "      <td>-0.216188</td>\n",
       "      <td>-0.440677</td>\n",
       "      <td>...</td>\n",
       "      <td>0.0</td>\n",
       "      <td>0.0</td>\n",
       "      <td>1.0</td>\n",
       "      <td>0.0</td>\n",
       "      <td>0.0</td>\n",
       "      <td>1.0</td>\n",
       "      <td>0.0</td>\n",
       "      <td>1.0</td>\n",
       "      <td>0.0</td>\n",
       "      <td>0.0</td>\n",
       "    </tr>\n",
       "    <tr>\n",
       "      <th>6</th>\n",
       "      <td>1.108957</td>\n",
       "      <td>-0.556302</td>\n",
       "      <td>-0.697098</td>\n",
       "      <td>0.165330</td>\n",
       "      <td>0.099985</td>\n",
       "      <td>2.724016</td>\n",
       "      <td>2.625863</td>\n",
       "      <td>0.548147</td>\n",
       "      <td>2.407066</td>\n",
       "      <td>2.414450</td>\n",
       "      <td>...</td>\n",
       "      <td>0.0</td>\n",
       "      <td>0.0</td>\n",
       "      <td>0.0</td>\n",
       "      <td>0.0</td>\n",
       "      <td>1.0</td>\n",
       "      <td>0.0</td>\n",
       "      <td>1.0</td>\n",
       "      <td>0.0</td>\n",
       "      <td>0.0</td>\n",
       "      <td>0.0</td>\n",
       "    </tr>\n",
       "    <tr>\n",
       "      <th>7</th>\n",
       "      <td>-0.248575</td>\n",
       "      <td>-0.390656</td>\n",
       "      <td>-0.728113</td>\n",
       "      <td>-1.430743</td>\n",
       "      <td>-0.591141</td>\n",
       "      <td>-0.792057</td>\n",
       "      <td>-0.816895</td>\n",
       "      <td>-0.196551</td>\n",
       "      <td>-0.216188</td>\n",
       "      <td>-0.440677</td>\n",
       "      <td>...</td>\n",
       "      <td>0.0</td>\n",
       "      <td>0.0</td>\n",
       "      <td>1.0</td>\n",
       "      <td>0.0</td>\n",
       "      <td>0.0</td>\n",
       "      <td>1.0</td>\n",
       "      <td>0.0</td>\n",
       "      <td>1.0</td>\n",
       "      <td>0.0</td>\n",
       "      <td>0.0</td>\n",
       "    </tr>\n",
       "    <tr>\n",
       "      <th>8</th>\n",
       "      <td>-1.606107</td>\n",
       "      <td>-0.380358</td>\n",
       "      <td>-0.014757</td>\n",
       "      <td>0.165330</td>\n",
       "      <td>0.050969</td>\n",
       "      <td>0.166872</td>\n",
       "      <td>0.429779</td>\n",
       "      <td>0.548147</td>\n",
       "      <td>0.658230</td>\n",
       "      <td>0.602720</td>\n",
       "      <td>...</td>\n",
       "      <td>0.0</td>\n",
       "      <td>0.0</td>\n",
       "      <td>1.0</td>\n",
       "      <td>0.0</td>\n",
       "      <td>0.0</td>\n",
       "      <td>1.0</td>\n",
       "      <td>0.0</td>\n",
       "      <td>1.0</td>\n",
       "      <td>0.0</td>\n",
       "      <td>0.0</td>\n",
       "    </tr>\n",
       "    <tr>\n",
       "      <th>9</th>\n",
       "      <td>0.430191</td>\n",
       "      <td>-0.317360</td>\n",
       "      <td>-0.417958</td>\n",
       "      <td>-0.266041</td>\n",
       "      <td>-0.228422</td>\n",
       "      <td>-0.365867</td>\n",
       "      <td>-0.637153</td>\n",
       "      <td>-0.568899</td>\n",
       "      <td>-0.772636</td>\n",
       "      <td>-1.306413</td>\n",
       "      <td>...</td>\n",
       "      <td>0.0</td>\n",
       "      <td>0.0</td>\n",
       "      <td>1.0</td>\n",
       "      <td>0.0</td>\n",
       "      <td>0.0</td>\n",
       "      <td>1.0</td>\n",
       "      <td>0.0</td>\n",
       "      <td>1.0</td>\n",
       "      <td>0.0</td>\n",
       "      <td>0.0</td>\n",
       "    </tr>\n",
       "  </tbody>\n",
       "</table>\n",
       "<p>10 rows × 71 columns</p>\n",
       "</div>"
      ],
      "text/plain": [
       "   num_pipe__Year_Factor  num_pipe__floor_area  num_pipe__year_built  \\\n",
       "0               0.430191             -0.442469              1.722111   \n",
       "1              -0.927341             -0.327230             -0.821160   \n",
       "2               1.108957              3.865022              1.101801   \n",
       "3               1.108957             -0.409567             -1.007253   \n",
       "4              -1.606107             -0.368781             -1.410454   \n",
       "5              -0.248575             -0.366497             -0.417958   \n",
       "6               1.108957             -0.556302             -0.697098   \n",
       "7              -0.248575             -0.390656             -0.728113   \n",
       "8              -1.606107             -0.380358             -0.014757   \n",
       "9               0.430191             -0.317360             -0.417958   \n",
       "\n",
       "   num_pipe__energy_star_rating  num_pipe__ELEVATION  \\\n",
       "0                     -1.344469            -0.347695   \n",
       "1                      1.416306            -0.498010   \n",
       "2                      1.243758            -0.213717   \n",
       "3                     -1.862114            -0.238225   \n",
       "4                     -1.128783            -0.607480   \n",
       "5                      0.639838            -0.591141   \n",
       "6                      0.165330             0.099985   \n",
       "7                     -1.430743            -0.591141   \n",
       "8                      0.165330             0.050969   \n",
       "9                     -0.266041            -0.228422   \n",
       "\n",
       "   num_pipe__january_min_temp  num_pipe__january_avg_temp  \\\n",
       "0                    1.765087                    1.586583   \n",
       "1                    1.125801                    1.496712   \n",
       "2                    1.765087                    1.305447   \n",
       "3                   -0.046224                    0.019598   \n",
       "4                    1.658539                    2.091244   \n",
       "5                   -0.792057                   -0.816895   \n",
       "6                    2.724016                    2.625863   \n",
       "7                   -0.792057                   -0.816895   \n",
       "8                    0.166872                    0.429779   \n",
       "9                   -0.365867                   -0.637153   \n",
       "\n",
       "   num_pipe__january_max_temp  num_pipe__february_min_temp  \\\n",
       "0                    0.734321                     1.612140   \n",
       "1                    1.106670                     1.055693   \n",
       "2                   -0.568899                     1.771125   \n",
       "3                   -0.010376                    -1.011113   \n",
       "4                    1.851368                     1.691633   \n",
       "5                   -0.196551                    -0.216188   \n",
       "6                    0.548147                     2.407066   \n",
       "7                   -0.196551                    -0.216188   \n",
       "8                    0.548147                     0.658230   \n",
       "9                   -0.568899                    -0.772636   \n",
       "\n",
       "   num_pipe__february_avg_temp  ...  cat_pipe__State_Factor_State_2  \\\n",
       "0                     1.441798  ...                             0.0   \n",
       "1                     1.393477  ...                             0.0   \n",
       "2                     1.368623  ...                             0.0   \n",
       "3                     0.245040  ...                             0.0   \n",
       "4                     1.817668  ...                             0.0   \n",
       "5                    -0.440677  ...                             0.0   \n",
       "6                     2.414450  ...                             0.0   \n",
       "7                    -0.440677  ...                             0.0   \n",
       "8                     0.602720  ...                             0.0   \n",
       "9                    -1.306413  ...                             0.0   \n",
       "\n",
       "   cat_pipe__State_Factor_State_4  cat_pipe__State_Factor_State_6  \\\n",
       "0                             0.0                             0.0   \n",
       "1                             0.0                             0.0   \n",
       "2                             0.0                             0.0   \n",
       "3                             0.0                             1.0   \n",
       "4                             0.0                             0.0   \n",
       "5                             0.0                             1.0   \n",
       "6                             0.0                             0.0   \n",
       "7                             0.0                             1.0   \n",
       "8                             0.0                             1.0   \n",
       "9                             0.0                             1.0   \n",
       "\n",
       "   cat_pipe__State_Factor_infrequent_sklearn  \\\n",
       "0                                        0.0   \n",
       "1                                        0.0   \n",
       "2                                        0.0   \n",
       "3                                        0.0   \n",
       "4                                        0.0   \n",
       "5                                        0.0   \n",
       "6                                        0.0   \n",
       "7                                        0.0   \n",
       "8                                        0.0   \n",
       "9                                        0.0   \n",
       "\n",
       "   cat_pipe__building_class_Commercial  cat_pipe__building_class_Residential  \\\n",
       "0                                  1.0                                   0.0   \n",
       "1                                  1.0                                   0.0   \n",
       "2                                  1.0                                   0.0   \n",
       "3                                  0.0                                   1.0   \n",
       "4                                  1.0                                   0.0   \n",
       "5                                  0.0                                   1.0   \n",
       "6                                  1.0                                   0.0   \n",
       "7                                  0.0                                   1.0   \n",
       "8                                  0.0                                   1.0   \n",
       "9                                  0.0                                   1.0   \n",
       "\n",
       "   cat_pipe__facility_type_Education_Other_classroom  \\\n",
       "0                                                0.0   \n",
       "1                                                0.0   \n",
       "2                                                0.0   \n",
       "3                                                0.0   \n",
       "4                                                0.0   \n",
       "5                                                0.0   \n",
       "6                                                1.0   \n",
       "7                                                0.0   \n",
       "8                                                0.0   \n",
       "9                                                0.0   \n",
       "\n",
       "   cat_pipe__facility_type_Multifamily_Uncategorized  \\\n",
       "0                                                0.0   \n",
       "1                                                0.0   \n",
       "2                                                0.0   \n",
       "3                                                1.0   \n",
       "4                                                0.0   \n",
       "5                                                1.0   \n",
       "6                                                0.0   \n",
       "7                                                1.0   \n",
       "8                                                1.0   \n",
       "9                                                1.0   \n",
       "\n",
       "   cat_pipe__facility_type_Office_Uncategorized  \\\n",
       "0                                           0.0   \n",
       "1                                           1.0   \n",
       "2                                           1.0   \n",
       "3                                           0.0   \n",
       "4                                           1.0   \n",
       "5                                           0.0   \n",
       "6                                           0.0   \n",
       "7                                           0.0   \n",
       "8                                           0.0   \n",
       "9                                           0.0   \n",
       "\n",
       "   cat_pipe__facility_type_infrequent_sklearn  \n",
       "0                                         1.0  \n",
       "1                                         0.0  \n",
       "2                                         0.0  \n",
       "3                                         0.0  \n",
       "4                                         0.0  \n",
       "5                                         0.0  \n",
       "6                                         0.0  \n",
       "7                                         0.0  \n",
       "8                                         0.0  \n",
       "9                                         0.0  \n",
       "\n",
       "[10 rows x 71 columns]"
      ]
     },
     "execution_count": 18,
     "metadata": {},
     "output_type": "execute_result"
    }
   ],
   "source": [
    "X_train_preproc.head(10)"
   ]
  },
  {
   "cell_type": "code",
   "execution_count": 19,
   "metadata": {},
   "outputs": [],
   "source": [
    "X_test_preproc = pd.DataFrame(preproc.transform(X_test), columns=preproc.get_feature_names_out())"
   ]
  },
  {
   "attachments": {},
   "cell_type": "markdown",
   "metadata": {},
   "source": [
    "## Model building"
   ]
  },
  {
   "cell_type": "code",
   "execution_count": 20,
   "metadata": {},
   "outputs": [
    {
     "name": "stderr",
     "output_type": "stream",
     "text": [
      "2023-06-22 14:50:31.970835: I tensorflow/core/platform/cpu_feature_guard.cc:193] This TensorFlow binary is optimized with oneAPI Deep Neural Network Library (oneDNN) to use the following CPU instructions in performance-critical operations:  AVX2 FMA\n",
      "To enable them in other operations, rebuild TensorFlow with the appropriate compiler flags.\n",
      "2023-06-22 14:50:34.724870: W tensorflow/stream_executor/platform/default/dso_loader.cc:64] Could not load dynamic library 'libcudart.so.11.0'; dlerror: libcudart.so.11.0: cannot open shared object file: No such file or directory\n",
      "2023-06-22 14:50:34.724945: I tensorflow/stream_executor/cuda/cudart_stub.cc:29] Ignore above cudart dlerror if you do not have a GPU set up on your machine.\n",
      "2023-06-22 14:50:35.120346: E tensorflow/stream_executor/cuda/cuda_blas.cc:2981] Unable to register cuBLAS factory: Attempting to register factory for plugin cuBLAS when one has already been registered\n",
      "2023-06-22 14:50:47.525684: W tensorflow/stream_executor/platform/default/dso_loader.cc:64] Could not load dynamic library 'libnvinfer.so.7'; dlerror: libnvinfer.so.7: cannot open shared object file: No such file or directory\n",
      "2023-06-22 14:50:47.555276: W tensorflow/stream_executor/platform/default/dso_loader.cc:64] Could not load dynamic library 'libnvinfer_plugin.so.7'; dlerror: libnvinfer_plugin.so.7: cannot open shared object file: No such file or directory\n",
      "2023-06-22 14:50:47.555387: W tensorflow/compiler/tf2tensorrt/utils/py_utils.cc:38] TF-TRT Warning: Cannot dlopen some TensorRT libraries. If you would like to use Nvidia GPU with TensorRT, please make sure the missing libraries mentioned above are installed properly.\n"
     ]
    }
   ],
   "source": [
    "import tensorflow as tf"
   ]
  },
  {
   "cell_type": "code",
   "execution_count": 21,
   "metadata": {},
   "outputs": [],
   "source": [
    "input_dim = X_train_preproc.shape[1]"
   ]
  },
  {
   "cell_type": "code",
   "execution_count": 24,
   "metadata": {},
   "outputs": [],
   "source": [
    "# rmse loss function\n",
    "def rmse_loss(y_true, y_pred):\n",
    "    return tf.math.sqrt(tf.math.reduce_mean(((y_pred - y_true) ** 2), axis=1))"
   ]
  },
  {
   "cell_type": "code",
   "execution_count": 25,
   "metadata": {},
   "outputs": [],
   "source": [
    "model.compile(\n",
    "    loss=rmse_loss,\n",
    "    optimizer='adam',\n",
    "    metrics=['mse']\n",
    ")"
   ]
  },
  {
   "cell_type": "code",
   "execution_count": 38,
   "metadata": {},
   "outputs": [],
   "source": [
    "def instantiate_model(input_dim):\n",
    "    '''instantiates model'''\n",
    "    \n",
    "    # simple model \n",
    "    # dropout added\n",
    "    inputs = tf.keras.Input(shape=(input_dim,))\n",
    "\n",
    "    x = tf.keras.layers.Dense(256, activation='relu')(inputs)\n",
    "    x = tf.keras.layers.Dropout(rate=.1)(x)\n",
    "    x = tf.keras.layers.Dense(128, activation='relu')(x)\n",
    "    x = tf.keras.layers.Dropout(rate=.1)(x)\n",
    "    x = tf.keras.layers.Dense(64, activation='relu')(x)\n",
    "    x = tf.keras.layers.Dropout(rate=.1)(x)\n",
    "    x = tf.keras.layers.Dense(32, activation='relu')(x)\n",
    "\n",
    "    outputs = tf.keras.layers.Dense(1, activation='linear')(x)\n",
    "\n",
    "    model = tf.keras.Model(inputs=inputs, outputs=outputs)\n",
    "    \n",
    "    print(model.summary())\n",
    "    \n",
    "    return model"
   ]
  },
  {
   "cell_type": "code",
   "execution_count": 39,
   "metadata": {},
   "outputs": [],
   "source": [
    "def compile_model(model):\n",
    "    '''compiles given model'''\n",
    "    \n",
    "    model.compile(\n",
    "        loss=rmse_loss,\n",
    "        optimizer='adam',\n",
    "        metrics=['mse']\n",
    "    )\n",
    "    \n",
    "    return model"
   ]
  },
  {
   "cell_type": "code",
   "execution_count": 40,
   "metadata": {},
   "outputs": [],
   "source": [
    "def model_main(input_dim):\n",
    "    '''instantiates and compiles model'''\n",
    "    \n",
    "    model = instantiate_model(input_dim)\n",
    "    model = compile_model(model)\n",
    "    \n",
    "    return model"
   ]
  },
  {
   "attachments": {},
   "cell_type": "markdown",
   "metadata": {},
   "source": [
    "## Model training (with tensorboard)"
   ]
  },
  {
   "cell_type": "code",
   "execution_count": 29,
   "metadata": {},
   "outputs": [
    {
     "name": "stdout",
     "output_type": "stream",
     "text": [
      "The tensorboard extension is already loaded. To reload it, use:\n",
      "  %reload_ext tensorboard\n"
     ]
    }
   ],
   "source": [
    "# Load the TensorBoard notebook extension.\n",
    "%load_ext tensorboard"
   ]
  },
  {
   "cell_type": "code",
   "execution_count": 34,
   "metadata": {},
   "outputs": [
    {
     "name": "stdout",
     "output_type": "stream",
     "text": [
      "TensorFlow version:  2.10.0\n"
     ]
    }
   ],
   "source": [
    "from datetime import datetime\n",
    "from packaging import version\n",
    "\n",
    "print(\"TensorFlow version: \", tf.__version__)\n",
    "assert version.parse(tf.__version__).release[0] >= 2, \\\n",
    "    \"This notebook requires TensorFlow 2.0 or above.\""
   ]
  },
  {
   "cell_type": "code",
   "execution_count": 39,
   "metadata": {},
   "outputs": [],
   "source": [
    "# # Clear any logs from previous runs\n",
    "# !rm -rf ./logs/"
   ]
  },
  {
   "cell_type": "code",
   "execution_count": 40,
   "metadata": {},
   "outputs": [],
   "source": [
    "logdir = 'logs/' + datetime.now().strftime(\"%Y%m%d-%H%M%S\")\n",
    "tb_cb = tf.keras.callbacks.TensorBoard(log_dir=logdir)"
   ]
  },
  {
   "cell_type": "code",
   "execution_count": 41,
   "metadata": {},
   "outputs": [
    {
     "name": "stdout",
     "output_type": "stream",
     "text": [
      "Model: \"model_2\"\n",
      "_________________________________________________________________\n",
      " Layer (type)                Output Shape              Param #   \n",
      "=================================================================\n",
      " input_3 (InputLayer)        [(None, 71)]              0         \n",
      "                                                                 \n",
      " dense_10 (Dense)            (None, 256)               18432     \n",
      "                                                                 \n",
      " dense_11 (Dense)            (None, 128)               32896     \n",
      "                                                                 \n",
      " dense_12 (Dense)            (None, 64)                8256      \n",
      "                                                                 \n",
      " dense_13 (Dense)            (None, 32)                2080      \n",
      "                                                                 \n",
      " dense_14 (Dense)            (None, 1)                 33        \n",
      "                                                                 \n",
      "=================================================================\n",
      "Total params: 61,697\n",
      "Trainable params: 61,697\n",
      "Non-trainable params: 0\n",
      "_________________________________________________________________\n",
      "None\n",
      "Epoch 1/1000\n",
      "2131/2131 [==============================] - 16s 6ms/step - loss: 26.8276 - mse: 2940.5378 - val_loss: 25.7245 - val_mse: 2725.3992\n",
      "Epoch 2/1000\n",
      "2131/2131 [==============================] - 12s 6ms/step - loss: 25.4945 - mse: 2788.3340 - val_loss: 25.3066 - val_mse: 2794.7532\n",
      "Epoch 3/1000\n",
      "2131/2131 [==============================] - 13s 6ms/step - loss: 25.2626 - mse: 2766.2285 - val_loss: 25.0558 - val_mse: 2746.6567\n",
      "Epoch 4/1000\n",
      "2131/2131 [==============================] - 16s 7ms/step - loss: 25.1002 - mse: 2743.2063 - val_loss: 25.0925 - val_mse: 2754.7639\n",
      "Epoch 5/1000\n",
      "2131/2131 [==============================] - 16s 7ms/step - loss: 24.9690 - mse: 2729.9922 - val_loss: 24.9191 - val_mse: 2790.4731\n",
      "Epoch 6/1000\n",
      "2131/2131 [==============================] - 19s 9ms/step - loss: 24.8646 - mse: 2727.2441 - val_loss: 24.5988 - val_mse: 2693.2454\n",
      "Epoch 7/1000\n",
      "2131/2131 [==============================] - 16s 7ms/step - loss: 24.7736 - mse: 2708.2432 - val_loss: 24.6220 - val_mse: 2746.6143\n",
      "Epoch 8/1000\n",
      "2131/2131 [==============================] - 17s 8ms/step - loss: 24.6758 - mse: 2702.2256 - val_loss: 24.6138 - val_mse: 2717.9229\n",
      "Epoch 9/1000\n",
      "2131/2131 [==============================] - 12s 6ms/step - loss: 24.6289 - mse: 2696.4368 - val_loss: 24.5705 - val_mse: 2658.8516\n",
      "Epoch 10/1000\n",
      "2131/2131 [==============================] - 14s 7ms/step - loss: 24.5624 - mse: 2683.0515 - val_loss: 24.4861 - val_mse: 2699.2546\n",
      "Epoch 11/1000\n",
      "2131/2131 [==============================] - 18s 8ms/step - loss: 24.4964 - mse: 2677.9365 - val_loss: 24.2450 - val_mse: 2666.5149\n",
      "Epoch 12/1000\n",
      "2131/2131 [==============================] - 19s 9ms/step - loss: 24.4233 - mse: 2670.5920 - val_loss: 24.3156 - val_mse: 2735.9294\n",
      "Epoch 13/1000\n",
      "2131/2131 [==============================] - 20s 9ms/step - loss: 24.3842 - mse: 2670.1006 - val_loss: 24.3605 - val_mse: 2644.7090\n",
      "Epoch 14/1000\n",
      "2131/2131 [==============================] - 17s 8ms/step - loss: 24.3022 - mse: 2661.0759 - val_loss: 24.4405 - val_mse: 2717.6877\n",
      "Epoch 15/1000\n",
      "2131/2131 [==============================] - 16s 8ms/step - loss: 24.3122 - mse: 2656.2036 - val_loss: 24.3702 - val_mse: 2674.0864\n",
      "Epoch 16/1000\n",
      "2131/2131 [==============================] - 15s 7ms/step - loss: 24.2642 - mse: 2649.9763 - val_loss: 24.4272 - val_mse: 2727.8835\n",
      "Epoch 17/1000\n",
      "2131/2131 [==============================] - 13s 6ms/step - loss: 24.2436 - mse: 2652.6348 - val_loss: 24.2459 - val_mse: 2666.3821\n",
      "Epoch 18/1000\n",
      "2131/2131 [==============================] - 13s 6ms/step - loss: 24.2076 - mse: 2650.5239 - val_loss: 24.5084 - val_mse: 2698.3682\n",
      "Epoch 19/1000\n",
      "2131/2131 [==============================] - 15s 7ms/step - loss: 24.2010 - mse: 2643.4844 - val_loss: 24.3396 - val_mse: 2708.1592\n",
      "Epoch 20/1000\n",
      "2131/2131 [==============================] - 17s 8ms/step - loss: 24.1446 - mse: 2642.0132 - val_loss: 24.1230 - val_mse: 2671.4189\n",
      "Epoch 21/1000\n",
      "2131/2131 [==============================] - 34s 16ms/step - loss: 24.1367 - mse: 2630.2275 - val_loss: 24.2326 - val_mse: 2686.4585\n",
      "Epoch 22/1000\n",
      "2131/2131 [==============================] - 16s 8ms/step - loss: 24.0995 - mse: 2633.0525 - val_loss: 24.0809 - val_mse: 2612.9517\n",
      "Epoch 23/1000\n",
      "2131/2131 [==============================] - 17s 8ms/step - loss: 24.0545 - mse: 2629.5803 - val_loss: 24.2447 - val_mse: 2681.9536\n",
      "Epoch 24/1000\n",
      "2131/2131 [==============================] - 15s 7ms/step - loss: 24.0327 - mse: 2621.5535 - val_loss: 24.1247 - val_mse: 2604.0552\n",
      "Epoch 25/1000\n",
      "2131/2131 [==============================] - 11s 5ms/step - loss: 24.0307 - mse: 2621.8931 - val_loss: 24.0141 - val_mse: 2630.6340\n",
      "Epoch 26/1000\n",
      "2131/2131 [==============================] - 13s 6ms/step - loss: 23.9985 - mse: 2615.3147 - val_loss: 24.3332 - val_mse: 2700.7715\n",
      "Epoch 27/1000\n",
      "2131/2131 [==============================] - 15s 7ms/step - loss: 23.9862 - mse: 2617.7539 - val_loss: 24.0444 - val_mse: 2651.3916\n",
      "Epoch 28/1000\n",
      "2131/2131 [==============================] - 21s 10ms/step - loss: 23.9330 - mse: 2611.3630 - val_loss: 24.4099 - val_mse: 2691.3511\n",
      "Epoch 29/1000\n",
      "2131/2131 [==============================] - 15s 7ms/step - loss: 23.9417 - mse: 2611.8279 - val_loss: 24.2611 - val_mse: 2630.5518\n",
      "Epoch 30/1000\n",
      "2131/2131 [==============================] - 14s 7ms/step - loss: 23.9227 - mse: 2608.8738 - val_loss: 24.1767 - val_mse: 2712.5369\n",
      "Epoch 31/1000\n",
      "2131/2131 [==============================] - 15s 7ms/step - loss: 23.9100 - mse: 2603.7075 - val_loss: 24.1375 - val_mse: 2641.0640\n",
      "Epoch 32/1000\n",
      "2131/2131 [==============================] - 15s 7ms/step - loss: 23.8743 - mse: 2600.0254 - val_loss: 23.9653 - val_mse: 2593.0085\n",
      "Epoch 33/1000\n",
      "2131/2131 [==============================] - 15s 7ms/step - loss: 23.8630 - mse: 2598.8250 - val_loss: 24.0315 - val_mse: 2623.2803\n",
      "Epoch 34/1000\n",
      "2131/2131 [==============================] - 15s 7ms/step - loss: 23.8089 - mse: 2592.9829 - val_loss: 24.1567 - val_mse: 2607.7390\n",
      "Epoch 35/1000\n",
      "2131/2131 [==============================] - 15s 7ms/step - loss: 23.8073 - mse: 2589.1963 - val_loss: 24.0840 - val_mse: 2674.1846\n",
      "Epoch 36/1000\n",
      "2131/2131 [==============================] - 14s 7ms/step - loss: 23.8077 - mse: 2590.2219 - val_loss: 24.0214 - val_mse: 2616.3740\n",
      "Epoch 37/1000\n",
      "2131/2131 [==============================] - 14s 7ms/step - loss: 23.7657 - mse: 2589.8892 - val_loss: 24.1827 - val_mse: 2612.5615\n",
      "Epoch 38/1000\n",
      "2131/2131 [==============================] - 15s 7ms/step - loss: 23.7413 - mse: 2586.1270 - val_loss: 24.0033 - val_mse: 2623.8350\n",
      "Epoch 39/1000\n",
      "2131/2131 [==============================] - 15s 7ms/step - loss: 23.7494 - mse: 2589.0896 - val_loss: 23.9852 - val_mse: 2598.2954\n",
      "Epoch 40/1000\n",
      "2131/2131 [==============================] - 17s 8ms/step - loss: 23.7252 - mse: 2575.5317 - val_loss: 24.0973 - val_mse: 2630.8948\n",
      "Epoch 41/1000\n",
      "2131/2131 [==============================] - 20s 10ms/step - loss: 23.7343 - mse: 2583.1147 - val_loss: 24.0192 - val_mse: 2654.5686\n",
      "Epoch 42/1000\n",
      "2131/2131 [==============================] - 15s 7ms/step - loss: 23.6909 - mse: 2578.8201 - val_loss: 23.8792 - val_mse: 2603.4187\n",
      "Epoch 43/1000\n",
      "2131/2131 [==============================] - 15s 7ms/step - loss: 23.6778 - mse: 2572.6875 - val_loss: 24.2256 - val_mse: 2695.9229\n",
      "Epoch 44/1000\n",
      "2131/2131 [==============================] - 15s 7ms/step - loss: 23.6707 - mse: 2569.4709 - val_loss: 23.8310 - val_mse: 2623.1382\n",
      "Epoch 45/1000\n",
      "2131/2131 [==============================] - 14s 7ms/step - loss: 23.6480 - mse: 2569.9976 - val_loss: 24.0129 - val_mse: 2658.8721\n",
      "Epoch 46/1000\n",
      "2131/2131 [==============================] - 18s 9ms/step - loss: 23.6181 - mse: 2558.6228 - val_loss: 24.1930 - val_mse: 2679.6902\n",
      "Epoch 47/1000\n",
      "2131/2131 [==============================] - 33s 15ms/step - loss: nan - mse: nan - val_loss: nan - val_mse: nan\n",
      "Epoch 48/1000\n",
      "2131/2131 [==============================] - 24s 11ms/step - loss: nan - mse: nan - val_loss: nan - val_mse: nan\n",
      "Epoch 49/1000\n",
      "2131/2131 [==============================] - 25s 12ms/step - loss: nan - mse: nan - val_loss: nan - val_mse: nan\n",
      "Epoch 50/1000\n",
      "2131/2131 [==============================] - 33s 15ms/step - loss: nan - mse: nan - val_loss: nan - val_mse: nan\n",
      "Epoch 51/1000\n",
      "2131/2131 [==============================] - 28s 13ms/step - loss: nan - mse: nan - val_loss: nan - val_mse: nan\n",
      "Epoch 52/1000\n",
      "2131/2131 [==============================] - 17s 8ms/step - loss: nan - mse: nan - val_loss: nan - val_mse: nan\n",
      "Epoch 53/1000\n",
      "2131/2131 [==============================] - 20s 9ms/step - loss: nan - mse: nan - val_loss: nan - val_mse: nan\n",
      "Epoch 54/1000\n",
      "1866/2131 [=========================>....] - ETA: 2s - loss: nan - mse: nan"
     ]
    }
   ],
   "source": [
    "# instantiates and compiles model\n",
    "model = model_main(input_dim)\n",
    "\n",
    "# callbacks\n",
    "es = tf.keras.callbacks.EarlyStopping(\n",
    "    monitor='val_loss', \n",
    "    patience=10,\n",
    "    restore_best_weights=True\n",
    ")\n",
    "\n",
    "logdir = 'logs/' + datetime.now().strftime(\"%Y%m%d-%H%M%S\")\n",
    "tb_cb = tf.keras.callbacks.TensorBoard(log_dir=logdir)\n",
    "file_writer = tf.summary.create_file_writer(logdir + \"/metrics\")\n",
    "file_writer.set_as_default()\n",
    "\n",
    "# training\n",
    "history = model.fit(\n",
    "    X_train_preproc, y_train,\n",
    "    verbose=1,\n",
    "    callbacks=[es, tb_cb],\n",
    "    validation_data=(X_val_preproc, y_val),\n",
    "    epochs=1000,\n",
    "    batch_size=32,\n",
    ")"
   ]
  },
  {
   "cell_type": "code",
   "execution_count": 37,
   "metadata": {},
   "outputs": [
    {
     "data": {
      "text/plain": [
       "Reusing TensorBoard on port 6006 (pid 11389), started 0:00:43 ago. (Use '!kill 11389' to kill it.)"
      ]
     },
     "metadata": {},
     "output_type": "display_data"
    },
    {
     "data": {
      "text/html": [
       "\n",
       "      <iframe id=\"tensorboard-frame-5db09d7ea429b325\" width=\"100%\" height=\"800\" frameborder=\"0\">\n",
       "      </iframe>\n",
       "      <script>\n",
       "        (function() {\n",
       "          const frame = document.getElementById(\"tensorboard-frame-5db09d7ea429b325\");\n",
       "          const url = new URL(\"http://localhost\");\n",
       "          const port = 6006;\n",
       "          if (port) {\n",
       "            url.port = port;\n",
       "          }\n",
       "          frame.src = url;\n",
       "        })();\n",
       "      </script>\n",
       "    "
      ],
      "text/plain": [
       "<IPython.core.display.HTML object>"
      ]
     },
     "metadata": {},
     "output_type": "display_data"
    }
   ],
   "source": [
    "%tensorboard --logdir logs"
   ]
  },
  {
   "attachments": {},
   "cell_type": "markdown",
   "metadata": {},
   "source": [
    "## Model training (with mlflow)"
   ]
  },
  {
   "cell_type": "code",
   "execution_count": 29,
   "metadata": {},
   "outputs": [],
   "source": [
    "import mlflow"
   ]
  },
  {
   "cell_type": "code",
   "execution_count": 41,
   "metadata": {},
   "outputs": [
    {
     "name": "stderr",
     "output_type": "stream",
     "text": [
      "2023/06/22 15:35:08 INFO mlflow.tracking.fluent: Autologging successfully enabled for tensorflow.\n"
     ]
    },
    {
     "name": "stderr",
     "output_type": "stream",
     "text": [
      "2023/06/22 15:35:09 INFO mlflow.tracking.fluent: Autologging successfully enabled for sklearn.\n"
     ]
    },
    {
     "name": "stdout",
     "output_type": "stream",
     "text": [
      "Model: \"model_4\"\n",
      "_________________________________________________________________\n",
      " Layer (type)                Output Shape              Param #   \n",
      "=================================================================\n",
      " input_5 (InputLayer)        [(None, 71)]              0         \n",
      "                                                                 \n",
      " dense_20 (Dense)            (None, 256)               18432     \n",
      "                                                                 \n",
      " dropout_3 (Dropout)         (None, 256)               0         \n",
      "                                                                 \n",
      " dense_21 (Dense)            (None, 128)               32896     \n",
      "                                                                 \n",
      " dropout_4 (Dropout)         (None, 128)               0         \n",
      "                                                                 \n",
      " dense_22 (Dense)            (None, 64)                8256      \n",
      "                                                                 \n",
      " dropout_5 (Dropout)         (None, 64)                0         \n",
      "                                                                 \n",
      " dense_23 (Dense)            (None, 32)                2080      \n",
      "                                                                 \n",
      " dense_24 (Dense)            (None, 1)                 33        \n",
      "                                                                 \n",
      "=================================================================\n",
      "Total params: 61,697\n",
      "Trainable params: 61,697\n",
      "Non-trainable params: 0\n",
      "_________________________________________________________________\n",
      "None\n"
     ]
    },
    {
     "name": "stderr",
     "output_type": "stream",
     "text": [
      "2023/06/22 15:35:10 INFO mlflow.utils.autologging_utils: Created MLflow autologging run with ID 'e308ce714f4a4a3e8776d62e92db6df6', which will track hyperparameters, performance metrics, model artifacts, and lineage information for the current tensorflow workflow\n",
      "2023/06/22 15:35:10 WARNING mlflow.tensorflow: Unrecognized dataset type <class 'pandas.core.frame.DataFrame'>. Dataset logging skipped.\n",
      "2023/06/22 15:35:10 WARNING mlflow.tensorflow: Failed to log training dataset information to MLflow Tracking. Reason: 'DataFrame' object has no attribute 'flatten'\n"
     ]
    },
    {
     "name": "stdout",
     "output_type": "stream",
     "text": [
      "Epoch 1/1000\n",
      "2131/2131 [==============================] - 24s 10ms/step - loss: 27.6018 - mse: 2981.6028 - val_loss: 26.1251 - val_mse: 2924.8792\n",
      "Epoch 2/1000\n",
      "2131/2131 [==============================] - 21s 10ms/step - loss: 26.2544 - mse: 2827.6392 - val_loss: 25.7668 - val_mse: 2817.7803\n",
      "Epoch 3/1000\n",
      "2131/2131 [==============================] - 25s 12ms/step - loss: 25.9566 - mse: 2812.5698 - val_loss: 25.6984 - val_mse: 2863.8872\n",
      "Epoch 4/1000\n",
      "2131/2131 [==============================] - 32s 15ms/step - loss: 25.7105 - mse: 2793.3557 - val_loss: 26.2451 - val_mse: 2890.0034\n",
      "Epoch 5/1000\n",
      "2131/2131 [==============================] - 36s 17ms/step - loss: 25.5699 - mse: 2784.2424 - val_loss: 25.2748 - val_mse: 2844.9597\n",
      "Epoch 6/1000\n",
      "2131/2131 [==============================] - 38s 18ms/step - loss: 25.4587 - mse: 2768.8940 - val_loss: 25.7539 - val_mse: 2867.7144\n",
      "Epoch 7/1000\n",
      "2131/2131 [==============================] - 38s 18ms/step - loss: 25.3577 - mse: 2756.9343 - val_loss: 25.8469 - val_mse: 2903.7339\n",
      "Epoch 8/1000\n",
      "2131/2131 [==============================] - 37s 17ms/step - loss: 25.3019 - mse: 2750.9199 - val_loss: 26.5237 - val_mse: 2929.7495\n",
      "Epoch 9/1000\n",
      "2131/2131 [==============================] - 41s 19ms/step - loss: 25.2081 - mse: 2735.8364 - val_loss: 25.4693 - val_mse: 2853.5330\n",
      "Epoch 10/1000\n",
      "2131/2131 [==============================] - 38s 18ms/step - loss: 25.1439 - mse: 2739.3931 - val_loss: 26.5317 - val_mse: 2918.5615\n",
      "Epoch 11/1000\n",
      "2131/2131 [==============================] - 40s 19ms/step - loss: 25.0774 - mse: 2726.1055 - val_loss: 25.7097 - val_mse: 2863.6633\n",
      "Epoch 12/1000\n",
      "2131/2131 [==============================] - 37s 17ms/step - loss: 25.0087 - mse: 2720.6987 - val_loss: 26.1282 - val_mse: 2898.6409\n",
      "Epoch 13/1000\n",
      "2131/2131 [==============================] - 39s 18ms/step - loss: 24.9738 - mse: 2721.5886 - val_loss: 25.4562 - val_mse: 2820.4050\n",
      "Epoch 14/1000\n",
      "2131/2131 [==============================] - 39s 18ms/step - loss: 24.9292 - mse: 2712.6533 - val_loss: 25.9025 - val_mse: 2886.8096\n",
      "Epoch 15/1000\n",
      "2131/2131 [==============================] - 42s 20ms/step - loss: 24.8916 - mse: 2707.8459 - val_loss: 25.3105 - val_mse: 2827.1797\n"
     ]
    },
    {
     "name": "stderr",
     "output_type": "stream",
     "text": [
      "2023/06/22 15:43:56 WARNING mlflow.tensorflow: Failed to infer model signature: could not sample data to infer model signature: Cannot log input example or model signature for input with type <class 'pandas.core.frame.DataFrame'>. TensorFlow Keras autologging can only log input examples and model signatures for the following input types: numpy.ndarray, dict[string -> numpy.ndarray], tensorflow.keras.utils.Sequence, and tensorflow.data.Dataset (TensorFlow >= 2.1.0 required)\n",
      "2023/06/22 15:43:56 WARNING mlflow.tensorflow: You are saving a TensorFlow Core model or Keras model without a signature. Inference with mlflow.pyfunc.spark_udf() will not work unless the model's pyfunc representation accepts pandas DataFrames as inference inputs.\n"
     ]
    },
    {
     "name": "stdout",
     "output_type": "stream",
     "text": [
      "INFO:tensorflow:Assets written to: /tmp/tmpe_3f1yd1/model/data/model/assets\n"
     ]
    },
    {
     "name": "stderr",
     "output_type": "stream",
     "text": [
      "2023/06/22 15:44:14 WARNING mlflow.utils.environment: Encountered an unexpected error while inferring pip requirements (model URI: /tmp/tmpe_3f1yd1/model, flavor: tensorflow), fall back to return ['tensorflow==2.10.0']. Set logging level to DEBUG to see the full traceback.\n"
     ]
    }
   ],
   "source": [
    "mlflow.autolog()\n",
    "\n",
    "# instantiates and compiles model\n",
    "model = model_main(input_dim)\n",
    "\n",
    "# callbacks\n",
    "es = tf.keras.callbacks.EarlyStopping(\n",
    "    monitor='val_loss', \n",
    "    patience=10,\n",
    "    restore_best_weights=True\n",
    ")\n",
    "\n",
    "# training\n",
    "history = model.fit(\n",
    "    X_train_preproc, y_train,\n",
    "    verbose=1,\n",
    "    callbacks=[es],\n",
    "    validation_data=(X_val_preproc, y_val),\n",
    "    epochs=1000,\n",
    "    batch_size=32,\n",
    ")"
   ]
  },
  {
   "attachments": {},
   "cell_type": "markdown",
   "metadata": {},
   "source": [
    "## Prediction"
   ]
  },
  {
   "cell_type": "code",
   "execution_count": 32,
   "metadata": {},
   "outputs": [
    {
     "name": "stdout",
     "output_type": "stream",
     "text": [
      "304/304 [==============================] - 4s 7ms/step\n"
     ]
    }
   ],
   "source": [
    "pred = model.predict(X_test_preproc)"
   ]
  },
  {
   "cell_type": "code",
   "execution_count": 36,
   "metadata": {},
   "outputs": [],
   "source": [
    "from datetime import datetime\n",
    "\n",
    "exp_name = 'amazing-finch-125'\n",
    "\n",
    "pred_df = pd.concat((test_df[['id']], pd.DataFrame(pred)), axis=1).rename(columns={0: 'site_eui'})\n",
    "pred_df.to_csv(f'pred/{datetime.now().strftime(\"%Y%m%d-%H%M%S\")}_{exp_name}.csv', index=False)"
   ]
  },
  {
   "cell_type": "code",
   "execution_count": null,
   "metadata": {},
   "outputs": [],
   "source": []
  }
 ],
 "metadata": {
  "kernelspec": {
   "display_name": "lewagon",
   "language": "python",
   "name": "python3"
  },
  "language_info": {
   "codemirror_mode": {
    "name": "ipython",
    "version": 3
   },
   "file_extension": ".py",
   "mimetype": "text/x-python",
   "name": "python",
   "nbconvert_exporter": "python",
   "pygments_lexer": "ipython3",
   "version": "3.10.6"
  },
  "orig_nbformat": 4
 },
 "nbformat": 4,
 "nbformat_minor": 2
}
