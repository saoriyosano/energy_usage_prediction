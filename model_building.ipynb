{
 "cells": [
  {
   "attachments": {},
   "cell_type": "markdown",
   "metadata": {},
   "source": [
    "# Energy Usage Prediction - Model Building"
   ]
  },
  {
   "cell_type": "code",
   "execution_count": 1,
   "metadata": {},
   "outputs": [],
   "source": [
    "import pandas as pd\n",
    "import numpy as np"
   ]
  },
  {
   "attachments": {},
   "cell_type": "markdown",
   "metadata": {},
   "source": [
    "## Load dataset"
   ]
  },
  {
   "cell_type": "code",
   "execution_count": 2,
   "metadata": {},
   "outputs": [],
   "source": [
    "train_path = 'data/train.csv'\n",
    "test_path = 'data/test.csv'\n",
    "\n",
    "train_df = pd.read_csv(train_path)\n",
    "test_df = pd.read_csv(test_path)"
   ]
  },
  {
   "cell_type": "code",
   "execution_count": 3,
   "metadata": {},
   "outputs": [],
   "source": [
    "# replace 0s in year_built with np.nan\n",
    "train_df.year_built = train_df.year_built.replace(0, np.nan)\n",
    "test_df.year_built = test_df.year_built.replace(0, np.nan)"
   ]
  },
  {
   "cell_type": "code",
   "execution_count": 4,
   "metadata": {},
   "outputs": [
    {
     "name": "stdout",
     "output_type": "stream",
     "text": [
      "0\n",
      "0\n"
     ]
    }
   ],
   "source": [
    "# check for duplicates\n",
    "print(train_df.duplicated().sum())\n",
    "print(test_df.duplicated().sum())"
   ]
  },
  {
   "attachments": {},
   "cell_type": "markdown",
   "metadata": {},
   "source": [
    "## Create X and y"
   ]
  },
  {
   "cell_type": "code",
   "execution_count": 5,
   "metadata": {},
   "outputs": [
    {
     "data": {
      "text/plain": [
       "['direction_max_wind_speed',\n",
       " 'direction_peak_wind_speed',\n",
       " 'max_wind_speed',\n",
       " 'days_with_fog',\n",
       " 'site_eui',\n",
       " 'id']"
      ]
     },
     "execution_count": 5,
     "metadata": {},
     "output_type": "execute_result"
    }
   ],
   "source": [
    "# features to remove: the features which are more than 50% nan in EDA + id and target\n",
    "remove = [feature for feature in train_df.columns if 'wind' in feature]\n",
    "remove += ['days_with_fog', 'site_eui', 'id']\n",
    "remove"
   ]
  },
  {
   "cell_type": "code",
   "execution_count": 6,
   "metadata": {},
   "outputs": [],
   "source": [
    "X = train_df.drop(remove, axis=1)\n",
    "y = train_df.site_eui"
   ]
  },
  {
   "cell_type": "code",
   "execution_count": 7,
   "metadata": {},
   "outputs": [],
   "source": [
    "from sklearn import model_selection\n",
    "\n",
    "X_train, X_val, y_train, y_val = model_selection.train_test_split(\n",
    "    X, y, test_size=.1, random_state=25\n",
    ")"
   ]
  },
  {
   "cell_type": "code",
   "execution_count": 8,
   "metadata": {},
   "outputs": [],
   "source": [
    "X_test = test_df.drop(['id'], axis=1)"
   ]
  },
  {
   "attachments": {},
   "cell_type": "markdown",
   "metadata": {},
   "source": [
    "## Data preprocessing"
   ]
  },
  {
   "cell_type": "code",
   "execution_count": 9,
   "metadata": {},
   "outputs": [],
   "source": [
    "from sklearn import pipeline\n",
    "from sklearn import impute\n",
    "from sklearn import preprocessing\n",
    "from sklearn import compose"
   ]
  },
  {
   "cell_type": "code",
   "execution_count": 44,
   "metadata": {},
   "outputs": [],
   "source": [
    "num_pipe = pipeline.Pipeline([\n",
    "    ('median_imputer', impute.SimpleImputer(strategy=\"median\")),\n",
    "    ('standard_scaler', preprocessing.StandardScaler())\n",
    "    ])"
   ]
  },
  {
   "cell_type": "code",
   "execution_count": 29,
   "metadata": {},
   "outputs": [],
   "source": [
    "cat_pipe = pipeline.Pipeline([\n",
    "    ('ohe', preprocessing.OneHotEncoder(min_frequency=.05, handle_unknown='ignore'))\n",
    "])"
   ]
  },
  {
   "cell_type": "code",
   "execution_count": 45,
   "metadata": {},
   "outputs": [],
   "source": [
    "# combine num_pipe and cat_pipe\n",
    "preproc = compose.ColumnTransformer([\n",
    "    ('num_pipe', num_pipe, X_train.select_dtypes(exclude=['object']).columns),\n",
    "    ('cat_pipe', cat_pipe, X_train.select_dtypes(include=['object']).columns)\n",
    "])"
   ]
  },
  {
   "cell_type": "code",
   "execution_count": 46,
   "metadata": {},
   "outputs": [
    {
     "data": {
      "text/html": [
       "<style>#sk-container-id-5 {color: black;background-color: white;}#sk-container-id-5 pre{padding: 0;}#sk-container-id-5 div.sk-toggleable {background-color: white;}#sk-container-id-5 label.sk-toggleable__label {cursor: pointer;display: block;width: 100%;margin-bottom: 0;padding: 0.3em;box-sizing: border-box;text-align: center;}#sk-container-id-5 label.sk-toggleable__label-arrow:before {content: \"▸\";float: left;margin-right: 0.25em;color: #696969;}#sk-container-id-5 label.sk-toggleable__label-arrow:hover:before {color: black;}#sk-container-id-5 div.sk-estimator:hover label.sk-toggleable__label-arrow:before {color: black;}#sk-container-id-5 div.sk-toggleable__content {max-height: 0;max-width: 0;overflow: hidden;text-align: left;background-color: #f0f8ff;}#sk-container-id-5 div.sk-toggleable__content pre {margin: 0.2em;color: black;border-radius: 0.25em;background-color: #f0f8ff;}#sk-container-id-5 input.sk-toggleable__control:checked~div.sk-toggleable__content {max-height: 200px;max-width: 100%;overflow: auto;}#sk-container-id-5 input.sk-toggleable__control:checked~label.sk-toggleable__label-arrow:before {content: \"▾\";}#sk-container-id-5 div.sk-estimator input.sk-toggleable__control:checked~label.sk-toggleable__label {background-color: #d4ebff;}#sk-container-id-5 div.sk-label input.sk-toggleable__control:checked~label.sk-toggleable__label {background-color: #d4ebff;}#sk-container-id-5 input.sk-hidden--visually {border: 0;clip: rect(1px 1px 1px 1px);clip: rect(1px, 1px, 1px, 1px);height: 1px;margin: -1px;overflow: hidden;padding: 0;position: absolute;width: 1px;}#sk-container-id-5 div.sk-estimator {font-family: monospace;background-color: #f0f8ff;border: 1px dotted black;border-radius: 0.25em;box-sizing: border-box;margin-bottom: 0.5em;}#sk-container-id-5 div.sk-estimator:hover {background-color: #d4ebff;}#sk-container-id-5 div.sk-parallel-item::after {content: \"\";width: 100%;border-bottom: 1px solid gray;flex-grow: 1;}#sk-container-id-5 div.sk-label:hover label.sk-toggleable__label {background-color: #d4ebff;}#sk-container-id-5 div.sk-serial::before {content: \"\";position: absolute;border-left: 1px solid gray;box-sizing: border-box;top: 0;bottom: 0;left: 50%;z-index: 0;}#sk-container-id-5 div.sk-serial {display: flex;flex-direction: column;align-items: center;background-color: white;padding-right: 0.2em;padding-left: 0.2em;position: relative;}#sk-container-id-5 div.sk-item {position: relative;z-index: 1;}#sk-container-id-5 div.sk-parallel {display: flex;align-items: stretch;justify-content: center;background-color: white;position: relative;}#sk-container-id-5 div.sk-item::before, #sk-container-id-5 div.sk-parallel-item::before {content: \"\";position: absolute;border-left: 1px solid gray;box-sizing: border-box;top: 0;bottom: 0;left: 50%;z-index: -1;}#sk-container-id-5 div.sk-parallel-item {display: flex;flex-direction: column;z-index: 1;position: relative;background-color: white;}#sk-container-id-5 div.sk-parallel-item:first-child::after {align-self: flex-end;width: 50%;}#sk-container-id-5 div.sk-parallel-item:last-child::after {align-self: flex-start;width: 50%;}#sk-container-id-5 div.sk-parallel-item:only-child::after {width: 0;}#sk-container-id-5 div.sk-dashed-wrapped {border: 1px dashed gray;margin: 0 0.4em 0.5em 0.4em;box-sizing: border-box;padding-bottom: 0.4em;background-color: white;}#sk-container-id-5 div.sk-label label {font-family: monospace;font-weight: bold;display: inline-block;line-height: 1.2em;}#sk-container-id-5 div.sk-label-container {text-align: center;}#sk-container-id-5 div.sk-container {/* jupyter's `normalize.less` sets `[hidden] { display: none; }` but bootstrap.min.css set `[hidden] { display: none !important; }` so we also need the `!important` here to be able to override the default hidden behavior on the sphinx rendered scikit-learn.org. See: https://github.com/scikit-learn/scikit-learn/issues/21755 */display: inline-block !important;position: relative;}#sk-container-id-5 div.sk-text-repr-fallback {display: none;}</style><div id=\"sk-container-id-5\" class=\"sk-top-container\"><div class=\"sk-text-repr-fallback\"><pre>ColumnTransformer(transformers=[(&#x27;num_pipe&#x27;,\n",
       "                                 Pipeline(steps=[(&#x27;median_imputer&#x27;,\n",
       "                                                  SimpleImputer(strategy=&#x27;median&#x27;)),\n",
       "                                                 (&#x27;standard_scaler&#x27;,\n",
       "                                                  StandardScaler())]),\n",
       "                                 Index([&#x27;Year_Factor&#x27;, &#x27;floor_area&#x27;, &#x27;year_built&#x27;, &#x27;energy_star_rating&#x27;,\n",
       "       &#x27;ELEVATION&#x27;, &#x27;january_min_temp&#x27;, &#x27;january_avg_temp&#x27;, &#x27;january_max_temp&#x27;,\n",
       "       &#x27;february_min_temp&#x27;, &#x27;february_avg_temp&#x27;, &#x27;february_max_temp&#x27;,\n",
       "       &#x27;m...\n",
       "       &#x27;snowdepth_inches&#x27;, &#x27;avg_temp&#x27;, &#x27;days_below_30F&#x27;, &#x27;days_below_20F&#x27;,\n",
       "       &#x27;days_below_10F&#x27;, &#x27;days_below_0F&#x27;, &#x27;days_above_80F&#x27;, &#x27;days_above_90F&#x27;,\n",
       "       &#x27;days_above_100F&#x27;, &#x27;days_above_110F&#x27;],\n",
       "      dtype=&#x27;object&#x27;)),\n",
       "                                (&#x27;cat_pipe&#x27;,\n",
       "                                 Pipeline(steps=[(&#x27;ohe&#x27;,\n",
       "                                                  OneHotEncoder(handle_unknown=&#x27;ignore&#x27;,\n",
       "                                                                min_frequency=0.05))]),\n",
       "                                 Index([&#x27;State_Factor&#x27;, &#x27;building_class&#x27;, &#x27;facility_type&#x27;], dtype=&#x27;object&#x27;))])</pre><b>In a Jupyter environment, please rerun this cell to show the HTML representation or trust the notebook. <br />On GitHub, the HTML representation is unable to render, please try loading this page with nbviewer.org.</b></div><div class=\"sk-container\" hidden><div class=\"sk-item sk-dashed-wrapped\"><div class=\"sk-label-container\"><div class=\"sk-label sk-toggleable\"><input class=\"sk-toggleable__control sk-hidden--visually\" id=\"sk-estimator-id-18\" type=\"checkbox\" ><label for=\"sk-estimator-id-18\" class=\"sk-toggleable__label sk-toggleable__label-arrow\">ColumnTransformer</label><div class=\"sk-toggleable__content\"><pre>ColumnTransformer(transformers=[(&#x27;num_pipe&#x27;,\n",
       "                                 Pipeline(steps=[(&#x27;median_imputer&#x27;,\n",
       "                                                  SimpleImputer(strategy=&#x27;median&#x27;)),\n",
       "                                                 (&#x27;standard_scaler&#x27;,\n",
       "                                                  StandardScaler())]),\n",
       "                                 Index([&#x27;Year_Factor&#x27;, &#x27;floor_area&#x27;, &#x27;year_built&#x27;, &#x27;energy_star_rating&#x27;,\n",
       "       &#x27;ELEVATION&#x27;, &#x27;january_min_temp&#x27;, &#x27;january_avg_temp&#x27;, &#x27;january_max_temp&#x27;,\n",
       "       &#x27;february_min_temp&#x27;, &#x27;february_avg_temp&#x27;, &#x27;february_max_temp&#x27;,\n",
       "       &#x27;m...\n",
       "       &#x27;snowdepth_inches&#x27;, &#x27;avg_temp&#x27;, &#x27;days_below_30F&#x27;, &#x27;days_below_20F&#x27;,\n",
       "       &#x27;days_below_10F&#x27;, &#x27;days_below_0F&#x27;, &#x27;days_above_80F&#x27;, &#x27;days_above_90F&#x27;,\n",
       "       &#x27;days_above_100F&#x27;, &#x27;days_above_110F&#x27;],\n",
       "      dtype=&#x27;object&#x27;)),\n",
       "                                (&#x27;cat_pipe&#x27;,\n",
       "                                 Pipeline(steps=[(&#x27;ohe&#x27;,\n",
       "                                                  OneHotEncoder(handle_unknown=&#x27;ignore&#x27;,\n",
       "                                                                min_frequency=0.05))]),\n",
       "                                 Index([&#x27;State_Factor&#x27;, &#x27;building_class&#x27;, &#x27;facility_type&#x27;], dtype=&#x27;object&#x27;))])</pre></div></div></div><div class=\"sk-parallel\"><div class=\"sk-parallel-item\"><div class=\"sk-item\"><div class=\"sk-label-container\"><div class=\"sk-label sk-toggleable\"><input class=\"sk-toggleable__control sk-hidden--visually\" id=\"sk-estimator-id-19\" type=\"checkbox\" ><label for=\"sk-estimator-id-19\" class=\"sk-toggleable__label sk-toggleable__label-arrow\">num_pipe</label><div class=\"sk-toggleable__content\"><pre>Index([&#x27;Year_Factor&#x27;, &#x27;floor_area&#x27;, &#x27;year_built&#x27;, &#x27;energy_star_rating&#x27;,\n",
       "       &#x27;ELEVATION&#x27;, &#x27;january_min_temp&#x27;, &#x27;january_avg_temp&#x27;, &#x27;january_max_temp&#x27;,\n",
       "       &#x27;february_min_temp&#x27;, &#x27;february_avg_temp&#x27;, &#x27;february_max_temp&#x27;,\n",
       "       &#x27;march_min_temp&#x27;, &#x27;march_avg_temp&#x27;, &#x27;march_max_temp&#x27;, &#x27;april_min_temp&#x27;,\n",
       "       &#x27;april_avg_temp&#x27;, &#x27;april_max_temp&#x27;, &#x27;may_min_temp&#x27;, &#x27;may_avg_temp&#x27;,\n",
       "       &#x27;may_max_temp&#x27;, &#x27;june_min_temp&#x27;, &#x27;june_avg_temp&#x27;, &#x27;june_max_temp&#x27;,\n",
       "       &#x27;july_min_temp&#x27;, &#x27;july_avg_temp&#x27;, &#x27;july_max_temp&#x27;, &#x27;august_min_temp&#x27;,\n",
       "       &#x27;august_avg_temp&#x27;, &#x27;august_max_temp&#x27;, &#x27;september_min_temp&#x27;,\n",
       "       &#x27;september_avg_temp&#x27;, &#x27;september_max_temp&#x27;, &#x27;october_min_temp&#x27;,\n",
       "       &#x27;october_avg_temp&#x27;, &#x27;october_max_temp&#x27;, &#x27;november_min_temp&#x27;,\n",
       "       &#x27;november_avg_temp&#x27;, &#x27;november_max_temp&#x27;, &#x27;december_min_temp&#x27;,\n",
       "       &#x27;december_avg_temp&#x27;, &#x27;december_max_temp&#x27;, &#x27;cooling_degree_days&#x27;,\n",
       "       &#x27;heating_degree_days&#x27;, &#x27;precipitation_inches&#x27;, &#x27;snowfall_inches&#x27;,\n",
       "       &#x27;snowdepth_inches&#x27;, &#x27;avg_temp&#x27;, &#x27;days_below_30F&#x27;, &#x27;days_below_20F&#x27;,\n",
       "       &#x27;days_below_10F&#x27;, &#x27;days_below_0F&#x27;, &#x27;days_above_80F&#x27;, &#x27;days_above_90F&#x27;,\n",
       "       &#x27;days_above_100F&#x27;, &#x27;days_above_110F&#x27;],\n",
       "      dtype=&#x27;object&#x27;)</pre></div></div></div><div class=\"sk-serial\"><div class=\"sk-item\"><div class=\"sk-serial\"><div class=\"sk-item\"><div class=\"sk-estimator sk-toggleable\"><input class=\"sk-toggleable__control sk-hidden--visually\" id=\"sk-estimator-id-20\" type=\"checkbox\" ><label for=\"sk-estimator-id-20\" class=\"sk-toggleable__label sk-toggleable__label-arrow\">SimpleImputer</label><div class=\"sk-toggleable__content\"><pre>SimpleImputer(strategy=&#x27;median&#x27;)</pre></div></div></div><div class=\"sk-item\"><div class=\"sk-estimator sk-toggleable\"><input class=\"sk-toggleable__control sk-hidden--visually\" id=\"sk-estimator-id-21\" type=\"checkbox\" ><label for=\"sk-estimator-id-21\" class=\"sk-toggleable__label sk-toggleable__label-arrow\">StandardScaler</label><div class=\"sk-toggleable__content\"><pre>StandardScaler()</pre></div></div></div></div></div></div></div></div><div class=\"sk-parallel-item\"><div class=\"sk-item\"><div class=\"sk-label-container\"><div class=\"sk-label sk-toggleable\"><input class=\"sk-toggleable__control sk-hidden--visually\" id=\"sk-estimator-id-22\" type=\"checkbox\" ><label for=\"sk-estimator-id-22\" class=\"sk-toggleable__label sk-toggleable__label-arrow\">cat_pipe</label><div class=\"sk-toggleable__content\"><pre>Index([&#x27;State_Factor&#x27;, &#x27;building_class&#x27;, &#x27;facility_type&#x27;], dtype=&#x27;object&#x27;)</pre></div></div></div><div class=\"sk-serial\"><div class=\"sk-item\"><div class=\"sk-serial\"><div class=\"sk-item\"><div class=\"sk-estimator sk-toggleable\"><input class=\"sk-toggleable__control sk-hidden--visually\" id=\"sk-estimator-id-23\" type=\"checkbox\" ><label for=\"sk-estimator-id-23\" class=\"sk-toggleable__label sk-toggleable__label-arrow\">OneHotEncoder</label><div class=\"sk-toggleable__content\"><pre>OneHotEncoder(handle_unknown=&#x27;ignore&#x27;, min_frequency=0.05)</pre></div></div></div></div></div></div></div></div></div></div></div></div>"
      ],
      "text/plain": [
       "ColumnTransformer(transformers=[('num_pipe',\n",
       "                                 Pipeline(steps=[('median_imputer',\n",
       "                                                  SimpleImputer(strategy='median')),\n",
       "                                                 ('standard_scaler',\n",
       "                                                  StandardScaler())]),\n",
       "                                 Index(['Year_Factor', 'floor_area', 'year_built', 'energy_star_rating',\n",
       "       'ELEVATION', 'january_min_temp', 'january_avg_temp', 'january_max_temp',\n",
       "       'february_min_temp', 'february_avg_temp', 'february_max_temp',\n",
       "       'm...\n",
       "       'snowdepth_inches', 'avg_temp', 'days_below_30F', 'days_below_20F',\n",
       "       'days_below_10F', 'days_below_0F', 'days_above_80F', 'days_above_90F',\n",
       "       'days_above_100F', 'days_above_110F'],\n",
       "      dtype='object')),\n",
       "                                ('cat_pipe',\n",
       "                                 Pipeline(steps=[('ohe',\n",
       "                                                  OneHotEncoder(handle_unknown='ignore',\n",
       "                                                                min_frequency=0.05))]),\n",
       "                                 Index(['State_Factor', 'building_class', 'facility_type'], dtype='object'))])"
      ]
     },
     "execution_count": 46,
     "metadata": {},
     "output_type": "execute_result"
    }
   ],
   "source": [
    "preproc"
   ]
  },
  {
   "cell_type": "code",
   "execution_count": 32,
   "metadata": {},
   "outputs": [
    {
     "name": "stderr",
     "output_type": "stream",
     "text": [
      "2023/06/26 15:54:50 INFO mlflow.utils.autologging_utils: Created MLflow autologging run with ID '077a13ecc00d4da6b61351353df39339', which will track hyperparameters, performance metrics, model artifacts, and lineage information for the current sklearn workflow\n",
      "2023/06/26 15:54:51 WARNING mlflow.utils.autologging_utils: MLflow autologging encountered a warning: \"/home/saori/.pyenv/versions/3.10.6/envs/lewagon/lib/python3.10/site-packages/mlflow/data/pandas_dataset.py:116: UserWarning: Hint: Inferred schema contains integer column(s). Integer columns in Python cannot represent missing values. If your input data contains missing values at inference time, it will be encoded as floats and will cause a schema enforcement error. The best way to avoid this problem is to infer the model schema based on a realistic data sample (training dataset) that includes missing values. Alternatively, you can declare integer columns as doubles (float64) whenever these columns may have missing values. See `Handling Integers With Missing Values <https://www.mlflow.org/docs/latest/models.html#handling-integers-with-missing-values>`_ for more details.\"\n",
      "2023/06/26 15:54:51 WARNING mlflow.sklearn: Training metrics will not be recorded because training labels were not specified. To automatically record training metrics, provide training labels as inputs to the model training function.\n",
      "2023/06/26 15:54:51 WARNING mlflow.sklearn: Failed to infer model signature: the trained model does not specify a `predict` function, which is required in order to infer the signature\n",
      "2023/06/26 15:54:51 WARNING mlflow.sklearn: Model was missing function: predict. Not logging python_function flavor!\n",
      "2023/06/26 15:54:56 INFO mlflow.utils.autologging_utils: Created MLflow autologging run with ID 'c84aaf8513a84b69867be75256bdc555', which will track hyperparameters, performance metrics, model artifacts, and lineage information for the current sklearn workflow\n",
      "2023/06/26 15:54:56 WARNING mlflow.sklearn: Training metrics will not be recorded because training labels were not specified. To automatically record training metrics, provide training labels as inputs to the model training function.\n",
      "2023/06/26 15:54:56 WARNING mlflow.sklearn: Failed to infer model signature: the trained model does not specify a `predict` function, which is required in order to infer the signature\n",
      "2023/06/26 15:54:56 WARNING mlflow.sklearn: Model was missing function: predict. Not logging python_function flavor!\n",
      "2023/06/26 15:54:59 WARNING mlflow.utils.autologging_utils: MLflow autologging encountered a warning: \"/home/saori/.pyenv/versions/3.10.6/envs/lewagon/lib/python3.10/site-packages/mlflow/data/pandas_dataset.py:116: UserWarning: Hint: Inferred schema contains integer column(s). Integer columns in Python cannot represent missing values. If your input data contains missing values at inference time, it will be encoded as floats and will cause a schema enforcement error. The best way to avoid this problem is to infer the model schema based on a realistic data sample (training dataset) that includes missing values. Alternatively, you can declare integer columns as doubles (float64) whenever these columns may have missing values. See `Handling Integers With Missing Values <https://www.mlflow.org/docs/latest/models.html#handling-integers-with-missing-values>`_ for more details.\"\n"
     ]
    }
   ],
   "source": [
    "X_train_preproc = pd.DataFrame(preproc.fit_transform(X_train), columns=preproc.get_feature_names_out())\n",
    "X_val_preproc = pd.DataFrame(preproc.transform(X_val), columns=preproc.get_feature_names_out())"
   ]
  },
  {
   "cell_type": "code",
   "execution_count": 33,
   "metadata": {},
   "outputs": [
    {
     "data": {
      "text/html": [
       "<div>\n",
       "<style scoped>\n",
       "    .dataframe tbody tr th:only-of-type {\n",
       "        vertical-align: middle;\n",
       "    }\n",
       "\n",
       "    .dataframe tbody tr th {\n",
       "        vertical-align: top;\n",
       "    }\n",
       "\n",
       "    .dataframe thead th {\n",
       "        text-align: right;\n",
       "    }\n",
       "</style>\n",
       "<table border=\"1\" class=\"dataframe\">\n",
       "  <thead>\n",
       "    <tr style=\"text-align: right;\">\n",
       "      <th></th>\n",
       "      <th>num_pipe__Year_Factor</th>\n",
       "      <th>num_pipe__floor_area</th>\n",
       "      <th>num_pipe__year_built</th>\n",
       "      <th>num_pipe__energy_star_rating</th>\n",
       "      <th>num_pipe__ELEVATION</th>\n",
       "      <th>num_pipe__january_min_temp</th>\n",
       "      <th>num_pipe__january_avg_temp</th>\n",
       "      <th>num_pipe__january_max_temp</th>\n",
       "      <th>num_pipe__february_min_temp</th>\n",
       "      <th>num_pipe__february_avg_temp</th>\n",
       "      <th>...</th>\n",
       "      <th>cat_pipe__State_Factor_State_2</th>\n",
       "      <th>cat_pipe__State_Factor_State_4</th>\n",
       "      <th>cat_pipe__State_Factor_State_6</th>\n",
       "      <th>cat_pipe__State_Factor_infrequent_sklearn</th>\n",
       "      <th>cat_pipe__building_class_Commercial</th>\n",
       "      <th>cat_pipe__building_class_Residential</th>\n",
       "      <th>cat_pipe__facility_type_Education_Other_classroom</th>\n",
       "      <th>cat_pipe__facility_type_Multifamily_Uncategorized</th>\n",
       "      <th>cat_pipe__facility_type_Office_Uncategorized</th>\n",
       "      <th>cat_pipe__facility_type_infrequent_sklearn</th>\n",
       "    </tr>\n",
       "  </thead>\n",
       "  <tbody>\n",
       "    <tr>\n",
       "      <th>0</th>\n",
       "      <td>0.8</td>\n",
       "      <td>0.008808</td>\n",
       "      <td>0.983133</td>\n",
       "      <td>0.32</td>\n",
       "      <td>0.012792</td>\n",
       "      <td>0.691176</td>\n",
       "      <td>0.641555</td>\n",
       "      <td>0.428571</td>\n",
       "      <td>0.737705</td>\n",
       "      <td>0.676309</td>\n",
       "      <td>...</td>\n",
       "      <td>0.0</td>\n",
       "      <td>0.0</td>\n",
       "      <td>0.0</td>\n",
       "      <td>0.0</td>\n",
       "      <td>1.0</td>\n",
       "      <td>0.0</td>\n",
       "      <td>0.0</td>\n",
       "      <td>0.0</td>\n",
       "      <td>0.0</td>\n",
       "      <td>1.0</td>\n",
       "    </tr>\n",
       "    <tr>\n",
       "      <th>1</th>\n",
       "      <td>0.4</td>\n",
       "      <td>0.013240</td>\n",
       "      <td>0.785542</td>\n",
       "      <td>0.96</td>\n",
       "      <td>0.008027</td>\n",
       "      <td>0.602941</td>\n",
       "      <td>0.629895</td>\n",
       "      <td>0.469388</td>\n",
       "      <td>0.622951</td>\n",
       "      <td>0.668044</td>\n",
       "      <td>...</td>\n",
       "      <td>0.0</td>\n",
       "      <td>0.0</td>\n",
       "      <td>0.0</td>\n",
       "      <td>0.0</td>\n",
       "      <td>1.0</td>\n",
       "      <td>0.0</td>\n",
       "      <td>0.0</td>\n",
       "      <td>0.0</td>\n",
       "      <td>1.0</td>\n",
       "      <td>0.0</td>\n",
       "    </tr>\n",
       "    <tr>\n",
       "      <th>2</th>\n",
       "      <td>1.0</td>\n",
       "      <td>0.174496</td>\n",
       "      <td>0.934940</td>\n",
       "      <td>0.92</td>\n",
       "      <td>0.017039</td>\n",
       "      <td>0.691176</td>\n",
       "      <td>0.605082</td>\n",
       "      <td>0.285714</td>\n",
       "      <td>0.770492</td>\n",
       "      <td>0.663793</td>\n",
       "      <td>...</td>\n",
       "      <td>0.0</td>\n",
       "      <td>0.0</td>\n",
       "      <td>0.0</td>\n",
       "      <td>0.0</td>\n",
       "      <td>1.0</td>\n",
       "      <td>0.0</td>\n",
       "      <td>0.0</td>\n",
       "      <td>0.0</td>\n",
       "      <td>1.0</td>\n",
       "      <td>0.0</td>\n",
       "    </tr>\n",
       "    <tr>\n",
       "      <th>3</th>\n",
       "      <td>1.0</td>\n",
       "      <td>0.010073</td>\n",
       "      <td>0.771084</td>\n",
       "      <td>0.20</td>\n",
       "      <td>0.016262</td>\n",
       "      <td>0.441176</td>\n",
       "      <td>0.438266</td>\n",
       "      <td>0.346939</td>\n",
       "      <td>0.196721</td>\n",
       "      <td>0.471621</td>\n",
       "      <td>...</td>\n",
       "      <td>0.0</td>\n",
       "      <td>0.0</td>\n",
       "      <td>1.0</td>\n",
       "      <td>0.0</td>\n",
       "      <td>0.0</td>\n",
       "      <td>1.0</td>\n",
       "      <td>0.0</td>\n",
       "      <td>1.0</td>\n",
       "      <td>0.0</td>\n",
       "      <td>0.0</td>\n",
       "    </tr>\n",
       "    <tr>\n",
       "      <th>4</th>\n",
       "      <td>0.2</td>\n",
       "      <td>0.011642</td>\n",
       "      <td>0.739759</td>\n",
       "      <td>0.37</td>\n",
       "      <td>0.004557</td>\n",
       "      <td>0.676471</td>\n",
       "      <td>0.707025</td>\n",
       "      <td>0.551020</td>\n",
       "      <td>0.754098</td>\n",
       "      <td>0.740596</td>\n",
       "      <td>...</td>\n",
       "      <td>0.0</td>\n",
       "      <td>0.0</td>\n",
       "      <td>0.0</td>\n",
       "      <td>0.0</td>\n",
       "      <td>1.0</td>\n",
       "      <td>0.0</td>\n",
       "      <td>0.0</td>\n",
       "      <td>0.0</td>\n",
       "      <td>1.0</td>\n",
       "      <td>0.0</td>\n",
       "    </tr>\n",
       "  </tbody>\n",
       "</table>\n",
       "<p>5 rows × 67 columns</p>\n",
       "</div>"
      ],
      "text/plain": [
       "   num_pipe__Year_Factor  num_pipe__floor_area  num_pipe__year_built  \\\n",
       "0                    0.8              0.008808              0.983133   \n",
       "1                    0.4              0.013240              0.785542   \n",
       "2                    1.0              0.174496              0.934940   \n",
       "3                    1.0              0.010073              0.771084   \n",
       "4                    0.2              0.011642              0.739759   \n",
       "\n",
       "   num_pipe__energy_star_rating  num_pipe__ELEVATION  \\\n",
       "0                          0.32             0.012792   \n",
       "1                          0.96             0.008027   \n",
       "2                          0.92             0.017039   \n",
       "3                          0.20             0.016262   \n",
       "4                          0.37             0.004557   \n",
       "\n",
       "   num_pipe__january_min_temp  num_pipe__january_avg_temp  \\\n",
       "0                    0.691176                    0.641555   \n",
       "1                    0.602941                    0.629895   \n",
       "2                    0.691176                    0.605082   \n",
       "3                    0.441176                    0.438266   \n",
       "4                    0.676471                    0.707025   \n",
       "\n",
       "   num_pipe__january_max_temp  num_pipe__february_min_temp  \\\n",
       "0                    0.428571                     0.737705   \n",
       "1                    0.469388                     0.622951   \n",
       "2                    0.285714                     0.770492   \n",
       "3                    0.346939                     0.196721   \n",
       "4                    0.551020                     0.754098   \n",
       "\n",
       "   num_pipe__february_avg_temp  ...  cat_pipe__State_Factor_State_2  \\\n",
       "0                     0.676309  ...                             0.0   \n",
       "1                     0.668044  ...                             0.0   \n",
       "2                     0.663793  ...                             0.0   \n",
       "3                     0.471621  ...                             0.0   \n",
       "4                     0.740596  ...                             0.0   \n",
       "\n",
       "   cat_pipe__State_Factor_State_4  cat_pipe__State_Factor_State_6  \\\n",
       "0                             0.0                             0.0   \n",
       "1                             0.0                             0.0   \n",
       "2                             0.0                             0.0   \n",
       "3                             0.0                             1.0   \n",
       "4                             0.0                             0.0   \n",
       "\n",
       "   cat_pipe__State_Factor_infrequent_sklearn  \\\n",
       "0                                        0.0   \n",
       "1                                        0.0   \n",
       "2                                        0.0   \n",
       "3                                        0.0   \n",
       "4                                        0.0   \n",
       "\n",
       "   cat_pipe__building_class_Commercial  cat_pipe__building_class_Residential  \\\n",
       "0                                  1.0                                   0.0   \n",
       "1                                  1.0                                   0.0   \n",
       "2                                  1.0                                   0.0   \n",
       "3                                  0.0                                   1.0   \n",
       "4                                  1.0                                   0.0   \n",
       "\n",
       "   cat_pipe__facility_type_Education_Other_classroom  \\\n",
       "0                                                0.0   \n",
       "1                                                0.0   \n",
       "2                                                0.0   \n",
       "3                                                0.0   \n",
       "4                                                0.0   \n",
       "\n",
       "   cat_pipe__facility_type_Multifamily_Uncategorized  \\\n",
       "0                                                0.0   \n",
       "1                                                0.0   \n",
       "2                                                0.0   \n",
       "3                                                1.0   \n",
       "4                                                0.0   \n",
       "\n",
       "   cat_pipe__facility_type_Office_Uncategorized  \\\n",
       "0                                           0.0   \n",
       "1                                           1.0   \n",
       "2                                           1.0   \n",
       "3                                           0.0   \n",
       "4                                           1.0   \n",
       "\n",
       "   cat_pipe__facility_type_infrequent_sklearn  \n",
       "0                                         1.0  \n",
       "1                                         0.0  \n",
       "2                                         0.0  \n",
       "3                                         0.0  \n",
       "4                                         0.0  \n",
       "\n",
       "[5 rows x 67 columns]"
      ]
     },
     "execution_count": 33,
     "metadata": {},
     "output_type": "execute_result"
    }
   ],
   "source": [
    "X_train_preproc.head(5)"
   ]
  },
  {
   "cell_type": "code",
   "execution_count": 34,
   "metadata": {},
   "outputs": [
    {
     "name": "stderr",
     "output_type": "stream",
     "text": [
      "2023/06/26 15:55:00 WARNING mlflow.utils.autologging_utils: MLflow autologging encountered a warning: \"/home/saori/.pyenv/versions/3.10.6/envs/lewagon/lib/python3.10/site-packages/mlflow/data/pandas_dataset.py:116: UserWarning: Hint: Inferred schema contains integer column(s). Integer columns in Python cannot represent missing values. If your input data contains missing values at inference time, it will be encoded as floats and will cause a schema enforcement error. The best way to avoid this problem is to infer the model schema based on a realistic data sample (training dataset) that includes missing values. Alternatively, you can declare integer columns as doubles (float64) whenever these columns may have missing values. See `Handling Integers With Missing Values <https://www.mlflow.org/docs/latest/models.html#handling-integers-with-missing-values>`_ for more details.\"\n"
     ]
    }
   ],
   "source": [
    "X_test_preproc = pd.DataFrame(preproc.transform(X_test), columns=preproc.get_feature_names_out())"
   ]
  },
  {
   "attachments": {},
   "cell_type": "markdown",
   "metadata": {},
   "source": [
    "## Model building"
   ]
  },
  {
   "cell_type": "code",
   "execution_count": 35,
   "metadata": {},
   "outputs": [],
   "source": [
    "import tensorflow as tf"
   ]
  },
  {
   "cell_type": "code",
   "execution_count": 47,
   "metadata": {},
   "outputs": [
    {
     "name": "stdout",
     "output_type": "stream",
     "text": [
      "number of features: 67\n"
     ]
    }
   ],
   "source": [
    "input_dim = X_train_preproc.shape[1]\n",
    "print(f\"number of features: {input_dim}\")"
   ]
  },
  {
   "cell_type": "code",
   "execution_count": 37,
   "metadata": {},
   "outputs": [],
   "source": [
    "# rmse loss function\n",
    "def rmse_loss(y_true, y_pred):\n",
    "    return tf.math.sqrt(tf.math.reduce_mean(((y_pred - y_true) ** 2), axis=1))"
   ]
  },
  {
   "cell_type": "code",
   "execution_count": 38,
   "metadata": {},
   "outputs": [],
   "source": [
    "def instantiate_model(input_dim):\n",
    "    '''instantiates model'''\n",
    "    \n",
    "    # simple model \n",
    "    # dropout added\n",
    "    inputs = tf.keras.Input(shape=(input_dim,))\n",
    "\n",
    "    x = tf.keras.layers.Dense(256, activation='relu')(inputs)\n",
    "    x = tf.keras.layers.Dense(128, activation='relu')(x)\n",
    "    x = tf.keras.layers.Dense(64, activation='relu')(x)\n",
    "    x = tf.keras.layers.Dense(32, activation='relu')(x)\n",
    "\n",
    "    outputs = tf.keras.layers.Dense(1, activation='linear')(x)\n",
    "\n",
    "    model = tf.keras.Model(inputs=inputs, outputs=outputs)\n",
    "\n",
    "    print(model.summary())\n",
    "    \n",
    "    return model"
   ]
  },
  {
   "cell_type": "code",
   "execution_count": 39,
   "metadata": {},
   "outputs": [],
   "source": [
    "def compile_model(model):\n",
    "    '''compiles given model'''\n",
    "    \n",
    "    opt_adam = tf.keras.optimizers.Adam(\n",
    "        learning_rate = .001, \n",
    "    )\n",
    "    \n",
    "    model.compile(\n",
    "        loss=rmse_loss,\n",
    "        optimizer=opt_adam,\n",
    "        metrics=['mse']\n",
    "    )\n",
    "    \n",
    "    return model"
   ]
  },
  {
   "cell_type": "code",
   "execution_count": 40,
   "metadata": {},
   "outputs": [],
   "source": [
    "def model_main(input_dim):\n",
    "    '''instantiates and compiles model'''\n",
    "    \n",
    "    model = instantiate_model(input_dim)\n",
    "    model = compile_model(model)\n",
    "    \n",
    "    return model"
   ]
  },
  {
   "attachments": {},
   "cell_type": "markdown",
   "metadata": {},
   "source": [
    "## Model training (with tensorboard)"
   ]
  },
  {
   "cell_type": "code",
   "execution_count": 52,
   "metadata": {},
   "outputs": [],
   "source": [
    "# # Load the TensorBoard notebook extension.\n",
    "# %load_ext tensorboard"
   ]
  },
  {
   "cell_type": "code",
   "execution_count": 53,
   "metadata": {},
   "outputs": [],
   "source": [
    "# from datetime import datetime\n",
    "# from packaging import version\n",
    "\n",
    "# print(\"TensorFlow version: \", tf.__version__)\n",
    "# assert version.parse(tf.__version__).release[0] >= 2, \\\n",
    "#     \"This notebook requires TensorFlow 2.0 or above.\""
   ]
  },
  {
   "cell_type": "code",
   "execution_count": 54,
   "metadata": {},
   "outputs": [],
   "source": [
    "# # Clear any logs from previous runs\n",
    "# !rm -rf ./logs/"
   ]
  },
  {
   "cell_type": "code",
   "execution_count": 40,
   "metadata": {},
   "outputs": [],
   "source": [
    "# logdir = 'logs/' + datetime.now().strftime(\"%Y%m%d-%H%M%S\")\n",
    "# tb_cb = tf.keras.callbacks.TensorBoard(log_dir=logdir)"
   ]
  },
  {
   "cell_type": "code",
   "execution_count": 41,
   "metadata": {},
   "outputs": [
    {
     "name": "stdout",
     "output_type": "stream",
     "text": [
      "Model: \"model_2\"\n",
      "_________________________________________________________________\n",
      " Layer (type)                Output Shape              Param #   \n",
      "=================================================================\n",
      " input_3 (InputLayer)        [(None, 71)]              0         \n",
      "                                                                 \n",
      " dense_10 (Dense)            (None, 256)               18432     \n",
      "                                                                 \n",
      " dense_11 (Dense)            (None, 128)               32896     \n",
      "                                                                 \n",
      " dense_12 (Dense)            (None, 64)                8256      \n",
      "                                                                 \n",
      " dense_13 (Dense)            (None, 32)                2080      \n",
      "                                                                 \n",
      " dense_14 (Dense)            (None, 1)                 33        \n",
      "                                                                 \n",
      "=================================================================\n",
      "Total params: 61,697\n",
      "Trainable params: 61,697\n",
      "Non-trainable params: 0\n",
      "_________________________________________________________________\n",
      "None\n",
      "Epoch 1/1000\n",
      "2131/2131 [==============================] - 16s 6ms/step - loss: 26.8276 - mse: 2940.5378 - val_loss: 25.7245 - val_mse: 2725.3992\n",
      "Epoch 2/1000\n",
      "2131/2131 [==============================] - 12s 6ms/step - loss: 25.4945 - mse: 2788.3340 - val_loss: 25.3066 - val_mse: 2794.7532\n",
      "Epoch 3/1000\n",
      "2131/2131 [==============================] - 13s 6ms/step - loss: 25.2626 - mse: 2766.2285 - val_loss: 25.0558 - val_mse: 2746.6567\n",
      "Epoch 4/1000\n",
      "2131/2131 [==============================] - 16s 7ms/step - loss: 25.1002 - mse: 2743.2063 - val_loss: 25.0925 - val_mse: 2754.7639\n",
      "Epoch 5/1000\n",
      "2131/2131 [==============================] - 16s 7ms/step - loss: 24.9690 - mse: 2729.9922 - val_loss: 24.9191 - val_mse: 2790.4731\n",
      "Epoch 6/1000\n",
      "2131/2131 [==============================] - 19s 9ms/step - loss: 24.8646 - mse: 2727.2441 - val_loss: 24.5988 - val_mse: 2693.2454\n",
      "Epoch 7/1000\n",
      "2131/2131 [==============================] - 16s 7ms/step - loss: 24.7736 - mse: 2708.2432 - val_loss: 24.6220 - val_mse: 2746.6143\n",
      "Epoch 8/1000\n",
      "2131/2131 [==============================] - 17s 8ms/step - loss: 24.6758 - mse: 2702.2256 - val_loss: 24.6138 - val_mse: 2717.9229\n",
      "Epoch 9/1000\n",
      "2131/2131 [==============================] - 12s 6ms/step - loss: 24.6289 - mse: 2696.4368 - val_loss: 24.5705 - val_mse: 2658.8516\n",
      "Epoch 10/1000\n",
      "2131/2131 [==============================] - 14s 7ms/step - loss: 24.5624 - mse: 2683.0515 - val_loss: 24.4861 - val_mse: 2699.2546\n",
      "Epoch 11/1000\n",
      "2131/2131 [==============================] - 18s 8ms/step - loss: 24.4964 - mse: 2677.9365 - val_loss: 24.2450 - val_mse: 2666.5149\n",
      "Epoch 12/1000\n",
      "2131/2131 [==============================] - 19s 9ms/step - loss: 24.4233 - mse: 2670.5920 - val_loss: 24.3156 - val_mse: 2735.9294\n",
      "Epoch 13/1000\n",
      "2131/2131 [==============================] - 20s 9ms/step - loss: 24.3842 - mse: 2670.1006 - val_loss: 24.3605 - val_mse: 2644.7090\n",
      "Epoch 14/1000\n",
      "2131/2131 [==============================] - 17s 8ms/step - loss: 24.3022 - mse: 2661.0759 - val_loss: 24.4405 - val_mse: 2717.6877\n",
      "Epoch 15/1000\n",
      "2131/2131 [==============================] - 16s 8ms/step - loss: 24.3122 - mse: 2656.2036 - val_loss: 24.3702 - val_mse: 2674.0864\n",
      "Epoch 16/1000\n",
      "2131/2131 [==============================] - 15s 7ms/step - loss: 24.2642 - mse: 2649.9763 - val_loss: 24.4272 - val_mse: 2727.8835\n",
      "Epoch 17/1000\n",
      "2131/2131 [==============================] - 13s 6ms/step - loss: 24.2436 - mse: 2652.6348 - val_loss: 24.2459 - val_mse: 2666.3821\n",
      "Epoch 18/1000\n",
      "2131/2131 [==============================] - 13s 6ms/step - loss: 24.2076 - mse: 2650.5239 - val_loss: 24.5084 - val_mse: 2698.3682\n",
      "Epoch 19/1000\n",
      "2131/2131 [==============================] - 15s 7ms/step - loss: 24.2010 - mse: 2643.4844 - val_loss: 24.3396 - val_mse: 2708.1592\n",
      "Epoch 20/1000\n",
      "2131/2131 [==============================] - 17s 8ms/step - loss: 24.1446 - mse: 2642.0132 - val_loss: 24.1230 - val_mse: 2671.4189\n",
      "Epoch 21/1000\n",
      "2131/2131 [==============================] - 34s 16ms/step - loss: 24.1367 - mse: 2630.2275 - val_loss: 24.2326 - val_mse: 2686.4585\n",
      "Epoch 22/1000\n",
      "2131/2131 [==============================] - 16s 8ms/step - loss: 24.0995 - mse: 2633.0525 - val_loss: 24.0809 - val_mse: 2612.9517\n",
      "Epoch 23/1000\n",
      "2131/2131 [==============================] - 17s 8ms/step - loss: 24.0545 - mse: 2629.5803 - val_loss: 24.2447 - val_mse: 2681.9536\n",
      "Epoch 24/1000\n",
      "2131/2131 [==============================] - 15s 7ms/step - loss: 24.0327 - mse: 2621.5535 - val_loss: 24.1247 - val_mse: 2604.0552\n",
      "Epoch 25/1000\n",
      "2131/2131 [==============================] - 11s 5ms/step - loss: 24.0307 - mse: 2621.8931 - val_loss: 24.0141 - val_mse: 2630.6340\n",
      "Epoch 26/1000\n",
      "2131/2131 [==============================] - 13s 6ms/step - loss: 23.9985 - mse: 2615.3147 - val_loss: 24.3332 - val_mse: 2700.7715\n",
      "Epoch 27/1000\n",
      "2131/2131 [==============================] - 15s 7ms/step - loss: 23.9862 - mse: 2617.7539 - val_loss: 24.0444 - val_mse: 2651.3916\n",
      "Epoch 28/1000\n",
      "2131/2131 [==============================] - 21s 10ms/step - loss: 23.9330 - mse: 2611.3630 - val_loss: 24.4099 - val_mse: 2691.3511\n",
      "Epoch 29/1000\n",
      "2131/2131 [==============================] - 15s 7ms/step - loss: 23.9417 - mse: 2611.8279 - val_loss: 24.2611 - val_mse: 2630.5518\n",
      "Epoch 30/1000\n",
      "2131/2131 [==============================] - 14s 7ms/step - loss: 23.9227 - mse: 2608.8738 - val_loss: 24.1767 - val_mse: 2712.5369\n",
      "Epoch 31/1000\n",
      "2131/2131 [==============================] - 15s 7ms/step - loss: 23.9100 - mse: 2603.7075 - val_loss: 24.1375 - val_mse: 2641.0640\n",
      "Epoch 32/1000\n",
      "2131/2131 [==============================] - 15s 7ms/step - loss: 23.8743 - mse: 2600.0254 - val_loss: 23.9653 - val_mse: 2593.0085\n",
      "Epoch 33/1000\n",
      "2131/2131 [==============================] - 15s 7ms/step - loss: 23.8630 - mse: 2598.8250 - val_loss: 24.0315 - val_mse: 2623.2803\n",
      "Epoch 34/1000\n",
      "2131/2131 [==============================] - 15s 7ms/step - loss: 23.8089 - mse: 2592.9829 - val_loss: 24.1567 - val_mse: 2607.7390\n",
      "Epoch 35/1000\n",
      "2131/2131 [==============================] - 15s 7ms/step - loss: 23.8073 - mse: 2589.1963 - val_loss: 24.0840 - val_mse: 2674.1846\n",
      "Epoch 36/1000\n",
      "2131/2131 [==============================] - 14s 7ms/step - loss: 23.8077 - mse: 2590.2219 - val_loss: 24.0214 - val_mse: 2616.3740\n",
      "Epoch 37/1000\n",
      "2131/2131 [==============================] - 14s 7ms/step - loss: 23.7657 - mse: 2589.8892 - val_loss: 24.1827 - val_mse: 2612.5615\n",
      "Epoch 38/1000\n",
      "2131/2131 [==============================] - 15s 7ms/step - loss: 23.7413 - mse: 2586.1270 - val_loss: 24.0033 - val_mse: 2623.8350\n",
      "Epoch 39/1000\n",
      "2131/2131 [==============================] - 15s 7ms/step - loss: 23.7494 - mse: 2589.0896 - val_loss: 23.9852 - val_mse: 2598.2954\n",
      "Epoch 40/1000\n",
      "2131/2131 [==============================] - 17s 8ms/step - loss: 23.7252 - mse: 2575.5317 - val_loss: 24.0973 - val_mse: 2630.8948\n",
      "Epoch 41/1000\n",
      "2131/2131 [==============================] - 20s 10ms/step - loss: 23.7343 - mse: 2583.1147 - val_loss: 24.0192 - val_mse: 2654.5686\n",
      "Epoch 42/1000\n",
      "2131/2131 [==============================] - 15s 7ms/step - loss: 23.6909 - mse: 2578.8201 - val_loss: 23.8792 - val_mse: 2603.4187\n",
      "Epoch 43/1000\n",
      "2131/2131 [==============================] - 15s 7ms/step - loss: 23.6778 - mse: 2572.6875 - val_loss: 24.2256 - val_mse: 2695.9229\n",
      "Epoch 44/1000\n",
      "2131/2131 [==============================] - 15s 7ms/step - loss: 23.6707 - mse: 2569.4709 - val_loss: 23.8310 - val_mse: 2623.1382\n",
      "Epoch 45/1000\n",
      "2131/2131 [==============================] - 14s 7ms/step - loss: 23.6480 - mse: 2569.9976 - val_loss: 24.0129 - val_mse: 2658.8721\n",
      "Epoch 46/1000\n",
      "2131/2131 [==============================] - 18s 9ms/step - loss: 23.6181 - mse: 2558.6228 - val_loss: 24.1930 - val_mse: 2679.6902\n",
      "Epoch 47/1000\n",
      "2131/2131 [==============================] - 33s 15ms/step - loss: nan - mse: nan - val_loss: nan - val_mse: nan\n",
      "Epoch 48/1000\n",
      "2131/2131 [==============================] - 24s 11ms/step - loss: nan - mse: nan - val_loss: nan - val_mse: nan\n",
      "Epoch 49/1000\n",
      "2131/2131 [==============================] - 25s 12ms/step - loss: nan - mse: nan - val_loss: nan - val_mse: nan\n",
      "Epoch 50/1000\n",
      "2131/2131 [==============================] - 33s 15ms/step - loss: nan - mse: nan - val_loss: nan - val_mse: nan\n",
      "Epoch 51/1000\n",
      "2131/2131 [==============================] - 28s 13ms/step - loss: nan - mse: nan - val_loss: nan - val_mse: nan\n",
      "Epoch 52/1000\n",
      "2131/2131 [==============================] - 17s 8ms/step - loss: nan - mse: nan - val_loss: nan - val_mse: nan\n",
      "Epoch 53/1000\n",
      "2131/2131 [==============================] - 20s 9ms/step - loss: nan - mse: nan - val_loss: nan - val_mse: nan\n",
      "Epoch 54/1000\n",
      "1866/2131 [=========================>....] - ETA: 2s - loss: nan - mse: nan"
     ]
    }
   ],
   "source": [
    "# # instantiates and compiles model\n",
    "# model = model_main(input_dim)\n",
    "\n",
    "# # callbacks\n",
    "# es = tf.keras.callbacks.EarlyStopping(\n",
    "#     monitor='val_loss', \n",
    "#     patience=10,\n",
    "#     restore_best_weights=True\n",
    "# )\n",
    "\n",
    "# logdir = 'logs/' + datetime.now().strftime(\"%Y%m%d-%H%M%S\")\n",
    "# tb_cb = tf.keras.callbacks.TensorBoard(log_dir=logdir)\n",
    "# file_writer = tf.summary.create_file_writer(logdir + \"/metrics\")\n",
    "# file_writer.set_as_default()\n",
    "\n",
    "# # training\n",
    "# history = model.fit(\n",
    "#     X_train_preproc, y_train,\n",
    "#     verbose=1,\n",
    "#     callbacks=[es, tb_cb],\n",
    "#     validation_data=(X_val_preproc, y_val),\n",
    "#     epochs=1000,\n",
    "#     batch_size=32,\n",
    "# )"
   ]
  },
  {
   "cell_type": "code",
   "execution_count": 37,
   "metadata": {},
   "outputs": [
    {
     "data": {
      "text/plain": [
       "Reusing TensorBoard on port 6006 (pid 11389), started 0:00:43 ago. (Use '!kill 11389' to kill it.)"
      ]
     },
     "metadata": {},
     "output_type": "display_data"
    },
    {
     "data": {
      "text/html": [
       "\n",
       "      <iframe id=\"tensorboard-frame-5db09d7ea429b325\" width=\"100%\" height=\"800\" frameborder=\"0\">\n",
       "      </iframe>\n",
       "      <script>\n",
       "        (function() {\n",
       "          const frame = document.getElementById(\"tensorboard-frame-5db09d7ea429b325\");\n",
       "          const url = new URL(\"http://localhost\");\n",
       "          const port = 6006;\n",
       "          if (port) {\n",
       "            url.port = port;\n",
       "          }\n",
       "          frame.src = url;\n",
       "        })();\n",
       "      </script>\n",
       "    "
      ],
      "text/plain": [
       "<IPython.core.display.HTML object>"
      ]
     },
     "metadata": {},
     "output_type": "display_data"
    }
   ],
   "source": [
    "# %tensorboard --logdir logs"
   ]
  },
  {
   "cell_type": "code",
   "execution_count": null,
   "metadata": {},
   "outputs": [],
   "source": []
  },
  {
   "attachments": {},
   "cell_type": "markdown",
   "metadata": {},
   "source": [
    "## Model training (with mlflow)"
   ]
  },
  {
   "cell_type": "code",
   "execution_count": 41,
   "metadata": {},
   "outputs": [],
   "source": [
    "import mlflow"
   ]
  },
  {
   "cell_type": "code",
   "execution_count": 82,
   "metadata": {},
   "outputs": [
    {
     "name": "stderr",
     "output_type": "stream",
     "text": [
      "2023/06/26 16:54:35 INFO mlflow.tracking.fluent: Autologging successfully enabled for tensorflow.\n",
      "2023/06/26 16:54:36 INFO mlflow.tracking.fluent: Autologging successfully enabled for sklearn.\n"
     ]
    },
    {
     "name": "stdout",
     "output_type": "stream",
     "text": [
      "Model: \"model_4\"\n",
      "_________________________________________________________________\n",
      " Layer (type)                Output Shape              Param #   \n",
      "=================================================================\n",
      " input_381 (InputLayer)      [(None, 67)]              0         \n",
      "                                                                 \n",
      " dense_1521 (Dense)          (None, 256)               17408     \n",
      "                                                                 \n",
      " dense_1522 (Dense)          (None, 128)               32896     \n",
      "                                                                 \n",
      " dense_1523 (Dense)          (None, 64)                8256      \n",
      "                                                                 \n",
      " dense_1524 (Dense)          (None, 32)                2080      \n",
      "                                                                 \n",
      " dense_1525 (Dense)          (None, 1)                 33        \n",
      "                                                                 \n",
      "=================================================================\n",
      "Total params: 60,673\n",
      "Trainable params: 60,673\n",
      "Non-trainable params: 0\n",
      "_________________________________________________________________\n",
      "None\n"
     ]
    },
    {
     "name": "stderr",
     "output_type": "stream",
     "text": [
      "2023/06/26 16:54:36 INFO mlflow.utils.autologging_utils: Created MLflow autologging run with ID '1804541f1dca4c4985e3c9ac8d5260fb', which will track hyperparameters, performance metrics, model artifacts, and lineage information for the current tensorflow workflow\n",
      "2023/06/26 16:54:36 WARNING mlflow.tensorflow: Unrecognized dataset type <class 'pandas.core.frame.DataFrame'>. Dataset logging skipped.\n",
      "2023/06/26 16:54:36 WARNING mlflow.tensorflow: Failed to log training dataset information to MLflow Tracking. Reason: 'DataFrame' object has no attribute 'flatten'\n"
     ]
    },
    {
     "name": "stdout",
     "output_type": "stream",
     "text": [
      "Epoch 1/5\n",
      "   1/1066 [..............................] - ETA: 18:49 - loss: 79.2267 - mse: 7888.9121WARNING:tensorflow:Callback method `on_train_batch_end` is slow compared to the batch time (batch time: 0.0046s vs `on_train_batch_end` time: 0.0065s). Check your callbacks.\n",
      "1066/1066 [==============================] - 11s 9ms/step - loss: 28.7644 - mse: 3138.7993 - val_loss: 26.6963 - val_mse: 2956.3501\n",
      "Epoch 2/5\n",
      "1066/1066 [==============================] - 12s 11ms/step - loss: 25.9821 - mse: 2826.3538 - val_loss: 25.6748 - val_mse: 2809.2368\n",
      "Epoch 3/5\n",
      "1066/1066 [==============================] - 7s 7ms/step - loss: 25.7348 - mse: 2797.5513 - val_loss: 25.6871 - val_mse: 2714.1624\n",
      "Epoch 4/5\n",
      "1066/1066 [==============================] - 8s 7ms/step - loss: 25.6186 - mse: 2788.6211 - val_loss: 25.4008 - val_mse: 2785.0239\n",
      "Epoch 5/5\n",
      "1066/1066 [==============================] - 11s 10ms/step - loss: 25.5523 - mse: 2777.2595 - val_loss: 25.7586 - val_mse: 2751.9365\n"
     ]
    },
    {
     "name": "stderr",
     "output_type": "stream",
     "text": [
      "2023/06/26 16:55:25 WARNING mlflow.tensorflow: Failed to infer model signature: could not sample data to infer model signature: Cannot log input example or model signature for input with type <class 'pandas.core.frame.DataFrame'>. TensorFlow Keras autologging can only log input examples and model signatures for the following input types: numpy.ndarray, dict[string -> numpy.ndarray], tensorflow.keras.utils.Sequence, and tensorflow.data.Dataset (TensorFlow >= 2.1.0 required)\n",
      "2023/06/26 16:55:25 WARNING mlflow.tensorflow: You are saving a TensorFlow Core model or Keras model without a signature. Inference with mlflow.pyfunc.spark_udf() will not work unless the model's pyfunc representation accepts pandas DataFrames as inference inputs.\n"
     ]
    },
    {
     "name": "stdout",
     "output_type": "stream",
     "text": [
      "INFO:tensorflow:Assets written to: /tmp/tmpfqbjcfcp/model/data/model/assets\n"
     ]
    },
    {
     "name": "stderr",
     "output_type": "stream",
     "text": [
      "2023/06/26 16:55:37 WARNING mlflow.utils.environment: Encountered an unexpected error while inferring pip requirements (model URI: /tmp/tmpfqbjcfcp/model, flavor: tensorflow), fall back to return ['tensorflow==2.10.0']. Set logging level to DEBUG to see the full traceback.\n"
     ]
    }
   ],
   "source": [
    "mlflow.autolog()\n",
    "\n",
    "# instantiates and compiles model\n",
    "model = model_main(input_dim)\n",
    "\n",
    "# callbacks\n",
    "es = tf.keras.callbacks.EarlyStopping(\n",
    "    monitor='val_loss', \n",
    "    patience=5,\n",
    "    restore_best_weights=True\n",
    ")\n",
    "\n",
    "# training\n",
    "history = model.fit(\n",
    "    X_train_preproc, y_train,\n",
    "    verbose=1,\n",
    "    callbacks=[es],\n",
    "    validation_data=(X_val_preproc, y_val),\n",
    "    epochs=1000,\n",
    "    batch_size=64,\n",
    ")"
   ]
  },
  {
   "attachments": {},
   "cell_type": "markdown",
   "metadata": {},
   "source": [
    "## Experimenting with model architecture"
   ]
  },
  {
   "cell_type": "code",
   "execution_count": 91,
   "metadata": {},
   "outputs": [],
   "source": [
    "import itertools"
   ]
  },
  {
   "cell_type": "code",
   "execution_count": 100,
   "metadata": {},
   "outputs": [],
   "source": [
    "def build_models(num_layers, input_shape, node_start = 5, node_end = 8):\n",
    "    node_options = [2**x for x in range(node_start, node_end+1)]\n",
    "    possibilities = [node_options] * num_layers\n",
    "    node_permutations = list(itertools.product(*possibilities))\n",
    "    \n",
    "    models = []\n",
    "    for permutation in node_permutations:\n",
    "        # number of nodes has to get smaller or remain the same in the later layers\n",
    "        check = 0\n",
    "        for i in len(permutation)-1:\n",
    "            if permutation[i+1] > permutation[i]:\n",
    "                check += 1\n",
    "        if check > 0:\n",
    "            continue\n",
    "            \n",
    "        # if ther permutation satisfies the above condition\n",
    "        else:\n",
    "            model = tf.keras.Sequential()\n",
    "            model.add(tf.keras.layers.InputLayer(input_shape=input_shape))\n",
    "            model_name = ''\n",
    "            \n",
    "            for node in permutation:\n",
    "                model.add(tf.keras.layers.Dense(node, activation='relu'))\n",
    "                model_name += f'dense{node}_'\n",
    "            \n",
    "            model.add(tf.keras.layers.Dense(1, activation='linear'))\n",
    "            model._name = model_name[:-1]\n",
    "            models.append(model)\n",
    "    \n",
    "    return models"
   ]
  },
  {
   "cell_type": "code",
   "execution_count": 101,
   "metadata": {},
   "outputs": [],
   "source": [
    "def train_models(models, X_train, y_train, X_val, y_val, epochs=100, patience=2, verbose=1):\n",
    "    \n",
    "    def compile_model(model):\n",
    "        '''compiles given model'''\n",
    "        opt_adam = tf.keras.optimizers.Adam(\n",
    "            learning_rate = .001, \n",
    "        )\n",
    "        model.compile(\n",
    "            loss=rmse_loss,\n",
    "            optimizer=opt_adam,\n",
    "            metrics=['mse']\n",
    "        )\n",
    "        return model\n",
    "    \n",
    "    def train_model(model):\n",
    "        es = tf.keras.callbacks.EarlyStopping(\n",
    "            monitor='val_loss', \n",
    "            patience=patience,\n",
    "            restore_best_weights=True\n",
    "        )\n",
    "        # training\n",
    "        history = model.fit(\n",
    "            X_train, y_train,\n",
    "            verbose=verbose,\n",
    "            callbacks=[es],\n",
    "            validation_data=(X_val, y_val),\n",
    "            epochs=epochs,\n",
    "        )\n",
    "        return model, history\n",
    "        \n",
    "    records = []\n",
    "    for i, model in enumerate(models):\n",
    "        print(f\"model #{i+1}: {model.name}\")\n",
    "        mlflow.autolog()\n",
    "        model_ = compile_model(model)\n",
    "        model_, history = train_model(model_)\n",
    "        min_val_loss = min(history.history['val_loss'])\n",
    "        best_index = history.history['val_loss'].index(min_val_loss)\n",
    "        train_loss = history.history['loss'][best_index]\n",
    "        \n",
    "        record = {'model_name': model.name, 'model': model_, 'train_history': history, 'min_val_loss': min_val_loss, 'train_loss': train_loss}\n",
    "        records.append(record)\n",
    "    \n",
    "    return records \n",
    "        "
   ]
  },
  {
   "cell_type": "code",
   "execution_count": 102,
   "metadata": {},
   "outputs": [],
   "source": [
    "models = build_models(3, (input_dim,))"
   ]
  },
  {
   "cell_type": "code",
   "execution_count": 104,
   "metadata": {},
   "outputs": [
    {
     "data": {
      "text/plain": [
       "20"
      ]
     },
     "execution_count": 104,
     "metadata": {},
     "output_type": "execute_result"
    }
   ],
   "source": [
    "len(models)"
   ]
  },
  {
   "cell_type": "code",
   "execution_count": 105,
   "metadata": {},
   "outputs": [
    {
     "name": "stderr",
     "output_type": "stream",
     "text": [
      "2023/06/26 17:12:45 INFO mlflow.tracking.fluent: Autologging successfully enabled for tensorflow.\n",
      "2023/06/26 17:12:46 INFO mlflow.tracking.fluent: Autologging successfully enabled for sklearn.\n"
     ]
    },
    {
     "name": "stdout",
     "output_type": "stream",
     "text": [
      "model #1: dense32_dense32_dense32\n"
     ]
    },
    {
     "name": "stderr",
     "output_type": "stream",
     "text": [
      "2023/06/26 17:12:46 INFO mlflow.utils.autologging_utils: Created MLflow autologging run with ID 'a366385abba24c948e5142686befe2a1', which will track hyperparameters, performance metrics, model artifacts, and lineage information for the current tensorflow workflow\n",
      "2023/06/26 17:12:46 WARNING mlflow.tensorflow: Unrecognized dataset type <class 'pandas.core.frame.DataFrame'>. Dataset logging skipped.\n",
      "2023/06/26 17:12:46 WARNING mlflow.tensorflow: Failed to log training dataset information to MLflow Tracking. Reason: 'DataFrame' object has no attribute 'flatten'\n"
     ]
    },
    {
     "name": "stdout",
     "output_type": "stream",
     "text": [
      "Epoch 1/100\n",
      "   1/2131 [..............................] - ETA: 35:23 - loss: 80.5329 - mse: 9568.5547WARNING:tensorflow:Callback method `on_train_batch_end` is slow compared to the batch time (batch time: 0.0024s vs `on_train_batch_end` time: 0.0049s). Check your callbacks.\n",
      "2131/2131 [==============================] - 11s 5ms/step - loss: 30.0788 - mse: 3302.4673 - val_loss: 26.6772 - val_mse: 2926.5869\n",
      "Epoch 2/100\n",
      "2131/2131 [==============================] - 13s 6ms/step - loss: 26.2374 - mse: 2857.6448 - val_loss: 27.1764 - val_mse: 3007.0845\n",
      "Epoch 3/100\n",
      "2131/2131 [==============================] - 9s 4ms/step - loss: 26.0725 - mse: 2844.5066 - val_loss: 25.9154 - val_mse: 2858.4895\n",
      "Epoch 4/100\n",
      "2131/2131 [==============================] - 11s 5ms/step - loss: 25.8956 - mse: 2828.2280 - val_loss: 25.7177 - val_mse: 2795.0913\n",
      "Epoch 5/100\n",
      "2131/2131 [==============================] - 8s 4ms/step - loss: 25.7656 - mse: 2812.6848 - val_loss: 25.4983 - val_mse: 2776.1375\n",
      "Epoch 6/100\n",
      "2131/2131 [==============================] - 7s 3ms/step - loss: 25.6016 - mse: 2798.9634 - val_loss: 25.6997 - val_mse: 2875.6636\n",
      "Epoch 7/100\n",
      "2131/2131 [==============================] - 7s 3ms/step - loss: 25.5176 - mse: 2790.3049 - val_loss: 25.3331 - val_mse: 2810.7119\n",
      "Epoch 8/100\n",
      "2131/2131 [==============================] - 7s 3ms/step - loss: 25.4776 - mse: 2783.7739 - val_loss: 25.3589 - val_mse: 2813.1489\n",
      "Epoch 9/100\n",
      "2131/2131 [==============================] - 7s 3ms/step - loss: 25.4453 - mse: 2780.3032 - val_loss: 25.2610 - val_mse: 2788.5696\n",
      "Epoch 10/100\n",
      "2131/2131 [==============================] - 7s 3ms/step - loss: 25.3872 - mse: 2772.0276 - val_loss: 25.2849 - val_mse: 2728.7339\n",
      "Epoch 11/100\n",
      "2131/2131 [==============================] - 11s 5ms/step - loss: 25.3699 - mse: 2764.8152 - val_loss: 25.3174 - val_mse: 2722.1804\n"
     ]
    },
    {
     "name": "stderr",
     "output_type": "stream",
     "text": [
      "2023/06/26 17:14:25 WARNING mlflow.tensorflow: Failed to infer model signature: could not sample data to infer model signature: Cannot log input example or model signature for input with type <class 'pandas.core.frame.DataFrame'>. TensorFlow Keras autologging can only log input examples and model signatures for the following input types: numpy.ndarray, dict[string -> numpy.ndarray], tensorflow.keras.utils.Sequence, and tensorflow.data.Dataset (TensorFlow >= 2.1.0 required)\n",
      "2023/06/26 17:14:25 WARNING mlflow.tensorflow: You are saving a TensorFlow Core model or Keras model without a signature. Inference with mlflow.pyfunc.spark_udf() will not work unless the model's pyfunc representation accepts pandas DataFrames as inference inputs.\n"
     ]
    },
    {
     "name": "stdout",
     "output_type": "stream",
     "text": [
      "INFO:tensorflow:Assets written to: /tmp/tmphbpkc11f/model/data/model/assets\n"
     ]
    },
    {
     "name": "stderr",
     "output_type": "stream",
     "text": [
      "2023/06/26 17:14:33 WARNING mlflow.utils.environment: Encountered an unexpected error while inferring pip requirements (model URI: /tmp/tmphbpkc11f/model, flavor: tensorflow), fall back to return ['tensorflow==2.10.0']. Set logging level to DEBUG to see the full traceback.\n",
      "2023/06/26 17:14:33 INFO mlflow.tracking.fluent: Autologging successfully enabled for tensorflow.\n"
     ]
    },
    {
     "name": "stdout",
     "output_type": "stream",
     "text": [
      "model #2: dense64_dense32_dense32\n"
     ]
    },
    {
     "name": "stderr",
     "output_type": "stream",
     "text": [
      "2023/06/26 17:14:34 INFO mlflow.tracking.fluent: Autologging successfully enabled for sklearn.\n",
      "2023/06/26 17:14:34 INFO mlflow.utils.autologging_utils: Created MLflow autologging run with ID 'd5afbbd499be4b95917f0fe655aef21b', which will track hyperparameters, performance metrics, model artifacts, and lineage information for the current tensorflow workflow\n",
      "2023/06/26 17:14:34 WARNING mlflow.tensorflow: Unrecognized dataset type <class 'pandas.core.frame.DataFrame'>. Dataset logging skipped.\n",
      "2023/06/26 17:14:34 WARNING mlflow.tensorflow: Failed to log training dataset information to MLflow Tracking. Reason: 'DataFrame' object has no attribute 'flatten'\n"
     ]
    },
    {
     "name": "stdout",
     "output_type": "stream",
     "text": [
      "Epoch 1/100\n",
      "   1/2131 [..............................] - ETA: 32:08 - loss: 85.4566 - mse: 8773.7510WARNING:tensorflow:Callback method `on_train_batch_end` is slow compared to the batch time (batch time: 0.0029s vs `on_train_batch_end` time: 0.0046s). Check your callbacks.\n",
      "2131/2131 [==============================] - 16s 7ms/step - loss: 29.3334 - mse: 3219.3887 - val_loss: 26.5335 - val_mse: 2858.3110\n",
      "Epoch 2/100\n",
      "2131/2131 [==============================] - 11s 5ms/step - loss: 26.2707 - mse: 2872.8938 - val_loss: 26.3536 - val_mse: 2915.4924\n",
      "Epoch 3/100\n",
      "2131/2131 [==============================] - 9s 4ms/step - loss: 26.0997 - mse: 2848.5911 - val_loss: 25.9719 - val_mse: 2808.1875\n",
      "Epoch 4/100\n",
      "2131/2131 [==============================] - 13s 6ms/step - loss: 25.9677 - mse: 2834.7373 - val_loss: 25.8730 - val_mse: 2878.0466\n",
      "Epoch 5/100\n",
      "2131/2131 [==============================] - 13s 6ms/step - loss: 25.8427 - mse: 2821.9832 - val_loss: 25.5866 - val_mse: 2814.0393\n",
      "Epoch 6/100\n",
      "2131/2131 [==============================] - 8s 4ms/step - loss: 25.7186 - mse: 2803.9270 - val_loss: 25.4889 - val_mse: 2803.0542\n",
      "Epoch 7/100\n",
      "2131/2131 [==============================] - 12s 6ms/step - loss: 25.6391 - mse: 2787.9563 - val_loss: 25.3977 - val_mse: 2771.7827\n",
      "Epoch 8/100\n",
      "2131/2131 [==============================] - 11s 5ms/step - loss: 25.5746 - mse: 2785.6016 - val_loss: 25.4926 - val_mse: 2784.2083\n",
      "Epoch 9/100\n",
      "2131/2131 [==============================] - 18s 9ms/step - loss: 25.5225 - mse: 2781.8865 - val_loss: 25.3623 - val_mse: 2732.3228\n",
      "Epoch 10/100\n",
      "2131/2131 [==============================] - 13s 6ms/step - loss: 25.4966 - mse: 2776.7769 - val_loss: 25.6132 - val_mse: 2856.1350\n",
      "Epoch 11/100\n",
      "2131/2131 [==============================] - 17s 8ms/step - loss: 25.4641 - mse: 2778.6650 - val_loss: 25.2427 - val_mse: 2769.9443\n",
      "Epoch 12/100\n",
      "2131/2131 [==============================] - 11s 5ms/step - loss: 25.4085 - mse: 2774.5520 - val_loss: 25.6421 - val_mse: 2866.9817\n",
      "Epoch 13/100\n",
      "2131/2131 [==============================] - 10s 5ms/step - loss: 25.3963 - mse: 2771.7322 - val_loss: 25.2552 - val_mse: 2775.7832\n"
     ]
    },
    {
     "name": "stderr",
     "output_type": "stream",
     "text": [
      "2023/06/26 17:17:16 WARNING mlflow.tensorflow: Failed to infer model signature: could not sample data to infer model signature: Cannot log input example or model signature for input with type <class 'pandas.core.frame.DataFrame'>. TensorFlow Keras autologging can only log input examples and model signatures for the following input types: numpy.ndarray, dict[string -> numpy.ndarray], tensorflow.keras.utils.Sequence, and tensorflow.data.Dataset (TensorFlow >= 2.1.0 required)\n",
      "2023/06/26 17:17:16 WARNING mlflow.tensorflow: You are saving a TensorFlow Core model or Keras model without a signature. Inference with mlflow.pyfunc.spark_udf() will not work unless the model's pyfunc representation accepts pandas DataFrames as inference inputs.\n"
     ]
    },
    {
     "name": "stdout",
     "output_type": "stream",
     "text": [
      "INFO:tensorflow:Assets written to: /tmp/tmpt8o7f6mj/model/data/model/assets\n"
     ]
    },
    {
     "name": "stderr",
     "output_type": "stream",
     "text": [
      "2023/06/26 17:17:22 WARNING mlflow.utils.environment: Encountered an unexpected error while inferring pip requirements (model URI: /tmp/tmpt8o7f6mj/model, flavor: tensorflow), fall back to return ['tensorflow==2.10.0']. Set logging level to DEBUG to see the full traceback.\n",
      "2023/06/26 17:17:23 INFO mlflow.tracking.fluent: Autologging successfully enabled for tensorflow.\n",
      "2023/06/26 17:17:23 INFO mlflow.tracking.fluent: Autologging successfully enabled for sklearn.\n"
     ]
    },
    {
     "name": "stdout",
     "output_type": "stream",
     "text": [
      "model #3: dense64_dense64_dense32\n"
     ]
    },
    {
     "name": "stderr",
     "output_type": "stream",
     "text": [
      "2023/06/26 17:17:23 INFO mlflow.utils.autologging_utils: Created MLflow autologging run with ID '4ab70247dd454ae89fc78e7a7ed3427f', which will track hyperparameters, performance metrics, model artifacts, and lineage information for the current tensorflow workflow\n",
      "2023/06/26 17:17:23 WARNING mlflow.tensorflow: Unrecognized dataset type <class 'pandas.core.frame.DataFrame'>. Dataset logging skipped.\n",
      "2023/06/26 17:17:23 WARNING mlflow.tensorflow: Failed to log training dataset information to MLflow Tracking. Reason: 'DataFrame' object has no attribute 'flatten'\n"
     ]
    },
    {
     "name": "stdout",
     "output_type": "stream",
     "text": [
      "Epoch 1/100\n",
      "   1/2131 [..............................] - ETA: 1:43:49 - loss: 70.7557 - mse: 5754.8242WARNING:tensorflow:Callback method `on_train_batch_end` is slow compared to the batch time (batch time: 0.0053s vs `on_train_batch_end` time: 0.0055s). Check your callbacks.\n",
      "2131/2131 [==============================] - 14s 5ms/step - loss: 28.9872 - mse: 3182.1433 - val_loss: 26.2723 - val_mse: 2871.8442\n",
      "Epoch 2/100\n",
      "2131/2131 [==============================] - 8s 4ms/step - loss: 26.1643 - mse: 2855.4453 - val_loss: 26.0417 - val_mse: 2809.4202\n",
      "Epoch 3/100\n",
      "2131/2131 [==============================] - 8s 4ms/step - loss: 25.8637 - mse: 2815.5618 - val_loss: 25.6069 - val_mse: 2821.4868\n",
      "Epoch 4/100\n",
      "2131/2131 [==============================] - 9s 4ms/step - loss: 25.6622 - mse: 2793.5508 - val_loss: 25.4977 - val_mse: 2819.9690\n",
      "Epoch 5/100\n",
      "2131/2131 [==============================] - 9s 4ms/step - loss: 25.5908 - mse: 2787.4995 - val_loss: 25.3717 - val_mse: 2779.6577\n",
      "Epoch 6/100\n",
      "2131/2131 [==============================] - 8s 4ms/step - loss: 25.5334 - mse: 2783.2871 - val_loss: 25.6117 - val_mse: 2745.2092\n",
      "Epoch 7/100\n",
      "2131/2131 [==============================] - 11s 5ms/step - loss: 25.4700 - mse: 2780.6902 - val_loss: 25.5011 - val_mse: 2823.1909\n"
     ]
    },
    {
     "name": "stderr",
     "output_type": "stream",
     "text": [
      "2023/06/26 17:18:30 WARNING mlflow.tensorflow: Failed to infer model signature: could not sample data to infer model signature: Cannot log input example or model signature for input with type <class 'pandas.core.frame.DataFrame'>. TensorFlow Keras autologging can only log input examples and model signatures for the following input types: numpy.ndarray, dict[string -> numpy.ndarray], tensorflow.keras.utils.Sequence, and tensorflow.data.Dataset (TensorFlow >= 2.1.0 required)\n",
      "2023/06/26 17:18:30 WARNING mlflow.tensorflow: You are saving a TensorFlow Core model or Keras model without a signature. Inference with mlflow.pyfunc.spark_udf() will not work unless the model's pyfunc representation accepts pandas DataFrames as inference inputs.\n"
     ]
    },
    {
     "name": "stdout",
     "output_type": "stream",
     "text": [
      "INFO:tensorflow:Assets written to: /tmp/tmpeh77xvvm/model/data/model/assets\n"
     ]
    },
    {
     "name": "stderr",
     "output_type": "stream",
     "text": [
      "2023/06/26 17:18:44 WARNING mlflow.utils.environment: Encountered an unexpected error while inferring pip requirements (model URI: /tmp/tmpeh77xvvm/model, flavor: tensorflow), fall back to return ['tensorflow==2.10.0']. Set logging level to DEBUG to see the full traceback.\n",
      "2023/06/26 17:18:44 INFO mlflow.tracking.fluent: Autologging successfully enabled for tensorflow.\n"
     ]
    },
    {
     "name": "stdout",
     "output_type": "stream",
     "text": [
      "model #4: dense64_dense64_dense64\n"
     ]
    },
    {
     "name": "stderr",
     "output_type": "stream",
     "text": [
      "2023/06/26 17:18:44 INFO mlflow.tracking.fluent: Autologging successfully enabled for sklearn.\n",
      "2023/06/26 17:18:45 INFO mlflow.utils.autologging_utils: Created MLflow autologging run with ID 'f55cc6ad265f46e3ba6822d8b4f250c0', which will track hyperparameters, performance metrics, model artifacts, and lineage information for the current tensorflow workflow\n",
      "2023/06/26 17:18:45 WARNING mlflow.tensorflow: Unrecognized dataset type <class 'pandas.core.frame.DataFrame'>. Dataset logging skipped.\n",
      "2023/06/26 17:18:45 WARNING mlflow.tensorflow: Failed to log training dataset information to MLflow Tracking. Reason: 'DataFrame' object has no attribute 'flatten'\n"
     ]
    },
    {
     "name": "stdout",
     "output_type": "stream",
     "text": [
      "Epoch 1/100\n",
      "2131/2131 [==============================] - 10s 4ms/step - loss: 28.4079 - mse: 3113.8489 - val_loss: 25.9800 - val_mse: 2827.6404\n",
      "Epoch 2/100\n",
      "2131/2131 [==============================] - 9s 4ms/step - loss: 26.0091 - mse: 2824.2715 - val_loss: 25.7013 - val_mse: 2849.1816\n",
      "Epoch 3/100\n",
      "2131/2131 [==============================] - 9s 4ms/step - loss: 25.7745 - mse: 2799.4775 - val_loss: 25.6907 - val_mse: 2744.8210\n",
      "Epoch 4/100\n",
      "2131/2131 [==============================] - 10s 5ms/step - loss: 25.6423 - mse: 2787.6255 - val_loss: 25.3377 - val_mse: 2771.4895\n",
      "Epoch 5/100\n",
      "2131/2131 [==============================] - 10s 5ms/step - loss: 25.5483 - mse: 2775.1824 - val_loss: 25.5266 - val_mse: 2832.7869\n",
      "Epoch 6/100\n",
      "2131/2131 [==============================] - 9s 4ms/step - loss: 25.4810 - mse: 2773.4712 - val_loss: 25.6899 - val_mse: 2881.7539\n"
     ]
    },
    {
     "name": "stderr",
     "output_type": "stream",
     "text": [
      "2023/06/26 17:19:42 WARNING mlflow.tensorflow: Failed to infer model signature: could not sample data to infer model signature: Cannot log input example or model signature for input with type <class 'pandas.core.frame.DataFrame'>. TensorFlow Keras autologging can only log input examples and model signatures for the following input types: numpy.ndarray, dict[string -> numpy.ndarray], tensorflow.keras.utils.Sequence, and tensorflow.data.Dataset (TensorFlow >= 2.1.0 required)\n",
      "2023/06/26 17:19:42 WARNING mlflow.tensorflow: You are saving a TensorFlow Core model or Keras model without a signature. Inference with mlflow.pyfunc.spark_udf() will not work unless the model's pyfunc representation accepts pandas DataFrames as inference inputs.\n"
     ]
    },
    {
     "name": "stdout",
     "output_type": "stream",
     "text": [
      "INFO:tensorflow:Assets written to: /tmp/tmpxa_p8n10/model/data/model/assets\n"
     ]
    },
    {
     "name": "stderr",
     "output_type": "stream",
     "text": [
      "2023/06/26 17:19:49 WARNING mlflow.utils.environment: Encountered an unexpected error while inferring pip requirements (model URI: /tmp/tmpxa_p8n10/model, flavor: tensorflow), fall back to return ['tensorflow==2.10.0']. Set logging level to DEBUG to see the full traceback.\n",
      "2023/06/26 17:19:49 INFO mlflow.tracking.fluent: Autologging successfully enabled for tensorflow.\n",
      "2023/06/26 17:19:50 INFO mlflow.tracking.fluent: Autologging successfully enabled for sklearn.\n"
     ]
    },
    {
     "name": "stdout",
     "output_type": "stream",
     "text": [
      "model #5: dense128_dense32_dense32\n"
     ]
    },
    {
     "name": "stderr",
     "output_type": "stream",
     "text": [
      "2023/06/26 17:19:50 INFO mlflow.utils.autologging_utils: Created MLflow autologging run with ID '7f46defc01c945a0a652322be6bc6aee', which will track hyperparameters, performance metrics, model artifacts, and lineage information for the current tensorflow workflow\n",
      "2023/06/26 17:19:50 WARNING mlflow.tensorflow: Unrecognized dataset type <class 'pandas.core.frame.DataFrame'>. Dataset logging skipped.\n",
      "2023/06/26 17:19:50 WARNING mlflow.tensorflow: Failed to log training dataset information to MLflow Tracking. Reason: 'DataFrame' object has no attribute 'flatten'\n"
     ]
    },
    {
     "name": "stdout",
     "output_type": "stream",
     "text": [
      "Epoch 1/100\n",
      "2131/2131 [==============================] - 10s 4ms/step - loss: 28.9419 - mse: 3172.9771 - val_loss: 26.3858 - val_mse: 2825.5837\n",
      "Epoch 2/100\n",
      "2131/2131 [==============================] - 9s 4ms/step - loss: 26.2252 - mse: 2860.2617 - val_loss: 25.9935 - val_mse: 2823.9507\n",
      "Epoch 3/100\n",
      "2131/2131 [==============================] - 10s 5ms/step - loss: 26.0666 - mse: 2837.8855 - val_loss: 26.3403 - val_mse: 2776.2981\n",
      "Epoch 4/100\n",
      "2131/2131 [==============================] - 10s 4ms/step - loss: 25.8545 - mse: 2817.9839 - val_loss: 25.5968 - val_mse: 2810.2363\n",
      "Epoch 5/100\n",
      "2131/2131 [==============================] - 10s 5ms/step - loss: 25.6490 - mse: 2801.5740 - val_loss: 25.4758 - val_mse: 2812.9441\n",
      "Epoch 6/100\n",
      "2131/2131 [==============================] - 11s 5ms/step - loss: 25.5464 - mse: 2787.5544 - val_loss: 25.9084 - val_mse: 2736.3245\n",
      "Epoch 7/100\n",
      "2131/2131 [==============================] - 12s 6ms/step - loss: 25.5001 - mse: 2785.1121 - val_loss: 25.5636 - val_mse: 2858.1150\n"
     ]
    },
    {
     "name": "stderr",
     "output_type": "stream",
     "text": [
      "2023/06/26 17:21:03 WARNING mlflow.tensorflow: Failed to infer model signature: could not sample data to infer model signature: Cannot log input example or model signature for input with type <class 'pandas.core.frame.DataFrame'>. TensorFlow Keras autologging can only log input examples and model signatures for the following input types: numpy.ndarray, dict[string -> numpy.ndarray], tensorflow.keras.utils.Sequence, and tensorflow.data.Dataset (TensorFlow >= 2.1.0 required)\n",
      "2023/06/26 17:21:03 WARNING mlflow.tensorflow: You are saving a TensorFlow Core model or Keras model without a signature. Inference with mlflow.pyfunc.spark_udf() will not work unless the model's pyfunc representation accepts pandas DataFrames as inference inputs.\n"
     ]
    },
    {
     "name": "stdout",
     "output_type": "stream",
     "text": [
      "INFO:tensorflow:Assets written to: /tmp/tmppzi_l8ru/model/data/model/assets\n"
     ]
    },
    {
     "name": "stderr",
     "output_type": "stream",
     "text": [
      "2023/06/26 17:21:21 WARNING mlflow.utils.environment: Encountered an unexpected error while inferring pip requirements (model URI: /tmp/tmppzi_l8ru/model, flavor: tensorflow), fall back to return ['tensorflow==2.10.0']. Set logging level to DEBUG to see the full traceback.\n",
      "2023/06/26 17:21:22 INFO mlflow.tracking.fluent: Autologging successfully enabled for tensorflow.\n"
     ]
    },
    {
     "name": "stdout",
     "output_type": "stream",
     "text": [
      "model #6: dense128_dense64_dense32\n"
     ]
    },
    {
     "name": "stderr",
     "output_type": "stream",
     "text": [
      "2023/06/26 17:21:22 INFO mlflow.tracking.fluent: Autologging successfully enabled for sklearn.\n",
      "2023/06/26 17:21:22 INFO mlflow.utils.autologging_utils: Created MLflow autologging run with ID '7c0950ff04874fef80dfaab5b9df6e41', which will track hyperparameters, performance metrics, model artifacts, and lineage information for the current tensorflow workflow\n",
      "2023/06/26 17:21:22 WARNING mlflow.tensorflow: Unrecognized dataset type <class 'pandas.core.frame.DataFrame'>. Dataset logging skipped.\n",
      "2023/06/26 17:21:22 WARNING mlflow.tensorflow: Failed to log training dataset information to MLflow Tracking. Reason: 'DataFrame' object has no attribute 'flatten'\n"
     ]
    },
    {
     "name": "stdout",
     "output_type": "stream",
     "text": [
      "Epoch 1/100\n",
      "2131/2131 [==============================] - 20s 9ms/step - loss: 28.3104 - mse: 3101.7314 - val_loss: 26.0662 - val_mse: 2787.5830\n",
      "Epoch 2/100\n",
      "2131/2131 [==============================] - 18s 9ms/step - loss: 25.9293 - mse: 2817.1860 - val_loss: 26.0677 - val_mse: 2884.0291\n",
      "Epoch 3/100\n",
      "2131/2131 [==============================] - 19s 9ms/step - loss: 25.7418 - mse: 2799.6113 - val_loss: 25.7901 - val_mse: 2818.7610\n",
      "Epoch 4/100\n",
      "2131/2131 [==============================] - 22s 10ms/step - loss: 25.6259 - mse: 2791.3535 - val_loss: 25.9128 - val_mse: 2722.5955\n",
      "Epoch 5/100\n",
      "2131/2131 [==============================] - 15s 7ms/step - loss: 25.5443 - mse: 2784.9995 - val_loss: 25.4360 - val_mse: 2729.2983\n",
      "Epoch 6/100\n",
      "2131/2131 [==============================] - 22s 10ms/step - loss: 25.4958 - mse: 2774.2041 - val_loss: 25.7160 - val_mse: 2887.6934\n",
      "Epoch 7/100\n",
      "2131/2131 [==============================] - 18s 8ms/step - loss: 25.4364 - mse: 2783.0391 - val_loss: 25.2536 - val_mse: 2727.0481\n",
      "Epoch 8/100\n",
      "2131/2131 [==============================] - 17s 8ms/step - loss: 25.3699 - mse: 2768.1606 - val_loss: 25.1854 - val_mse: 2721.4451\n",
      "Epoch 9/100\n",
      "2131/2131 [==============================] - 15s 7ms/step - loss: 25.3381 - mse: 2775.4873 - val_loss: 25.6311 - val_mse: 2716.1128\n",
      "Epoch 10/100\n",
      "2131/2131 [==============================] - 15s 7ms/step - loss: 25.2970 - mse: 2763.2949 - val_loss: 25.0445 - val_mse: 2740.6877\n",
      "Epoch 11/100\n",
      "2131/2131 [==============================] - 15s 7ms/step - loss: 25.2420 - mse: 2758.7693 - val_loss: 25.0469 - val_mse: 2736.9058\n",
      "Epoch 12/100\n",
      "2131/2131 [==============================] - 15s 7ms/step - loss: 25.2088 - mse: 2746.8469 - val_loss: 24.9983 - val_mse: 2733.9600\n",
      "Epoch 13/100\n",
      "2131/2131 [==============================] - 17s 8ms/step - loss: 25.1862 - mse: 2737.7900 - val_loss: 25.3147 - val_mse: 2714.6384\n",
      "Epoch 14/100\n",
      "2131/2131 [==============================] - 16s 7ms/step - loss: 25.1219 - mse: 2735.8442 - val_loss: 24.8890 - val_mse: 2730.2405\n",
      "Epoch 15/100\n",
      "2131/2131 [==============================] - 17s 8ms/step - loss: 25.0819 - mse: 2727.9924 - val_loss: 25.3172 - val_mse: 2776.3379\n",
      "Epoch 16/100\n",
      "2131/2131 [==============================] - 18s 8ms/step - loss: 25.0964 - mse: 2725.9639 - val_loss: 25.2217 - val_mse: 2768.8972\n"
     ]
    },
    {
     "name": "stderr",
     "output_type": "stream",
     "text": [
      "2023/06/26 17:26:01 WARNING mlflow.tensorflow: Failed to infer model signature: could not sample data to infer model signature: Cannot log input example or model signature for input with type <class 'pandas.core.frame.DataFrame'>. TensorFlow Keras autologging can only log input examples and model signatures for the following input types: numpy.ndarray, dict[string -> numpy.ndarray], tensorflow.keras.utils.Sequence, and tensorflow.data.Dataset (TensorFlow >= 2.1.0 required)\n",
      "2023/06/26 17:26:01 WARNING mlflow.tensorflow: You are saving a TensorFlow Core model or Keras model without a signature. Inference with mlflow.pyfunc.spark_udf() will not work unless the model's pyfunc representation accepts pandas DataFrames as inference inputs.\n"
     ]
    },
    {
     "name": "stdout",
     "output_type": "stream",
     "text": [
      "INFO:tensorflow:Assets written to: /tmp/tmp0d06v0zn/model/data/model/assets\n"
     ]
    },
    {
     "name": "stderr",
     "output_type": "stream",
     "text": [
      "2023/06/26 17:26:08 WARNING mlflow.utils.environment: Encountered an unexpected error while inferring pip requirements (model URI: /tmp/tmp0d06v0zn/model, flavor: tensorflow), fall back to return ['tensorflow==2.10.0']. Set logging level to DEBUG to see the full traceback.\n",
      "2023/06/26 17:26:08 INFO mlflow.tracking.fluent: Autologging successfully enabled for tensorflow.\n",
      "2023/06/26 17:26:08 INFO mlflow.tracking.fluent: Autologging successfully enabled for sklearn.\n",
      "2023/06/26 17:26:08 INFO mlflow.utils.autologging_utils: Created MLflow autologging run with ID '37c9576c735f4a79b3168bc9ce89a8dd', which will track hyperparameters, performance metrics, model artifacts, and lineage information for the current tensorflow workflow\n"
     ]
    },
    {
     "name": "stdout",
     "output_type": "stream",
     "text": [
      "model #7: dense128_dense64_dense64\n"
     ]
    },
    {
     "name": "stderr",
     "output_type": "stream",
     "text": [
      "2023/06/26 17:26:08 WARNING mlflow.tensorflow: Unrecognized dataset type <class 'pandas.core.frame.DataFrame'>. Dataset logging skipped.\n",
      "2023/06/26 17:26:08 WARNING mlflow.tensorflow: Failed to log training dataset information to MLflow Tracking. Reason: 'DataFrame' object has no attribute 'flatten'\n"
     ]
    },
    {
     "name": "stdout",
     "output_type": "stream",
     "text": [
      "Epoch 1/100\n",
      "   1/2131 [..............................] - ETA: 31:19 - loss: 83.5029 - mse: 10588.1338WARNING:tensorflow:Callback method `on_train_batch_end` is slow compared to the batch time (batch time: 0.0022s vs `on_train_batch_end` time: 0.0023s). Check your callbacks.\n",
      "2131/2131 [==============================] - 12s 5ms/step - loss: 28.4109 - mse: 3108.0754 - val_loss: 26.3946 - val_mse: 2897.7654\n",
      "Epoch 2/100\n",
      "2131/2131 [==============================] - 9s 4ms/step - loss: 26.0520 - mse: 2834.4932 - val_loss: 26.0947 - val_mse: 2900.7246\n",
      "Epoch 3/100\n",
      "2131/2131 [==============================] - 9s 4ms/step - loss: 25.8154 - mse: 2814.5242 - val_loss: 25.7389 - val_mse: 2763.2896\n",
      "Epoch 4/100\n",
      "2131/2131 [==============================] - 9s 4ms/step - loss: 25.6912 - mse: 2799.2666 - val_loss: 25.4546 - val_mse: 2753.8950\n",
      "Epoch 5/100\n",
      "2131/2131 [==============================] - 13s 6ms/step - loss: 25.5907 - mse: 2783.1169 - val_loss: 25.3743 - val_mse: 2785.8162\n",
      "Epoch 6/100\n",
      "2131/2131 [==============================] - 12s 6ms/step - loss: 25.5442 - mse: 2780.9397 - val_loss: 25.3202 - val_mse: 2770.6692\n",
      "Epoch 7/100\n",
      "2131/2131 [==============================] - 15s 7ms/step - loss: 25.4924 - mse: 2778.0991 - val_loss: 25.3903 - val_mse: 2832.1912\n",
      "Epoch 8/100\n",
      "2131/2131 [==============================] - 14s 6ms/step - loss: 25.3615 - mse: 2767.3796 - val_loss: 25.4523 - val_mse: 2699.7764\n"
     ]
    },
    {
     "name": "stderr",
     "output_type": "stream",
     "text": [
      "2023/06/26 17:27:41 WARNING mlflow.tensorflow: Failed to infer model signature: could not sample data to infer model signature: Cannot log input example or model signature for input with type <class 'pandas.core.frame.DataFrame'>. TensorFlow Keras autologging can only log input examples and model signatures for the following input types: numpy.ndarray, dict[string -> numpy.ndarray], tensorflow.keras.utils.Sequence, and tensorflow.data.Dataset (TensorFlow >= 2.1.0 required)\n",
      "2023/06/26 17:27:41 WARNING mlflow.tensorflow: You are saving a TensorFlow Core model or Keras model without a signature. Inference with mlflow.pyfunc.spark_udf() will not work unless the model's pyfunc representation accepts pandas DataFrames as inference inputs.\n"
     ]
    },
    {
     "name": "stdout",
     "output_type": "stream",
     "text": [
      "INFO:tensorflow:Assets written to: /tmp/tmpuz0mo7b9/model/data/model/assets\n"
     ]
    },
    {
     "name": "stderr",
     "output_type": "stream",
     "text": [
      "2023/06/26 17:27:49 WARNING mlflow.utils.environment: Encountered an unexpected error while inferring pip requirements (model URI: /tmp/tmpuz0mo7b9/model, flavor: tensorflow), fall back to return ['tensorflow==2.10.0']. Set logging level to DEBUG to see the full traceback.\n",
      "2023/06/26 17:27:49 INFO mlflow.tracking.fluent: Autologging successfully enabled for tensorflow.\n",
      "2023/06/26 17:27:49 INFO mlflow.tracking.fluent: Autologging successfully enabled for sklearn.\n"
     ]
    },
    {
     "name": "stdout",
     "output_type": "stream",
     "text": [
      "model #8: dense128_dense128_dense32\n"
     ]
    },
    {
     "name": "stderr",
     "output_type": "stream",
     "text": [
      "2023/06/26 17:27:49 INFO mlflow.utils.autologging_utils: Created MLflow autologging run with ID '1aa4891af90e42a2b5f39402aac34235', which will track hyperparameters, performance metrics, model artifacts, and lineage information for the current tensorflow workflow\n",
      "2023/06/26 17:27:49 WARNING mlflow.tensorflow: Unrecognized dataset type <class 'pandas.core.frame.DataFrame'>. Dataset logging skipped.\n",
      "2023/06/26 17:27:49 WARNING mlflow.tensorflow: Failed to log training dataset information to MLflow Tracking. Reason: 'DataFrame' object has no attribute 'flatten'\n"
     ]
    },
    {
     "name": "stdout",
     "output_type": "stream",
     "text": [
      "Epoch 1/100\n",
      "2131/2131 [==============================] - 12s 5ms/step - loss: 28.3709 - mse: 3099.2097 - val_loss: 26.0697 - val_mse: 2845.7991\n",
      "Epoch 2/100\n",
      "2131/2131 [==============================] - 15s 7ms/step - loss: 26.0726 - mse: 2834.7932 - val_loss: 26.1005 - val_mse: 2894.5278\n",
      "Epoch 3/100\n",
      "2131/2131 [==============================] - 12s 6ms/step - loss: 25.7768 - mse: 2804.2859 - val_loss: 25.7479 - val_mse: 2737.1619\n",
      "Epoch 4/100\n",
      "2131/2131 [==============================] - 13s 6ms/step - loss: 25.6624 - mse: 2785.7532 - val_loss: 25.4168 - val_mse: 2767.2271\n",
      "Epoch 5/100\n",
      "2131/2131 [==============================] - 11s 5ms/step - loss: 25.5965 - mse: 2781.5315 - val_loss: 25.3712 - val_mse: 2804.7351\n",
      "Epoch 6/100\n",
      "2131/2131 [==============================] - 11s 5ms/step - loss: 25.4637 - mse: 2775.3413 - val_loss: 25.6644 - val_mse: 2705.4421\n",
      "Epoch 7/100\n",
      "2131/2131 [==============================] - 11s 5ms/step - loss: 25.3718 - mse: 2768.3901 - val_loss: 25.2165 - val_mse: 2803.5339\n",
      "Epoch 8/100\n",
      "2131/2131 [==============================] - 12s 6ms/step - loss: 25.3225 - mse: 2764.3965 - val_loss: 25.1988 - val_mse: 2822.9307\n",
      "Epoch 9/100\n",
      "2131/2131 [==============================] - 16s 7ms/step - loss: 25.2829 - mse: 2760.0542 - val_loss: 25.0575 - val_mse: 2794.4539\n",
      "Epoch 10/100\n",
      "2131/2131 [==============================] - 13s 6ms/step - loss: 25.1990 - mse: 2746.3167 - val_loss: 25.2800 - val_mse: 2714.2258\n",
      "Epoch 11/100\n",
      "2131/2131 [==============================] - 10s 5ms/step - loss: 25.1524 - mse: 2737.4653 - val_loss: 24.9925 - val_mse: 2765.6172\n",
      "Epoch 12/100\n",
      "2131/2131 [==============================] - 10s 4ms/step - loss: 25.1160 - mse: 2727.9407 - val_loss: 25.6391 - val_mse: 2771.0129\n",
      "Epoch 13/100\n",
      "2131/2131 [==============================] - 10s 5ms/step - loss: 25.0919 - mse: 2719.6411 - val_loss: 25.1056 - val_mse: 2768.4678\n"
     ]
    },
    {
     "name": "stderr",
     "output_type": "stream",
     "text": [
      "2023/06/26 17:30:23 WARNING mlflow.tensorflow: Failed to infer model signature: could not sample data to infer model signature: Cannot log input example or model signature for input with type <class 'pandas.core.frame.DataFrame'>. TensorFlow Keras autologging can only log input examples and model signatures for the following input types: numpy.ndarray, dict[string -> numpy.ndarray], tensorflow.keras.utils.Sequence, and tensorflow.data.Dataset (TensorFlow >= 2.1.0 required)\n",
      "2023/06/26 17:30:23 WARNING mlflow.tensorflow: You are saving a TensorFlow Core model or Keras model without a signature. Inference with mlflow.pyfunc.spark_udf() will not work unless the model's pyfunc representation accepts pandas DataFrames as inference inputs.\n"
     ]
    },
    {
     "name": "stdout",
     "output_type": "stream",
     "text": [
      "INFO:tensorflow:Assets written to: /tmp/tmpfkpitsmh/model/data/model/assets\n"
     ]
    },
    {
     "name": "stderr",
     "output_type": "stream",
     "text": [
      "2023/06/26 17:30:36 WARNING mlflow.utils.environment: Encountered an unexpected error while inferring pip requirements (model URI: /tmp/tmpfkpitsmh/model, flavor: tensorflow), fall back to return ['tensorflow==2.10.0']. Set logging level to DEBUG to see the full traceback.\n",
      "2023/06/26 17:30:37 INFO mlflow.tracking.fluent: Autologging successfully enabled for tensorflow.\n",
      "2023/06/26 17:30:37 INFO mlflow.tracking.fluent: Autologging successfully enabled for sklearn.\n",
      "2023/06/26 17:30:37 INFO mlflow.utils.autologging_utils: Created MLflow autologging run with ID '5c3ac26d39154d2fbceb27a347790ba2', which will track hyperparameters, performance metrics, model artifacts, and lineage information for the current tensorflow workflow\n"
     ]
    },
    {
     "name": "stdout",
     "output_type": "stream",
     "text": [
      "model #9: dense128_dense128_dense64\n"
     ]
    },
    {
     "name": "stderr",
     "output_type": "stream",
     "text": [
      "2023/06/26 17:30:37 WARNING mlflow.tensorflow: Unrecognized dataset type <class 'pandas.core.frame.DataFrame'>. Dataset logging skipped.\n",
      "2023/06/26 17:30:37 WARNING mlflow.tensorflow: Failed to log training dataset information to MLflow Tracking. Reason: 'DataFrame' object has no attribute 'flatten'\n"
     ]
    },
    {
     "name": "stdout",
     "output_type": "stream",
     "text": [
      "Epoch 1/100\n",
      "   1/2131 [..............................] - ETA: 33:49 - loss: 84.1401 - mse: 9836.8301WARNING:tensorflow:Callback method `on_train_batch_end` is slow compared to the batch time (batch time: 0.0034s vs `on_train_batch_end` time: 0.0046s). Check your callbacks.\n",
      "2131/2131 [==============================] - 12s 5ms/step - loss: 27.9280 - mse: 3033.1074 - val_loss: 25.9807 - val_mse: 2827.9619\n",
      "Epoch 2/100\n",
      "2131/2131 [==============================] - 10s 5ms/step - loss: 25.9957 - mse: 2822.1042 - val_loss: 27.3641 - val_mse: 2765.9268\n",
      "Epoch 3/100\n",
      "2131/2131 [==============================] - 10s 5ms/step - loss: 25.7329 - mse: 2797.1050 - val_loss: 25.7294 - val_mse: 2739.9321\n",
      "Epoch 4/100\n",
      "2131/2131 [==============================] - 16s 7ms/step - loss: 25.6150 - mse: 2789.5249 - val_loss: 25.3584 - val_mse: 2744.1140\n",
      "Epoch 5/100\n",
      "2131/2131 [==============================] - 13s 6ms/step - loss: 25.5396 - mse: 2778.6555 - val_loss: 25.6002 - val_mse: 2727.5923\n",
      "Epoch 6/100\n",
      "2131/2131 [==============================] - 16s 8ms/step - loss: 25.5018 - mse: 2779.4622 - val_loss: 25.3822 - val_mse: 2751.4963\n"
     ]
    },
    {
     "name": "stderr",
     "output_type": "stream",
     "text": [
      "2023/06/26 17:31:54 WARNING mlflow.tensorflow: Failed to infer model signature: could not sample data to infer model signature: Cannot log input example or model signature for input with type <class 'pandas.core.frame.DataFrame'>. TensorFlow Keras autologging can only log input examples and model signatures for the following input types: numpy.ndarray, dict[string -> numpy.ndarray], tensorflow.keras.utils.Sequence, and tensorflow.data.Dataset (TensorFlow >= 2.1.0 required)\n",
      "2023/06/26 17:31:54 WARNING mlflow.tensorflow: You are saving a TensorFlow Core model or Keras model without a signature. Inference with mlflow.pyfunc.spark_udf() will not work unless the model's pyfunc representation accepts pandas DataFrames as inference inputs.\n"
     ]
    },
    {
     "name": "stdout",
     "output_type": "stream",
     "text": [
      "INFO:tensorflow:Assets written to: /tmp/tmpcpov04_7/model/data/model/assets\n"
     ]
    },
    {
     "name": "stderr",
     "output_type": "stream",
     "text": [
      "2023/06/26 17:32:03 WARNING mlflow.utils.environment: Encountered an unexpected error while inferring pip requirements (model URI: /tmp/tmpcpov04_7/model, flavor: tensorflow), fall back to return ['tensorflow==2.10.0']. Set logging level to DEBUG to see the full traceback.\n",
      "2023/06/26 17:32:03 INFO mlflow.tracking.fluent: Autologging successfully enabled for tensorflow.\n",
      "2023/06/26 17:32:04 INFO mlflow.tracking.fluent: Autologging successfully enabled for sklearn.\n"
     ]
    },
    {
     "name": "stdout",
     "output_type": "stream",
     "text": [
      "model #10: dense128_dense128_dense128\n"
     ]
    },
    {
     "name": "stderr",
     "output_type": "stream",
     "text": [
      "2023/06/26 17:32:04 INFO mlflow.utils.autologging_utils: Created MLflow autologging run with ID '0bfee3d4f9104fb7bd29e06718fd6ff3', which will track hyperparameters, performance metrics, model artifacts, and lineage information for the current tensorflow workflow\n",
      "2023/06/26 17:32:04 WARNING mlflow.tensorflow: Unrecognized dataset type <class 'pandas.core.frame.DataFrame'>. Dataset logging skipped.\n",
      "2023/06/26 17:32:04 WARNING mlflow.tensorflow: Failed to log training dataset information to MLflow Tracking. Reason: 'DataFrame' object has no attribute 'flatten'\n"
     ]
    },
    {
     "name": "stdout",
     "output_type": "stream",
     "text": [
      "Epoch 1/100\n",
      "   1/2131 [..............................] - ETA: 27:13 - loss: 80.1524 - mse: 8222.6230WARNING:tensorflow:Callback method `on_train_batch_end` is slow compared to the batch time (batch time: 0.0026s vs `on_train_batch_end` time: 0.0031s). Check your callbacks.\n",
      "2131/2131 [==============================] - 11s 5ms/step - loss: 27.8411 - mse: 3039.4729 - val_loss: 26.0215 - val_mse: 2784.9722\n",
      "Epoch 2/100\n",
      "2131/2131 [==============================] - 10s 5ms/step - loss: 25.9206 - mse: 2819.0518 - val_loss: 26.2787 - val_mse: 2794.5496\n",
      "Epoch 3/100\n",
      "2131/2131 [==============================] - 12s 5ms/step - loss: 25.7556 - mse: 2800.7747 - val_loss: 25.4085 - val_mse: 2825.0022\n",
      "Epoch 4/100\n",
      "2131/2131 [==============================] - 12s 5ms/step - loss: 25.6137 - mse: 2786.2971 - val_loss: 25.3208 - val_mse: 2737.3330\n",
      "Epoch 5/100\n",
      "2131/2131 [==============================] - 18s 8ms/step - loss: 25.4931 - mse: 2781.7546 - val_loss: 25.4746 - val_mse: 2886.1067\n",
      "Epoch 6/100\n",
      "2131/2131 [==============================] - 16s 8ms/step - loss: 25.4548 - mse: 2779.4407 - val_loss: 25.4683 - val_mse: 2752.1257\n"
     ]
    },
    {
     "name": "stderr",
     "output_type": "stream",
     "text": [
      "2023/06/26 17:33:23 WARNING mlflow.tensorflow: Failed to infer model signature: could not sample data to infer model signature: Cannot log input example or model signature for input with type <class 'pandas.core.frame.DataFrame'>. TensorFlow Keras autologging can only log input examples and model signatures for the following input types: numpy.ndarray, dict[string -> numpy.ndarray], tensorflow.keras.utils.Sequence, and tensorflow.data.Dataset (TensorFlow >= 2.1.0 required)\n",
      "2023/06/26 17:33:23 WARNING mlflow.tensorflow: You are saving a TensorFlow Core model or Keras model without a signature. Inference with mlflow.pyfunc.spark_udf() will not work unless the model's pyfunc representation accepts pandas DataFrames as inference inputs.\n"
     ]
    },
    {
     "name": "stdout",
     "output_type": "stream",
     "text": [
      "INFO:tensorflow:Assets written to: /tmp/tmpe9sd17wt/model/data/model/assets\n"
     ]
    },
    {
     "name": "stderr",
     "output_type": "stream",
     "text": [
      "2023/06/26 17:33:34 WARNING mlflow.utils.environment: Encountered an unexpected error while inferring pip requirements (model URI: /tmp/tmpe9sd17wt/model, flavor: tensorflow), fall back to return ['tensorflow==2.10.0']. Set logging level to DEBUG to see the full traceback.\n",
      "2023/06/26 17:33:34 INFO mlflow.tracking.fluent: Autologging successfully enabled for tensorflow.\n",
      "2023/06/26 17:33:34 INFO mlflow.tracking.fluent: Autologging successfully enabled for sklearn.\n"
     ]
    },
    {
     "name": "stdout",
     "output_type": "stream",
     "text": [
      "model #11: dense256_dense32_dense32\n"
     ]
    },
    {
     "name": "stderr",
     "output_type": "stream",
     "text": [
      "2023/06/26 17:33:34 INFO mlflow.utils.autologging_utils: Created MLflow autologging run with ID '3c8828745f3d46de91912ce205b44c20', which will track hyperparameters, performance metrics, model artifacts, and lineage information for the current tensorflow workflow\n",
      "2023/06/26 17:33:34 WARNING mlflow.tensorflow: Unrecognized dataset type <class 'pandas.core.frame.DataFrame'>. Dataset logging skipped.\n",
      "2023/06/26 17:33:34 WARNING mlflow.tensorflow: Failed to log training dataset information to MLflow Tracking. Reason: 'DataFrame' object has no attribute 'flatten'\n"
     ]
    },
    {
     "name": "stdout",
     "output_type": "stream",
     "text": [
      "Epoch 1/100\n",
      "   1/2131 [..............................] - ETA: 53:00 - loss: 79.4589 - mse: 9111.8438WARNING:tensorflow:Callback method `on_train_batch_end` is slow compared to the batch time (batch time: 0.0032s vs `on_train_batch_end` time: 0.0034s). Check your callbacks.\n",
      "2131/2131 [==============================] - 14s 6ms/step - loss: 28.6026 - mse: 3137.0696 - val_loss: 26.1703 - val_mse: 2895.1853\n",
      "Epoch 2/100\n",
      "2131/2131 [==============================] - 15s 7ms/step - loss: 25.9940 - mse: 2836.8425 - val_loss: 26.3245 - val_mse: 2761.6072\n",
      "Epoch 3/100\n",
      "2131/2131 [==============================] - 24s 11ms/step - loss: 25.8097 - mse: 2806.8596 - val_loss: 25.6078 - val_mse: 2846.4827\n",
      "Epoch 4/100\n",
      "2131/2131 [==============================] - 18s 9ms/step - loss: 25.6499 - mse: 2789.9705 - val_loss: 25.4178 - val_mse: 2802.2803\n",
      "Epoch 5/100\n",
      "2131/2131 [==============================] - 23s 11ms/step - loss: 25.5333 - mse: 2784.0344 - val_loss: 25.3053 - val_mse: 2748.9666\n",
      "Epoch 6/100\n",
      "2131/2131 [==============================] - 22s 10ms/step - loss: 25.4912 - mse: 2779.2322 - val_loss: 26.1758 - val_mse: 2938.0457\n",
      "Epoch 7/100\n",
      "2131/2131 [==============================] - 17s 8ms/step - loss: 25.4827 - mse: 2775.7737 - val_loss: 25.2907 - val_mse: 2771.3274\n",
      "Epoch 8/100\n",
      "2131/2131 [==============================] - 16s 8ms/step - loss: 25.4208 - mse: 2773.5557 - val_loss: 25.2877 - val_mse: 2775.8730\n",
      "Epoch 9/100\n",
      "2131/2131 [==============================] - 16s 7ms/step - loss: 25.3637 - mse: 2772.4651 - val_loss: 25.1752 - val_mse: 2763.8271\n",
      "Epoch 10/100\n",
      "2131/2131 [==============================] - 16s 8ms/step - loss: 25.3269 - mse: 2766.2305 - val_loss: 25.1927 - val_mse: 2807.3176\n",
      "Epoch 11/100\n",
      "2131/2131 [==============================] - 14s 7ms/step - loss: 25.2762 - mse: 2764.3491 - val_loss: 25.0403 - val_mse: 2701.0867\n",
      "Epoch 12/100\n",
      "2131/2131 [==============================] - 13s 6ms/step - loss: 25.2498 - mse: 2753.4548 - val_loss: 25.1728 - val_mse: 2681.7434\n",
      "Epoch 13/100\n",
      "2131/2131 [==============================] - 16s 7ms/step - loss: 25.1857 - mse: 2747.8589 - val_loss: 25.3118 - val_mse: 2668.7957\n"
     ]
    },
    {
     "name": "stderr",
     "output_type": "stream",
     "text": [
      "2023/06/26 17:37:19 WARNING mlflow.tensorflow: Failed to infer model signature: could not sample data to infer model signature: Cannot log input example or model signature for input with type <class 'pandas.core.frame.DataFrame'>. TensorFlow Keras autologging can only log input examples and model signatures for the following input types: numpy.ndarray, dict[string -> numpy.ndarray], tensorflow.keras.utils.Sequence, and tensorflow.data.Dataset (TensorFlow >= 2.1.0 required)\n",
      "2023/06/26 17:37:19 WARNING mlflow.tensorflow: You are saving a TensorFlow Core model or Keras model without a signature. Inference with mlflow.pyfunc.spark_udf() will not work unless the model's pyfunc representation accepts pandas DataFrames as inference inputs.\n"
     ]
    },
    {
     "name": "stdout",
     "output_type": "stream",
     "text": [
      "INFO:tensorflow:Assets written to: /tmp/tmpvphbuaop/model/data/model/assets\n"
     ]
    },
    {
     "name": "stderr",
     "output_type": "stream",
     "text": [
      "2023/06/26 17:37:32 WARNING mlflow.utils.environment: Encountered an unexpected error while inferring pip requirements (model URI: /tmp/tmpvphbuaop/model, flavor: tensorflow), fall back to return ['tensorflow==2.10.0']. Set logging level to DEBUG to see the full traceback.\n",
      "2023/06/26 17:37:32 INFO mlflow.tracking.fluent: Autologging successfully enabled for tensorflow.\n"
     ]
    },
    {
     "name": "stdout",
     "output_type": "stream",
     "text": [
      "model #12: dense256_dense64_dense32\n"
     ]
    },
    {
     "name": "stderr",
     "output_type": "stream",
     "text": [
      "2023/06/26 17:37:32 INFO mlflow.tracking.fluent: Autologging successfully enabled for sklearn.\n",
      "2023/06/26 17:37:32 INFO mlflow.utils.autologging_utils: Created MLflow autologging run with ID '121b2294d5254fcc95f383c2725dab46', which will track hyperparameters, performance metrics, model artifacts, and lineage information for the current tensorflow workflow\n",
      "2023/06/26 17:37:32 WARNING mlflow.tensorflow: Unrecognized dataset type <class 'pandas.core.frame.DataFrame'>. Dataset logging skipped.\n",
      "2023/06/26 17:37:32 WARNING mlflow.tensorflow: Failed to log training dataset information to MLflow Tracking. Reason: 'DataFrame' object has no attribute 'flatten'\n"
     ]
    },
    {
     "name": "stdout",
     "output_type": "stream",
     "text": [
      "Epoch 1/100\n",
      "   1/2131 [..............................] - ETA: 45:08 - loss: 84.3454 - mse: 8972.3955WARNING:tensorflow:Callback method `on_train_batch_end` is slow compared to the batch time (batch time: 0.0044s vs `on_train_batch_end` time: 0.0049s). Check your callbacks.\n",
      "2131/2131 [==============================] - 20s 9ms/step - loss: 27.9883 - mse: 3058.9131 - val_loss: 25.9511 - val_mse: 2795.6738\n",
      "Epoch 2/100\n",
      "2131/2131 [==============================] - 16s 8ms/step - loss: 25.9069 - mse: 2818.1418 - val_loss: 25.5925 - val_mse: 2820.2280\n",
      "Epoch 3/100\n",
      "2131/2131 [==============================] - 18s 8ms/step - loss: 25.7503 - mse: 2800.5466 - val_loss: 25.6963 - val_mse: 2834.5918\n",
      "Epoch 4/100\n",
      "2131/2131 [==============================] - 15s 7ms/step - loss: 25.6196 - mse: 2785.6880 - val_loss: 25.4411 - val_mse: 2750.8535\n",
      "Epoch 5/100\n",
      "2131/2131 [==============================] - 15s 7ms/step - loss: 25.5259 - mse: 2781.0295 - val_loss: 25.4087 - val_mse: 2720.6133\n",
      "Epoch 6/100\n",
      "2131/2131 [==============================] - 17s 8ms/step - loss: 25.4297 - mse: 2778.3518 - val_loss: 25.2625 - val_mse: 2749.6050\n",
      "Epoch 7/100\n",
      "2131/2131 [==============================] - 16s 8ms/step - loss: 25.3808 - mse: 2768.5144 - val_loss: 25.6294 - val_mse: 2700.4324\n",
      "Epoch 8/100\n",
      "2131/2131 [==============================] - 19s 9ms/step - loss: 25.3074 - mse: 2768.5732 - val_loss: 25.6490 - val_mse: 2793.5378\n"
     ]
    },
    {
     "name": "stderr",
     "output_type": "stream",
     "text": [
      "2023/06/26 17:39:48 WARNING mlflow.tensorflow: Failed to infer model signature: could not sample data to infer model signature: Cannot log input example or model signature for input with type <class 'pandas.core.frame.DataFrame'>. TensorFlow Keras autologging can only log input examples and model signatures for the following input types: numpy.ndarray, dict[string -> numpy.ndarray], tensorflow.keras.utils.Sequence, and tensorflow.data.Dataset (TensorFlow >= 2.1.0 required)\n",
      "2023/06/26 17:39:48 WARNING mlflow.tensorflow: You are saving a TensorFlow Core model or Keras model without a signature. Inference with mlflow.pyfunc.spark_udf() will not work unless the model's pyfunc representation accepts pandas DataFrames as inference inputs.\n"
     ]
    },
    {
     "name": "stdout",
     "output_type": "stream",
     "text": [
      "INFO:tensorflow:Assets written to: /tmp/tmpcnlb3s7b/model/data/model/assets\n"
     ]
    },
    {
     "name": "stderr",
     "output_type": "stream",
     "text": [
      "2023/06/26 17:40:04 WARNING mlflow.utils.environment: Encountered an unexpected error while inferring pip requirements (model URI: /tmp/tmpcnlb3s7b/model, flavor: tensorflow), fall back to return ['tensorflow==2.10.0']. Set logging level to DEBUG to see the full traceback.\n",
      "2023/06/26 17:40:04 INFO mlflow.tracking.fluent: Autologging successfully enabled for tensorflow.\n"
     ]
    },
    {
     "name": "stdout",
     "output_type": "stream",
     "text": [
      "model #13: dense256_dense64_dense64\n"
     ]
    },
    {
     "name": "stderr",
     "output_type": "stream",
     "text": [
      "2023/06/26 17:40:04 INFO mlflow.tracking.fluent: Autologging successfully enabled for sklearn.\n",
      "2023/06/26 17:40:04 INFO mlflow.utils.autologging_utils: Created MLflow autologging run with ID '2356e800ad1149fdb845ab66b9123ada', which will track hyperparameters, performance metrics, model artifacts, and lineage information for the current tensorflow workflow\n",
      "2023/06/26 17:40:04 WARNING mlflow.tensorflow: Unrecognized dataset type <class 'pandas.core.frame.DataFrame'>. Dataset logging skipped.\n",
      "2023/06/26 17:40:04 WARNING mlflow.tensorflow: Failed to log training dataset information to MLflow Tracking. Reason: 'DataFrame' object has no attribute 'flatten'\n"
     ]
    },
    {
     "name": "stdout",
     "output_type": "stream",
     "text": [
      "Epoch 1/100\n",
      "   1/2131 [..............................] - ETA: 1:05:25 - loss: 83.4599 - mse: 8139.0488WARNING:tensorflow:Callback method `on_train_batch_end` is slow compared to the batch time (batch time: 0.0035s vs `on_train_batch_end` time: 0.0040s). Check your callbacks.\n",
      "2131/2131 [==============================] - 21s 9ms/step - loss: 28.1124 - mse: 3067.9585 - val_loss: 26.2357 - val_mse: 2881.7188\n",
      "Epoch 2/100\n",
      "2131/2131 [==============================] - 15s 7ms/step - loss: 26.1489 - mse: 2847.8843 - val_loss: 25.8095 - val_mse: 2823.1084\n",
      "Epoch 3/100\n",
      "2131/2131 [==============================] - 13s 6ms/step - loss: 25.7769 - mse: 2806.4822 - val_loss: 25.4705 - val_mse: 2796.8948\n",
      "Epoch 4/100\n",
      "2131/2131 [==============================] - 11s 5ms/step - loss: 25.6386 - mse: 2788.9407 - val_loss: 25.8857 - val_mse: 2827.1306\n",
      "Epoch 5/100\n",
      "2131/2131 [==============================] - 17s 8ms/step - loss: 25.5775 - mse: 2781.1431 - val_loss: 25.4777 - val_mse: 2809.5051\n"
     ]
    },
    {
     "name": "stderr",
     "output_type": "stream",
     "text": [
      "2023/06/26 17:41:23 WARNING mlflow.tensorflow: Failed to infer model signature: could not sample data to infer model signature: Cannot log input example or model signature for input with type <class 'pandas.core.frame.DataFrame'>. TensorFlow Keras autologging can only log input examples and model signatures for the following input types: numpy.ndarray, dict[string -> numpy.ndarray], tensorflow.keras.utils.Sequence, and tensorflow.data.Dataset (TensorFlow >= 2.1.0 required)\n",
      "2023/06/26 17:41:23 WARNING mlflow.tensorflow: You are saving a TensorFlow Core model or Keras model without a signature. Inference with mlflow.pyfunc.spark_udf() will not work unless the model's pyfunc representation accepts pandas DataFrames as inference inputs.\n"
     ]
    },
    {
     "name": "stdout",
     "output_type": "stream",
     "text": [
      "INFO:tensorflow:Assets written to: /tmp/tmplst4kar6/model/data/model/assets\n"
     ]
    },
    {
     "name": "stderr",
     "output_type": "stream",
     "text": [
      "2023/06/26 17:41:33 WARNING mlflow.utils.environment: Encountered an unexpected error while inferring pip requirements (model URI: /tmp/tmplst4kar6/model, flavor: tensorflow), fall back to return ['tensorflow==2.10.0']. Set logging level to DEBUG to see the full traceback.\n",
      "2023/06/26 17:41:33 INFO mlflow.tracking.fluent: Autologging successfully enabled for tensorflow.\n",
      "2023/06/26 17:41:33 INFO mlflow.tracking.fluent: Autologging successfully enabled for sklearn.\n"
     ]
    },
    {
     "name": "stdout",
     "output_type": "stream",
     "text": [
      "model #14: dense256_dense128_dense32\n"
     ]
    },
    {
     "name": "stderr",
     "output_type": "stream",
     "text": [
      "2023/06/26 17:41:34 INFO mlflow.utils.autologging_utils: Created MLflow autologging run with ID '4ebe57df2bd545fbadc6e4a7082ee2ba', which will track hyperparameters, performance metrics, model artifacts, and lineage information for the current tensorflow workflow\n",
      "2023/06/26 17:41:34 WARNING mlflow.tensorflow: Unrecognized dataset type <class 'pandas.core.frame.DataFrame'>. Dataset logging skipped.\n",
      "2023/06/26 17:41:34 WARNING mlflow.tensorflow: Failed to log training dataset information to MLflow Tracking. Reason: 'DataFrame' object has no attribute 'flatten'\n"
     ]
    },
    {
     "name": "stdout",
     "output_type": "stream",
     "text": [
      "Epoch 1/100\n",
      "2131/2131 [==============================] - 20s 9ms/step - loss: 27.6491 - mse: 3017.8333 - val_loss: 25.8525 - val_mse: 2831.8428\n",
      "Epoch 2/100\n",
      "2131/2131 [==============================] - 12s 6ms/step - loss: 25.9259 - mse: 2814.3328 - val_loss: 25.8319 - val_mse: 2855.8892\n",
      "Epoch 3/100\n",
      "2131/2131 [==============================] - 9s 4ms/step - loss: 25.7389 - mse: 2795.2241 - val_loss: 25.5578 - val_mse: 2776.5291\n",
      "Epoch 4/100\n",
      "2131/2131 [==============================] - 11s 5ms/step - loss: 25.6532 - mse: 2789.4880 - val_loss: 25.4794 - val_mse: 2761.6384\n",
      "Epoch 5/100\n",
      "2131/2131 [==============================] - 13s 6ms/step - loss: 25.5611 - mse: 2784.5972 - val_loss: 25.5284 - val_mse: 2792.5488\n",
      "Epoch 6/100\n",
      "2131/2131 [==============================] - 14s 7ms/step - loss: 25.5228 - mse: 2777.3489 - val_loss: 25.5174 - val_mse: 2859.3320\n"
     ]
    },
    {
     "name": "stderr",
     "output_type": "stream",
     "text": [
      "2023/06/26 17:42:53 WARNING mlflow.tensorflow: Failed to infer model signature: could not sample data to infer model signature: Cannot log input example or model signature for input with type <class 'pandas.core.frame.DataFrame'>. TensorFlow Keras autologging can only log input examples and model signatures for the following input types: numpy.ndarray, dict[string -> numpy.ndarray], tensorflow.keras.utils.Sequence, and tensorflow.data.Dataset (TensorFlow >= 2.1.0 required)\n",
      "2023/06/26 17:42:53 WARNING mlflow.tensorflow: You are saving a TensorFlow Core model or Keras model without a signature. Inference with mlflow.pyfunc.spark_udf() will not work unless the model's pyfunc representation accepts pandas DataFrames as inference inputs.\n"
     ]
    },
    {
     "name": "stdout",
     "output_type": "stream",
     "text": [
      "INFO:tensorflow:Assets written to: /tmp/tmpp3bbs97e/model/data/model/assets\n"
     ]
    },
    {
     "name": "stderr",
     "output_type": "stream",
     "text": [
      "2023/06/26 17:43:01 WARNING mlflow.utils.environment: Encountered an unexpected error while inferring pip requirements (model URI: /tmp/tmpp3bbs97e/model, flavor: tensorflow), fall back to return ['tensorflow==2.10.0']. Set logging level to DEBUG to see the full traceback.\n",
      "2023/06/26 17:43:01 INFO mlflow.tracking.fluent: Autologging successfully enabled for tensorflow.\n",
      "2023/06/26 17:43:01 INFO mlflow.tracking.fluent: Autologging successfully enabled for sklearn.\n"
     ]
    },
    {
     "name": "stdout",
     "output_type": "stream",
     "text": [
      "model #15: dense256_dense128_dense64\n"
     ]
    },
    {
     "name": "stderr",
     "output_type": "stream",
     "text": [
      "2023/06/26 17:43:01 INFO mlflow.utils.autologging_utils: Created MLflow autologging run with ID '3a69e309546c4fc781b5b79ce20797eb', which will track hyperparameters, performance metrics, model artifacts, and lineage information for the current tensorflow workflow\n",
      "2023/06/26 17:43:01 WARNING mlflow.tensorflow: Unrecognized dataset type <class 'pandas.core.frame.DataFrame'>. Dataset logging skipped.\n",
      "2023/06/26 17:43:01 WARNING mlflow.tensorflow: Failed to log training dataset information to MLflow Tracking. Reason: 'DataFrame' object has no attribute 'flatten'\n"
     ]
    },
    {
     "name": "stdout",
     "output_type": "stream",
     "text": [
      "Epoch 1/100\n",
      "2131/2131 [==============================] - 16s 7ms/step - loss: 27.9528 - mse: 3054.5459 - val_loss: 26.3467 - val_mse: 2778.2603\n",
      "Epoch 2/100\n",
      "2131/2131 [==============================] - 14s 7ms/step - loss: 26.0113 - mse: 2824.3994 - val_loss: 25.6404 - val_mse: 2809.5498\n",
      "Epoch 3/100\n",
      "2131/2131 [==============================] - 14s 6ms/step - loss: 25.8138 - mse: 2799.5408 - val_loss: 26.8008 - val_mse: 2767.3354\n",
      "Epoch 4/100\n",
      "2131/2131 [==============================] - 13s 6ms/step - loss: 25.6949 - mse: 2792.6289 - val_loss: 25.5257 - val_mse: 2802.0154\n",
      "Epoch 5/100\n",
      "2131/2131 [==============================] - 13s 6ms/step - loss: 25.5927 - mse: 2782.3413 - val_loss: 25.4386 - val_mse: 2700.9175\n",
      "Epoch 6/100\n",
      "2131/2131 [==============================] - 15s 7ms/step - loss: 25.5359 - mse: 2776.4573 - val_loss: 25.2851 - val_mse: 2785.0886\n",
      "Epoch 7/100\n",
      "2131/2131 [==============================] - 13s 6ms/step - loss: 25.4493 - mse: 2776.2683 - val_loss: 25.2096 - val_mse: 2771.8740\n",
      "Epoch 8/100\n",
      "2131/2131 [==============================] - 12s 6ms/step - loss: 25.3644 - mse: 2771.3289 - val_loss: 25.1338 - val_mse: 2730.3110\n",
      "Epoch 9/100\n",
      "2131/2131 [==============================] - 17s 8ms/step - loss: 25.3331 - mse: 2756.0605 - val_loss: 25.0306 - val_mse: 2714.1738\n",
      "Epoch 10/100\n",
      "2131/2131 [==============================] - 14s 6ms/step - loss: 25.2629 - mse: 2746.7397 - val_loss: 25.1200 - val_mse: 2753.0254\n",
      "Epoch 11/100\n",
      "2131/2131 [==============================] - 17s 8ms/step - loss: 25.1883 - mse: 2738.4111 - val_loss: 25.3864 - val_mse: 2800.7358\n"
     ]
    },
    {
     "name": "stderr",
     "output_type": "stream",
     "text": [
      "2023/06/26 17:45:40 WARNING mlflow.tensorflow: Failed to infer model signature: could not sample data to infer model signature: Cannot log input example or model signature for input with type <class 'pandas.core.frame.DataFrame'>. TensorFlow Keras autologging can only log input examples and model signatures for the following input types: numpy.ndarray, dict[string -> numpy.ndarray], tensorflow.keras.utils.Sequence, and tensorflow.data.Dataset (TensorFlow >= 2.1.0 required)\n",
      "2023/06/26 17:45:40 WARNING mlflow.tensorflow: You are saving a TensorFlow Core model or Keras model without a signature. Inference with mlflow.pyfunc.spark_udf() will not work unless the model's pyfunc representation accepts pandas DataFrames as inference inputs.\n"
     ]
    },
    {
     "name": "stdout",
     "output_type": "stream",
     "text": [
      "INFO:tensorflow:Assets written to: /tmp/tmp_j7a83l0/model/data/model/assets\n"
     ]
    },
    {
     "name": "stderr",
     "output_type": "stream",
     "text": [
      "2023/06/26 17:45:47 WARNING mlflow.utils.environment: Encountered an unexpected error while inferring pip requirements (model URI: /tmp/tmp_j7a83l0/model, flavor: tensorflow), fall back to return ['tensorflow==2.10.0']. Set logging level to DEBUG to see the full traceback.\n",
      "2023/06/26 17:45:48 INFO mlflow.tracking.fluent: Autologging successfully enabled for tensorflow.\n"
     ]
    },
    {
     "name": "stdout",
     "output_type": "stream",
     "text": [
      "model #16: dense256_dense128_dense128\n"
     ]
    },
    {
     "name": "stderr",
     "output_type": "stream",
     "text": [
      "2023/06/26 17:45:56 INFO mlflow.tracking.fluent: Autologging successfully enabled for sklearn.\n",
      "2023/06/26 17:45:56 INFO mlflow.utils.autologging_utils: Created MLflow autologging run with ID '9cf9953b6ffa4a8d8f74ab3fb5418469', which will track hyperparameters, performance metrics, model artifacts, and lineage information for the current tensorflow workflow\n",
      "2023/06/26 17:45:56 WARNING mlflow.tensorflow: Unrecognized dataset type <class 'pandas.core.frame.DataFrame'>. Dataset logging skipped.\n",
      "2023/06/26 17:45:56 WARNING mlflow.tensorflow: Failed to log training dataset information to MLflow Tracking. Reason: 'DataFrame' object has no attribute 'flatten'\n"
     ]
    },
    {
     "name": "stdout",
     "output_type": "stream",
     "text": [
      "Epoch 1/100\n",
      "   1/2131 [..............................] - ETA: 57:30 - loss: 72.8985 - mse: 6264.2324WARNING:tensorflow:Callback method `on_train_batch_end` is slow compared to the batch time (batch time: 0.0044s vs `on_train_batch_end` time: 0.0054s). Check your callbacks.\n",
      "2131/2131 [==============================] - 16s 7ms/step - loss: 27.6968 - mse: 3004.8308 - val_loss: 25.9645 - val_mse: 2727.7817\n",
      "Epoch 2/100\n",
      "2131/2131 [==============================] - 13s 6ms/step - loss: 25.8910 - mse: 2810.8389 - val_loss: 25.8003 - val_mse: 2757.4285\n",
      "Epoch 3/100\n",
      "2131/2131 [==============================] - 13s 6ms/step - loss: 25.7340 - mse: 2794.9741 - val_loss: 25.4013 - val_mse: 2803.8860\n",
      "Epoch 4/100\n",
      "2131/2131 [==============================] - 13s 6ms/step - loss: 25.5863 - mse: 2787.7351 - val_loss: 25.6469 - val_mse: 2725.1047\n",
      "Epoch 5/100\n",
      "2131/2131 [==============================] - 14s 6ms/step - loss: 25.5267 - mse: 2783.9661 - val_loss: 26.1139 - val_mse: 2680.2251\n"
     ]
    },
    {
     "name": "stderr",
     "output_type": "stream",
     "text": [
      "2023/06/26 17:47:06 WARNING mlflow.tensorflow: Failed to infer model signature: could not sample data to infer model signature: Cannot log input example or model signature for input with type <class 'pandas.core.frame.DataFrame'>. TensorFlow Keras autologging can only log input examples and model signatures for the following input types: numpy.ndarray, dict[string -> numpy.ndarray], tensorflow.keras.utils.Sequence, and tensorflow.data.Dataset (TensorFlow >= 2.1.0 required)\n",
      "2023/06/26 17:47:06 WARNING mlflow.tensorflow: You are saving a TensorFlow Core model or Keras model without a signature. Inference with mlflow.pyfunc.spark_udf() will not work unless the model's pyfunc representation accepts pandas DataFrames as inference inputs.\n"
     ]
    },
    {
     "name": "stdout",
     "output_type": "stream",
     "text": [
      "INFO:tensorflow:Assets written to: /tmp/tmpplmjw9ii/model/data/model/assets\n"
     ]
    },
    {
     "name": "stderr",
     "output_type": "stream",
     "text": [
      "2023/06/26 17:47:14 WARNING mlflow.utils.environment: Encountered an unexpected error while inferring pip requirements (model URI: /tmp/tmpplmjw9ii/model, flavor: tensorflow), fall back to return ['tensorflow==2.10.0']. Set logging level to DEBUG to see the full traceback.\n",
      "2023/06/26 17:47:15 INFO mlflow.tracking.fluent: Autologging successfully enabled for tensorflow.\n",
      "2023/06/26 17:47:15 INFO mlflow.tracking.fluent: Autologging successfully enabled for sklearn.\n"
     ]
    },
    {
     "name": "stdout",
     "output_type": "stream",
     "text": [
      "model #17: dense256_dense256_dense32\n"
     ]
    },
    {
     "name": "stderr",
     "output_type": "stream",
     "text": [
      "2023/06/26 17:47:15 INFO mlflow.utils.autologging_utils: Created MLflow autologging run with ID '95437d0b8bff42af8eb2ccc535abb030', which will track hyperparameters, performance metrics, model artifacts, and lineage information for the current tensorflow workflow\n",
      "2023/06/26 17:47:15 WARNING mlflow.tensorflow: Unrecognized dataset type <class 'pandas.core.frame.DataFrame'>. Dataset logging skipped.\n",
      "2023/06/26 17:47:15 WARNING mlflow.tensorflow: Failed to log training dataset information to MLflow Tracking. Reason: 'DataFrame' object has no attribute 'flatten'\n"
     ]
    },
    {
     "name": "stdout",
     "output_type": "stream",
     "text": [
      "Epoch 1/100\n",
      "   1/2131 [..............................] - ETA: 44:34 - loss: 69.8418 - mse: 6081.8276WARNING:tensorflow:Callback method `on_train_batch_end` is slow compared to the batch time (batch time: 0.0058s vs `on_train_batch_end` time: 0.0060s). Check your callbacks.\n",
      "2131/2131 [==============================] - 18s 8ms/step - loss: 27.6919 - mse: 3013.3423 - val_loss: 26.0171 - val_mse: 2746.4246\n",
      "Epoch 2/100\n",
      "2131/2131 [==============================] - 15s 7ms/step - loss: 25.9225 - mse: 2810.5425 - val_loss: 25.5466 - val_mse: 2761.1675\n",
      "Epoch 3/100\n",
      "2131/2131 [==============================] - 21s 10ms/step - loss: 25.7367 - mse: 2791.0503 - val_loss: 25.8522 - val_mse: 2820.3262\n",
      "Epoch 4/100\n",
      "2131/2131 [==============================] - 19s 9ms/step - loss: 25.6212 - mse: 2783.7529 - val_loss: 25.3324 - val_mse: 2734.9397\n",
      "Epoch 5/100\n",
      "2131/2131 [==============================] - 14s 7ms/step - loss: 25.5900 - mse: 2780.8193 - val_loss: 25.3992 - val_mse: 2776.9385\n",
      "Epoch 6/100\n",
      "2131/2131 [==============================] - 13s 6ms/step - loss: 25.5418 - mse: 2784.0342 - val_loss: 25.2956 - val_mse: 2759.6545\n",
      "Epoch 7/100\n",
      "2131/2131 [==============================] - 17s 8ms/step - loss: 25.4553 - mse: 2774.7595 - val_loss: 25.7867 - val_mse: 2846.6609\n",
      "Epoch 8/100\n",
      "2131/2131 [==============================] - 25s 12ms/step - loss: 25.3872 - mse: 2771.5645 - val_loss: 25.1103 - val_mse: 2779.4746\n",
      "Epoch 9/100\n",
      "2131/2131 [==============================] - 15s 7ms/step - loss: 25.3765 - mse: 2768.3379 - val_loss: 25.0273 - val_mse: 2724.4253\n",
      "Epoch 10/100\n",
      "2131/2131 [==============================] - 15s 7ms/step - loss: 25.2645 - mse: 2756.3093 - val_loss: 25.3130 - val_mse: 2798.5388\n",
      "Epoch 11/100\n",
      "2131/2131 [==============================] - 25s 12ms/step - loss: 25.2210 - mse: 2743.4880 - val_loss: 24.9979 - val_mse: 2721.2178\n",
      "Epoch 12/100\n",
      "2131/2131 [==============================] - 50s 23ms/step - loss: 25.1809 - mse: 2737.1799 - val_loss: 24.9646 - val_mse: 2693.5781\n",
      "Epoch 13/100\n",
      "2131/2131 [==============================] - 51s 24ms/step - loss: 25.1556 - mse: 2733.3738 - val_loss: 24.9600 - val_mse: 2674.3098\n",
      "Epoch 14/100\n",
      "2131/2131 [==============================] - 52s 24ms/step - loss: 25.1110 - mse: 2718.0208 - val_loss: 25.0571 - val_mse: 2769.1890\n",
      "Epoch 15/100\n",
      "2131/2131 [==============================] - 43s 20ms/step - loss: 25.0647 - mse: 2716.6108 - val_loss: 25.0580 - val_mse: 2727.6938\n"
     ]
    },
    {
     "name": "stderr",
     "output_type": "stream",
     "text": [
      "2023/06/26 17:53:49 WARNING mlflow.tensorflow: Failed to infer model signature: could not sample data to infer model signature: Cannot log input example or model signature for input with type <class 'pandas.core.frame.DataFrame'>. TensorFlow Keras autologging can only log input examples and model signatures for the following input types: numpy.ndarray, dict[string -> numpy.ndarray], tensorflow.keras.utils.Sequence, and tensorflow.data.Dataset (TensorFlow >= 2.1.0 required)\n",
      "2023/06/26 17:53:49 WARNING mlflow.tensorflow: You are saving a TensorFlow Core model or Keras model without a signature. Inference with mlflow.pyfunc.spark_udf() will not work unless the model's pyfunc representation accepts pandas DataFrames as inference inputs.\n"
     ]
    },
    {
     "name": "stdout",
     "output_type": "stream",
     "text": [
      "INFO:tensorflow:Assets written to: /tmp/tmp3_5uvq8h/model/data/model/assets\n"
     ]
    },
    {
     "name": "stderr",
     "output_type": "stream",
     "text": [
      "2023/06/26 17:54:18 WARNING mlflow.utils.environment: Encountered an unexpected error while inferring pip requirements (model URI: /tmp/tmp3_5uvq8h/model, flavor: tensorflow), fall back to return ['tensorflow==2.10.0']. Set logging level to DEBUG to see the full traceback.\n",
      "2023/06/26 17:54:18 INFO mlflow.tracking.fluent: Autologging successfully enabled for tensorflow.\n"
     ]
    },
    {
     "name": "stdout",
     "output_type": "stream",
     "text": [
      "model #18: dense256_dense256_dense64\n"
     ]
    },
    {
     "name": "stderr",
     "output_type": "stream",
     "text": [
      "2023/06/26 17:54:19 INFO mlflow.tracking.fluent: Autologging successfully enabled for sklearn.\n",
      "2023/06/26 17:54:19 INFO mlflow.utils.autologging_utils: Created MLflow autologging run with ID '890f54a2c3d445bcbf7fcabddc970194', which will track hyperparameters, performance metrics, model artifacts, and lineage information for the current tensorflow workflow\n",
      "2023/06/26 17:54:19 WARNING mlflow.tensorflow: Unrecognized dataset type <class 'pandas.core.frame.DataFrame'>. Dataset logging skipped.\n",
      "2023/06/26 17:54:19 WARNING mlflow.tensorflow: Failed to log training dataset information to MLflow Tracking. Reason: 'DataFrame' object has no attribute 'flatten'\n"
     ]
    },
    {
     "name": "stdout",
     "output_type": "stream",
     "text": [
      "Epoch 1/100\n",
      "   1/2131 [..............................] - ETA: 2:09:12 - loss: 83.5616 - mse: 10116.6953WARNING:tensorflow:Callback method `on_train_batch_end` is slow compared to the batch time (batch time: 0.0046s vs `on_train_batch_end` time: 0.0048s). Check your callbacks.\n",
      "2131/2131 [==============================] - 28s 12ms/step - loss: 27.6774 - mse: 3017.9434 - val_loss: 26.2435 - val_mse: 2908.7358\n",
      "Epoch 2/100\n",
      "2131/2131 [==============================] - 39s 18ms/step - loss: 25.9081 - mse: 2807.3140 - val_loss: 25.7493 - val_mse: 2865.5593\n",
      "Epoch 3/100\n",
      "2131/2131 [==============================] - 52s 24ms/step - loss: 25.7705 - mse: 2800.5911 - val_loss: 25.7888 - val_mse: 2715.2131\n",
      "Epoch 4/100\n",
      "2131/2131 [==============================] - 26s 12ms/step - loss: 25.6423 - mse: 2790.6553 - val_loss: 25.3702 - val_mse: 2759.9114\n",
      "Epoch 5/100\n",
      "2131/2131 [==============================] - 11s 5ms/step - loss: 25.6357 - mse: 2787.9714 - val_loss: 25.3739 - val_mse: 2751.7742\n",
      "Epoch 6/100\n",
      "2131/2131 [==============================] - 14s 6ms/step - loss: 25.5378 - mse: 2777.2244 - val_loss: 26.3460 - val_mse: 2911.9968\n"
     ]
    },
    {
     "name": "stderr",
     "output_type": "stream",
     "text": [
      "2023/06/26 17:57:10 WARNING mlflow.tensorflow: Failed to infer model signature: could not sample data to infer model signature: Cannot log input example or model signature for input with type <class 'pandas.core.frame.DataFrame'>. TensorFlow Keras autologging can only log input examples and model signatures for the following input types: numpy.ndarray, dict[string -> numpy.ndarray], tensorflow.keras.utils.Sequence, and tensorflow.data.Dataset (TensorFlow >= 2.1.0 required)\n",
      "2023/06/26 17:57:10 WARNING mlflow.tensorflow: You are saving a TensorFlow Core model or Keras model without a signature. Inference with mlflow.pyfunc.spark_udf() will not work unless the model's pyfunc representation accepts pandas DataFrames as inference inputs.\n"
     ]
    },
    {
     "name": "stdout",
     "output_type": "stream",
     "text": [
      "INFO:tensorflow:Assets written to: /tmp/tmp1_gqmjkg/model/data/model/assets\n"
     ]
    },
    {
     "name": "stderr",
     "output_type": "stream",
     "text": [
      "2023/06/26 17:57:18 WARNING mlflow.utils.environment: Encountered an unexpected error while inferring pip requirements (model URI: /tmp/tmp1_gqmjkg/model, flavor: tensorflow), fall back to return ['tensorflow==2.10.0']. Set logging level to DEBUG to see the full traceback.\n",
      "2023/06/26 17:57:18 INFO mlflow.tracking.fluent: Autologging successfully enabled for tensorflow.\n",
      "2023/06/26 17:57:18 INFO mlflow.tracking.fluent: Autologging successfully enabled for sklearn.\n"
     ]
    },
    {
     "name": "stdout",
     "output_type": "stream",
     "text": [
      "model #19: dense256_dense256_dense128\n"
     ]
    },
    {
     "name": "stderr",
     "output_type": "stream",
     "text": [
      "2023/06/26 17:57:18 INFO mlflow.utils.autologging_utils: Created MLflow autologging run with ID '24763413ea5545e990081fa00a4cb910', which will track hyperparameters, performance metrics, model artifacts, and lineage information for the current tensorflow workflow\n",
      "2023/06/26 17:57:18 WARNING mlflow.tensorflow: Unrecognized dataset type <class 'pandas.core.frame.DataFrame'>. Dataset logging skipped.\n",
      "2023/06/26 17:57:18 WARNING mlflow.tensorflow: Failed to log training dataset information to MLflow Tracking. Reason: 'DataFrame' object has no attribute 'flatten'\n"
     ]
    },
    {
     "name": "stdout",
     "output_type": "stream",
     "text": [
      "Epoch 1/100\n",
      "2131/2131 [==============================] - 28s 12ms/step - loss: 27.3898 - mse: 2976.0208 - val_loss: 25.8855 - val_mse: 2843.7996\n",
      "Epoch 2/100\n",
      "2131/2131 [==============================] - 25s 12ms/step - loss: 25.8738 - mse: 2810.9336 - val_loss: 25.5261 - val_mse: 2784.6992\n",
      "Epoch 3/100\n",
      "2131/2131 [==============================] - 18s 9ms/step - loss: 25.7099 - mse: 2793.8381 - val_loss: 25.3234 - val_mse: 2737.5134\n",
      "Epoch 4/100\n",
      "2131/2131 [==============================] - 26s 12ms/step - loss: 25.6635 - mse: 2791.2578 - val_loss: 25.2734 - val_mse: 2779.5237\n",
      "Epoch 5/100\n",
      "2131/2131 [==============================] - 35s 16ms/step - loss: 25.5250 - mse: 2778.9211 - val_loss: 25.1639 - val_mse: 2760.1536\n",
      "Epoch 6/100\n",
      "2131/2131 [==============================] - 24s 11ms/step - loss: 25.4776 - mse: 2773.8755 - val_loss: 25.2617 - val_mse: 2724.7039\n",
      "Epoch 7/100\n",
      "2131/2131 [==============================] - 19s 9ms/step - loss: 25.3805 - mse: 2765.6829 - val_loss: 25.2530 - val_mse: 2706.2527\n"
     ]
    },
    {
     "name": "stderr",
     "output_type": "stream",
     "text": [
      "2023/06/26 18:00:13 WARNING mlflow.tensorflow: Failed to infer model signature: could not sample data to infer model signature: Cannot log input example or model signature for input with type <class 'pandas.core.frame.DataFrame'>. TensorFlow Keras autologging can only log input examples and model signatures for the following input types: numpy.ndarray, dict[string -> numpy.ndarray], tensorflow.keras.utils.Sequence, and tensorflow.data.Dataset (TensorFlow >= 2.1.0 required)\n",
      "2023/06/26 18:00:13 WARNING mlflow.tensorflow: You are saving a TensorFlow Core model or Keras model without a signature. Inference with mlflow.pyfunc.spark_udf() will not work unless the model's pyfunc representation accepts pandas DataFrames as inference inputs.\n"
     ]
    },
    {
     "name": "stdout",
     "output_type": "stream",
     "text": [
      "INFO:tensorflow:Assets written to: /tmp/tmpbghx5xdt/model/data/model/assets\n"
     ]
    },
    {
     "name": "stderr",
     "output_type": "stream",
     "text": [
      "2023/06/26 18:00:22 WARNING mlflow.utils.environment: Encountered an unexpected error while inferring pip requirements (model URI: /tmp/tmpbghx5xdt/model, flavor: tensorflow), fall back to return ['tensorflow==2.10.0']. Set logging level to DEBUG to see the full traceback.\n",
      "2023/06/26 18:00:22 INFO mlflow.tracking.fluent: Autologging successfully enabled for tensorflow.\n",
      "2023/06/26 18:00:22 INFO mlflow.tracking.fluent: Autologging successfully enabled for sklearn.\n"
     ]
    },
    {
     "name": "stdout",
     "output_type": "stream",
     "text": [
      "model #20: dense256_dense256_dense256\n"
     ]
    },
    {
     "name": "stderr",
     "output_type": "stream",
     "text": [
      "2023/06/26 18:00:22 INFO mlflow.utils.autologging_utils: Created MLflow autologging run with ID '859ccfa32bab4655bcbc8485d7e00a9f', which will track hyperparameters, performance metrics, model artifacts, and lineage information for the current tensorflow workflow\n",
      "2023/06/26 18:00:22 WARNING mlflow.tensorflow: Unrecognized dataset type <class 'pandas.core.frame.DataFrame'>. Dataset logging skipped.\n",
      "2023/06/26 18:00:22 WARNING mlflow.tensorflow: Failed to log training dataset information to MLflow Tracking. Reason: 'DataFrame' object has no attribute 'flatten'\n"
     ]
    },
    {
     "name": "stdout",
     "output_type": "stream",
     "text": [
      "Epoch 1/100\n",
      "2131/2131 [==============================] - 19s 8ms/step - loss: 27.2943 - mse: 2956.5032 - val_loss: 26.3318 - val_mse: 2945.0532\n",
      "Epoch 2/100\n",
      "2131/2131 [==============================] - 17s 8ms/step - loss: 25.9179 - mse: 2808.1533 - val_loss: 26.1294 - val_mse: 2895.6270\n",
      "Epoch 3/100\n",
      "2131/2131 [==============================] - 17s 8ms/step - loss: 25.7669 - mse: 2800.2026 - val_loss: 26.2854 - val_mse: 2737.3403\n",
      "Epoch 4/100\n",
      "2131/2131 [==============================] - 18s 9ms/step - loss: 25.6338 - mse: 2791.4138 - val_loss: 25.4398 - val_mse: 2832.0422\n",
      "Epoch 5/100\n",
      "2131/2131 [==============================] - 33s 16ms/step - loss: 25.5633 - mse: 2783.8779 - val_loss: 25.4969 - val_mse: 2843.4353\n",
      "Epoch 6/100\n",
      "2131/2131 [==============================] - 23s 11ms/step - loss: 25.5136 - mse: 2786.5237 - val_loss: 26.8299 - val_mse: 2934.4243\n"
     ]
    },
    {
     "name": "stderr",
     "output_type": "stream",
     "text": [
      "2023/06/26 18:02:29 WARNING mlflow.tensorflow: Failed to infer model signature: could not sample data to infer model signature: Cannot log input example or model signature for input with type <class 'pandas.core.frame.DataFrame'>. TensorFlow Keras autologging can only log input examples and model signatures for the following input types: numpy.ndarray, dict[string -> numpy.ndarray], tensorflow.keras.utils.Sequence, and tensorflow.data.Dataset (TensorFlow >= 2.1.0 required)\n",
      "2023/06/26 18:02:29 WARNING mlflow.tensorflow: You are saving a TensorFlow Core model or Keras model without a signature. Inference with mlflow.pyfunc.spark_udf() will not work unless the model's pyfunc representation accepts pandas DataFrames as inference inputs.\n"
     ]
    },
    {
     "name": "stdout",
     "output_type": "stream",
     "text": [
      "INFO:tensorflow:Assets written to: /tmp/tmp_5_l1ft0/model/data/model/assets\n"
     ]
    },
    {
     "name": "stderr",
     "output_type": "stream",
     "text": [
      "2023/06/26 18:02:39 WARNING mlflow.utils.environment: Encountered an unexpected error while inferring pip requirements (model URI: /tmp/tmp_5_l1ft0/model, flavor: tensorflow), fall back to return ['tensorflow==2.10.0']. Set logging level to DEBUG to see the full traceback.\n"
     ]
    }
   ],
   "source": [
    "records = train_models(models, X_train_preproc, y_train, X_val_preproc, y_val)"
   ]
  },
  {
   "cell_type": "code",
   "execution_count": 110,
   "metadata": {},
   "outputs": [],
   "source": [
    "exp_3_layers = pd.DataFrame(records).drop(['model', 'train_history'], axis=1)\n",
    "exp_3_layers.to_csv('model_architecture_3_layers.csv')"
   ]
  },
  {
   "cell_type": "code",
   "execution_count": 114,
   "metadata": {},
   "outputs": [
    {
     "data": {
      "text/html": [
       "<div>\n",
       "<style scoped>\n",
       "    .dataframe tbody tr th:only-of-type {\n",
       "        vertical-align: middle;\n",
       "    }\n",
       "\n",
       "    .dataframe tbody tr th {\n",
       "        vertical-align: top;\n",
       "    }\n",
       "\n",
       "    .dataframe thead th {\n",
       "        text-align: right;\n",
       "    }\n",
       "</style>\n",
       "<table border=\"1\" class=\"dataframe\">\n",
       "  <thead>\n",
       "    <tr style=\"text-align: right;\">\n",
       "      <th></th>\n",
       "      <th>model_name</th>\n",
       "      <th>min_val_loss</th>\n",
       "      <th>train_loss</th>\n",
       "    </tr>\n",
       "  </thead>\n",
       "  <tbody>\n",
       "    <tr>\n",
       "      <th>5</th>\n",
       "      <td>dense128_dense64_dense32</td>\n",
       "      <td>24.889011</td>\n",
       "      <td>25.121851</td>\n",
       "    </tr>\n",
       "    <tr>\n",
       "      <th>16</th>\n",
       "      <td>dense256_dense256_dense32</td>\n",
       "      <td>24.959993</td>\n",
       "      <td>25.155613</td>\n",
       "    </tr>\n",
       "    <tr>\n",
       "      <th>7</th>\n",
       "      <td>dense128_dense128_dense32</td>\n",
       "      <td>24.992544</td>\n",
       "      <td>25.152374</td>\n",
       "    </tr>\n",
       "    <tr>\n",
       "      <th>14</th>\n",
       "      <td>dense256_dense128_dense64</td>\n",
       "      <td>25.030584</td>\n",
       "      <td>25.333105</td>\n",
       "    </tr>\n",
       "    <tr>\n",
       "      <th>10</th>\n",
       "      <td>dense256_dense32_dense32</td>\n",
       "      <td>25.040279</td>\n",
       "      <td>25.276236</td>\n",
       "    </tr>\n",
       "    <tr>\n",
       "      <th>18</th>\n",
       "      <td>dense256_dense256_dense128</td>\n",
       "      <td>25.163895</td>\n",
       "      <td>25.525047</td>\n",
       "    </tr>\n",
       "    <tr>\n",
       "      <th>1</th>\n",
       "      <td>dense64_dense32_dense32</td>\n",
       "      <td>25.242655</td>\n",
       "      <td>25.464148</td>\n",
       "    </tr>\n",
       "    <tr>\n",
       "      <th>0</th>\n",
       "      <td>dense32_dense32_dense32</td>\n",
       "      <td>25.261032</td>\n",
       "      <td>25.445284</td>\n",
       "    </tr>\n",
       "    <tr>\n",
       "      <th>11</th>\n",
       "      <td>dense256_dense64_dense32</td>\n",
       "      <td>25.262478</td>\n",
       "      <td>25.429745</td>\n",
       "    </tr>\n",
       "    <tr>\n",
       "      <th>6</th>\n",
       "      <td>dense128_dense64_dense64</td>\n",
       "      <td>25.320202</td>\n",
       "      <td>25.544189</td>\n",
       "    </tr>\n",
       "    <tr>\n",
       "      <th>9</th>\n",
       "      <td>dense128_dense128_dense128</td>\n",
       "      <td>25.320845</td>\n",
       "      <td>25.613651</td>\n",
       "    </tr>\n",
       "    <tr>\n",
       "      <th>3</th>\n",
       "      <td>dense64_dense64_dense64</td>\n",
       "      <td>25.337664</td>\n",
       "      <td>25.642330</td>\n",
       "    </tr>\n",
       "    <tr>\n",
       "      <th>8</th>\n",
       "      <td>dense128_dense128_dense64</td>\n",
       "      <td>25.358433</td>\n",
       "      <td>25.615017</td>\n",
       "    </tr>\n",
       "    <tr>\n",
       "      <th>17</th>\n",
       "      <td>dense256_dense256_dense64</td>\n",
       "      <td>25.370228</td>\n",
       "      <td>25.642336</td>\n",
       "    </tr>\n",
       "    <tr>\n",
       "      <th>2</th>\n",
       "      <td>dense64_dense64_dense32</td>\n",
       "      <td>25.371675</td>\n",
       "      <td>25.590845</td>\n",
       "    </tr>\n",
       "    <tr>\n",
       "      <th>15</th>\n",
       "      <td>dense256_dense128_dense128</td>\n",
       "      <td>25.401272</td>\n",
       "      <td>25.733961</td>\n",
       "    </tr>\n",
       "    <tr>\n",
       "      <th>19</th>\n",
       "      <td>dense256_dense256_dense256</td>\n",
       "      <td>25.439840</td>\n",
       "      <td>25.633766</td>\n",
       "    </tr>\n",
       "    <tr>\n",
       "      <th>12</th>\n",
       "      <td>dense256_dense64_dense64</td>\n",
       "      <td>25.470474</td>\n",
       "      <td>25.776880</td>\n",
       "    </tr>\n",
       "    <tr>\n",
       "      <th>4</th>\n",
       "      <td>dense128_dense32_dense32</td>\n",
       "      <td>25.475765</td>\n",
       "      <td>25.648977</td>\n",
       "    </tr>\n",
       "    <tr>\n",
       "      <th>13</th>\n",
       "      <td>dense256_dense128_dense32</td>\n",
       "      <td>25.479395</td>\n",
       "      <td>25.653227</td>\n",
       "    </tr>\n",
       "  </tbody>\n",
       "</table>\n",
       "</div>"
      ],
      "text/plain": [
       "                    model_name  min_val_loss  train_loss\n",
       "5     dense128_dense64_dense32     24.889011   25.121851\n",
       "16   dense256_dense256_dense32     24.959993   25.155613\n",
       "7    dense128_dense128_dense32     24.992544   25.152374\n",
       "14   dense256_dense128_dense64     25.030584   25.333105\n",
       "10    dense256_dense32_dense32     25.040279   25.276236\n",
       "18  dense256_dense256_dense128     25.163895   25.525047\n",
       "1      dense64_dense32_dense32     25.242655   25.464148\n",
       "0      dense32_dense32_dense32     25.261032   25.445284\n",
       "11    dense256_dense64_dense32     25.262478   25.429745\n",
       "6     dense128_dense64_dense64     25.320202   25.544189\n",
       "9   dense128_dense128_dense128     25.320845   25.613651\n",
       "3      dense64_dense64_dense64     25.337664   25.642330\n",
       "8    dense128_dense128_dense64     25.358433   25.615017\n",
       "17   dense256_dense256_dense64     25.370228   25.642336\n",
       "2      dense64_dense64_dense32     25.371675   25.590845\n",
       "15  dense256_dense128_dense128     25.401272   25.733961\n",
       "19  dense256_dense256_dense256     25.439840   25.633766\n",
       "12    dense256_dense64_dense64     25.470474   25.776880\n",
       "4     dense128_dense32_dense32     25.475765   25.648977\n",
       "13   dense256_dense128_dense32     25.479395   25.653227"
      ]
     },
     "execution_count": 114,
     "metadata": {},
     "output_type": "execute_result"
    }
   ],
   "source": [
    "exp_3_layers.sort_values('min_val_loss')"
   ]
  },
  {
   "attachments": {},
   "cell_type": "markdown",
   "metadata": {},
   "source": [
    "## Prediction"
   ]
  },
  {
   "cell_type": "code",
   "execution_count": 32,
   "metadata": {},
   "outputs": [
    {
     "name": "stdout",
     "output_type": "stream",
     "text": [
      "304/304 [==============================] - 4s 7ms/step\n"
     ]
    }
   ],
   "source": [
    "pred = model.predict(X_test_preproc)"
   ]
  },
  {
   "cell_type": "code",
   "execution_count": 36,
   "metadata": {},
   "outputs": [],
   "source": [
    "from datetime import datetime\n",
    "\n",
    "exp_name = 'amazing-finch-125'\n",
    "\n",
    "pred_df = pd.concat((test_df[['id']], pd.DataFrame(pred)), axis=1).rename(columns={0: 'site_eui'})\n",
    "pred_df.to_csv(f'pred/{datetime.now().strftime(\"%Y%m%d-%H%M%S\")}_{exp_name}.csv', index=False)"
   ]
  },
  {
   "cell_type": "code",
   "execution_count": null,
   "metadata": {},
   "outputs": [],
   "source": []
  }
 ],
 "metadata": {
  "kernelspec": {
   "display_name": "lewagon",
   "language": "python",
   "name": "python3"
  },
  "language_info": {
   "codemirror_mode": {
    "name": "ipython",
    "version": 3
   },
   "file_extension": ".py",
   "mimetype": "text/x-python",
   "name": "python",
   "nbconvert_exporter": "python",
   "pygments_lexer": "ipython3",
   "version": "3.10.6"
  },
  "orig_nbformat": 4
 },
 "nbformat": 4,
 "nbformat_minor": 2
}
